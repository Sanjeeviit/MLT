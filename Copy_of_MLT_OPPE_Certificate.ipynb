{
  "nbformat": 4,
  "nbformat_minor": 0,
  "metadata": {
    "colab": {
      "provenance": [],
      "include_colab_link": true
    },
    "kernelspec": {
      "name": "python3",
      "display_name": "Python 3"
    },
    "language_info": {
      "name": "python"
    }
  },
  "cells": [
    {
      "cell_type": "markdown",
      "metadata": {
        "id": "view-in-github",
        "colab_type": "text"
      },
      "source": [
        "<a href=\"https://colab.research.google.com/github/Sanjeeviit/MLT/blob/main/Copy_of_MLT_OPPE_Certificate.ipynb\" target=\"_parent\"><img src=\"https://colab.research.google.com/assets/colab-badge.svg\" alt=\"Open In Colab\"/></a>"
      ]
    },
    {
      "cell_type": "code",
      "source": [
        "!pip install reportlab"
      ],
      "metadata": {
        "colab": {
          "base_uri": "https://localhost:8080/"
        },
        "id": "7zw14dWqMXe9",
        "outputId": "d6e09dc8-7709-4735-b79f-2b843e93f139"
      },
      "execution_count": null,
      "outputs": [
        {
          "output_type": "stream",
          "name": "stdout",
          "text": [
            "Collecting reportlab\n",
            "  Downloading reportlab-4.2.5-py3-none-any.whl.metadata (1.5 kB)\n",
            "Requirement already satisfied: pillow>=9.0.0 in /usr/local/lib/python3.10/dist-packages (from reportlab) (10.4.0)\n",
            "Requirement already satisfied: chardet in /usr/local/lib/python3.10/dist-packages (from reportlab) (5.2.0)\n",
            "Downloading reportlab-4.2.5-py3-none-any.whl (1.9 MB)\n",
            "\u001b[2K   \u001b[90m━━━━━━━━━━━━━━━━━━━━━━━━━━━━━━━━━━━━━━━━\u001b[0m \u001b[32m1.9/1.9 MB\u001b[0m \u001b[31m14.3 MB/s\u001b[0m eta \u001b[36m0:00:00\u001b[0m\n",
            "\u001b[?25hInstalling collected packages: reportlab\n",
            "Successfully installed reportlab-4.2.5\n"
          ]
        }
      ]
    },
    {
      "cell_type": "code",
      "source": [
        "!pip install PyPDF2"
      ],
      "metadata": {
        "colab": {
          "base_uri": "https://localhost:8080/"
        },
        "id": "E99P4IhLMpIU",
        "outputId": "41848881-84f9-44f0-ebe1-038c2724720d"
      },
      "execution_count": null,
      "outputs": [
        {
          "output_type": "stream",
          "name": "stdout",
          "text": [
            "Collecting PyPDF2\n",
            "  Downloading pypdf2-3.0.1-py3-none-any.whl.metadata (6.8 kB)\n",
            "Downloading pypdf2-3.0.1-py3-none-any.whl (232 kB)\n",
            "\u001b[2K   \u001b[90m━━━━━━━━━━━━━━━━━━━━━━━━━━━━━━━━━━━━━━━━\u001b[0m \u001b[32m232.6/232.6 kB\u001b[0m \u001b[31m3.2 MB/s\u001b[0m eta \u001b[36m0:00:00\u001b[0m\n",
            "\u001b[?25hInstalling collected packages: PyPDF2\n",
            "Successfully installed PyPDF2-3.0.1\n"
          ]
        }
      ]
    },
    {
      "cell_type": "code",
      "source": [
        "from reportlab.pdfgen import canvas\n",
        "from reportlab.pdfbase import pdfmetrics\n",
        "from reportlab.pdfbase.ttfonts import TTFont\n",
        "from PyPDF2 import PdfReader, PdfWriter\n",
        "from io import BytesIO\n",
        "from decimal import Decimal\n",
        "from urllib.request import urlretrieve\n",
        "from google.colab import files"
      ],
      "metadata": {
        "id": "Wap8A3R0wrej"
      },
      "execution_count": null,
      "outputs": []
    },
    {
      "cell_type": "code",
      "source": [
        "def modify_certificate(input_pdf, output_pdf, name, roll_number):\n",
        "\n",
        "    page, packet = PdfReader(input_pdf).pages[0], BytesIO()\n",
        "    page_width, page_height = page.mediabox.width, page.mediabox.height\n",
        "\n",
        "    can = canvas.Canvas(packet, pagesize=(page_width, page_height))\n",
        "    can.setFont(\"Khula-Bold\", 20.2)\n",
        "    can.drawString((float(page_width) - float(can.stringWidth(name, \"Khula-Bold\", 20.2))) / 2, 308, name)\n",
        "    can.drawString((float(page_width) - float(can.stringWidth(roll_number, \"Khula-Bold\", 20.2))) / 2, 285, roll_number)\n",
        "    can.save()\n",
        "\n",
        "    packet.seek(0)\n",
        "    new_pdf, output = PdfReader(packet), PdfWriter()\n",
        "\n",
        "    page.merge_page(new_pdf.pages[0])\n",
        "    output.add_page(page)\n",
        "\n",
        "    with open(output_pdf, \"wb\") as f_out:\n",
        "        output.write(f_out)"
      ],
      "metadata": {
        "id": "vi6lZSAIQEIq"
      },
      "execution_count": null,
      "outputs": []
    },
    {
      "cell_type": "code",
      "execution_count": null,
      "metadata": {
        "id": "Z1CTDVGYMKzB"
      },
      "outputs": [],
      "source": [
        "def modify_result(input_pdf, output_pdf, name, roll_number):\n",
        "\n",
        "    page, packet = PdfReader(input_pdf).pages[0], BytesIO()\n",
        "\n",
        "    email = '<' + roll_number.lower() + '@ds.study.iitm.ac.in>'\n",
        "\n",
        "    can = canvas.Canvas(packet, pagesize=(page.mediabox.width, page.mediabox.height))\n",
        "    can.setFont(\"Helvetica-Bold\", 9.6)\n",
        "    can.setFillGray(0.53)\n",
        "    can.drawString(float(page.mediabox.width) - float(can.stringWidth(name + ' ' + email, \"Helvetica-Bold\", 9.6)) - 32, 770, name + ' ' + email)\n",
        "    can.setFillColorRGB(0, 0, 0)\n",
        "    can.setFont(\"Helvetica\", 9.5)\n",
        "    can.drawString(87, 682, email)\n",
        "    can.drawString(120, 614.5, marks)\n",
        "    can.save()\n",
        "\n",
        "    packet.seek(0)\n",
        "    new_pdf, output = PdfReader(packet), PdfWriter()\n",
        "\n",
        "    page.merge_page(new_pdf.pages[0])\n",
        "    output.add_page(page)\n",
        "\n",
        "    with open(output_pdf, \"wb\") as f_out:\n",
        "        output.write(f_out)"
      ]
    },
    {
      "cell_type": "code",
      "source": [
        "urlretrieve(\"https://drive.usercontent.google.com/download?id=1yRYdwVnp9Pygz8ib-3wnTdM0yWmRCYPt&export=download\", \"/content/khula-bold.ttf\")\n",
        "urlretrieve(\"https://drive.usercontent.google.com/download?id=1JRnYRSdYB_DdijZpYdbyBTvSBQMXCkwW&export=download\", \"/content/oppe_certificate_format.pdf\")\n",
        "urlretrieve(\"https://drive.usercontent.google.com/download?id=10SK8hWa6vN0kSFnHIdBDP4sdgLYaeynX&export=download\", \"/content/oppe_result_format.pdf\");"
      ],
      "metadata": {
        "id": "nW0HqsI5Hi4F"
      },
      "execution_count": null,
      "outputs": []
    },
    {
      "cell_type": "code",
      "source": [
        "pdfmetrics.registerFont(TTFont('Khula-Bold', '/content/khula-bold.ttf'))"
      ],
      "metadata": {
        "id": "Pf4TWhsqBCCk"
      },
      "execution_count": null,
      "outputs": []
    },
    {
      "cell_type": "code",
      "source": [
        "name, roll, marks = (input(\"Enter your \"+i+\": \").upper() for i in ['name', 'roll', 'marks'])"
      ],
      "metadata": {
        "colab": {
          "base_uri": "https://localhost:8080/"
        },
        "id": "J221G7S-PVDb",
        "outputId": "3f396353-c203-42b6-f93b-3ff340c0ea11"
      },
      "execution_count": null,
      "outputs": [
        {
          "name": "stdout",
          "output_type": "stream",
          "text": [
            "Enter your name: Sanjeev sah\n",
            "Enter your roll: 22F10000711\n",
            "Enter your marks: 87\n"
          ]
        }
      ]
    },
    {
      "cell_type": "code",
      "source": [
        "modify_certificate(\"/content/oppe_certificate_format.pdf\", \"/content/\"+roll+\"_oppe_certificate.pdf\", name, roll)\n",
        "modify_result(\"/content/oppe_result_format.pdf\", \"/content/\"+roll+\"_oppe_result.pdf\", name, roll)"
      ],
      "metadata": {
        "id": "cSP0UuMUuTo8"
      },
      "execution_count": null,
      "outputs": []
    },
    {
      "cell_type": "code",
      "source": [
        "files.download(\"/content/\"+roll+\"_oppe_certificate.pdf\")\n",
        "files.download(\"/content/\"+roll+\"_oppe_result.pdf\")"
      ],
      "metadata": {
        "id": "2da1Mmrrw4TJ",
        "colab": {
          "base_uri": "https://localhost:8080/",
          "height": 17
        },
        "outputId": "8bbc774c-8305-49ea-df80-a823ba220c12"
      },
      "execution_count": null,
      "outputs": [
        {
          "output_type": "display_data",
          "data": {
            "text/plain": [
              "<IPython.core.display.Javascript object>"
            ],
            "application/javascript": [
              "\n",
              "    async function download(id, filename, size) {\n",
              "      if (!google.colab.kernel.accessAllowed) {\n",
              "        return;\n",
              "      }\n",
              "      const div = document.createElement('div');\n",
              "      const label = document.createElement('label');\n",
              "      label.textContent = `Downloading \"${filename}\": `;\n",
              "      div.appendChild(label);\n",
              "      const progress = document.createElement('progress');\n",
              "      progress.max = size;\n",
              "      div.appendChild(progress);\n",
              "      document.body.appendChild(div);\n",
              "\n",
              "      const buffers = [];\n",
              "      let downloaded = 0;\n",
              "\n",
              "      const channel = await google.colab.kernel.comms.open(id);\n",
              "      // Send a message to notify the kernel that we're ready.\n",
              "      channel.send({})\n",
              "\n",
              "      for await (const message of channel.messages) {\n",
              "        // Send a message to notify the kernel that we're ready.\n",
              "        channel.send({})\n",
              "        if (message.buffers) {\n",
              "          for (const buffer of message.buffers) {\n",
              "            buffers.push(buffer);\n",
              "            downloaded += buffer.byteLength;\n",
              "            progress.value = downloaded;\n",
              "          }\n",
              "        }\n",
              "      }\n",
              "      const blob = new Blob(buffers, {type: 'application/binary'});\n",
              "      const a = document.createElement('a');\n",
              "      a.href = window.URL.createObjectURL(blob);\n",
              "      a.download = filename;\n",
              "      div.appendChild(a);\n",
              "      a.click();\n",
              "      div.remove();\n",
              "    }\n",
              "  "
            ]
          },
          "metadata": {}
        },
        {
          "output_type": "display_data",
          "data": {
            "text/plain": [
              "<IPython.core.display.Javascript object>"
            ],
            "application/javascript": [
              "download(\"download_4f229da5-dc42-47ec-96f9-b161ca25a33b\", \"22F10000711_oppe_certificate.pdf\", 3671922)"
            ]
          },
          "metadata": {}
        },
        {
          "output_type": "display_data",
          "data": {
            "text/plain": [
              "<IPython.core.display.Javascript object>"
            ],
            "application/javascript": [
              "\n",
              "    async function download(id, filename, size) {\n",
              "      if (!google.colab.kernel.accessAllowed) {\n",
              "        return;\n",
              "      }\n",
              "      const div = document.createElement('div');\n",
              "      const label = document.createElement('label');\n",
              "      label.textContent = `Downloading \"${filename}\": `;\n",
              "      div.appendChild(label);\n",
              "      const progress = document.createElement('progress');\n",
              "      progress.max = size;\n",
              "      div.appendChild(progress);\n",
              "      document.body.appendChild(div);\n",
              "\n",
              "      const buffers = [];\n",
              "      let downloaded = 0;\n",
              "\n",
              "      const channel = await google.colab.kernel.comms.open(id);\n",
              "      // Send a message to notify the kernel that we're ready.\n",
              "      channel.send({})\n",
              "\n",
              "      for await (const message of channel.messages) {\n",
              "        // Send a message to notify the kernel that we're ready.\n",
              "        channel.send({})\n",
              "        if (message.buffers) {\n",
              "          for (const buffer of message.buffers) {\n",
              "            buffers.push(buffer);\n",
              "            downloaded += buffer.byteLength;\n",
              "            progress.value = downloaded;\n",
              "          }\n",
              "        }\n",
              "      }\n",
              "      const blob = new Blob(buffers, {type: 'application/binary'});\n",
              "      const a = document.createElement('a');\n",
              "      a.href = window.URL.createObjectURL(blob);\n",
              "      a.download = filename;\n",
              "      div.appendChild(a);\n",
              "      a.click();\n",
              "      div.remove();\n",
              "    }\n",
              "  "
            ]
          },
          "metadata": {}
        },
        {
          "output_type": "display_data",
          "data": {
            "text/plain": [
              "<IPython.core.display.Javascript object>"
            ],
            "application/javascript": [
              "download(\"download_eea73985-65b2-4dff-bdca-435667fdf2f2\", \"22F10000711_oppe_result.pdf\", 109547)"
            ]
          },
          "metadata": {}
        }
      ]
    }
  ]
}