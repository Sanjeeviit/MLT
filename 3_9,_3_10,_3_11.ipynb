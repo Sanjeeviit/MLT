{
  "cells": [
    {
      "cell_type": "markdown",
      "metadata": {
        "id": "view-in-github",
        "colab_type": "text"
      },
      "source": [
        "<a href=\"https://colab.research.google.com/github/Sanjeeviit/MLT/blob/main/3_9%2C_3_10%2C_3_11.ipynb\" target=\"_parent\"><img src=\"https://colab.research.google.com/assets/colab-badge.svg\" alt=\"Open In Colab\"/></a>"
      ]
    },
    {
      "cell_type": "markdown",
      "metadata": {
        "id": "5Qf0I7P9qxA4"
      },
      "source": [
        "# **Data Pre-processing Techniques**\n",
        "\n",
        "---\n",
        "\n"
      ]
    },
    {
      "cell_type": "markdown",
      "metadata": {
        "id": "MR_zdcDnSdTc"
      },
      "source": [
        "Data preprocessing involves several transformations that are applied to the raw data to make it more amenable for learning. It is carried out before using it for model training or predicton.\n",
        "\n",
        "There are many pre-processing techniques for\n",
        "*   Data cleaning\n",
        "    *   Data Imputation\n",
        "    *   Feature scaling\n",
        "*   Feature transformation\n",
        "    *   Polynomial Features\n",
        "    *   Discretization\n",
        "    *   Handling categorical features\n",
        "    *   Custom Transformers\n",
        "    *   Composite Transformers\n",
        "        * Apply transformation to diverse features\n",
        "        * TargetTransformedRegressor\n",
        "*   Feature Selection\n",
        "    * Filter based feature selection\n",
        "    * Wrapper based feature selection\n",
        "*   Feature Extraction\n",
        "    * PCA\n",
        "\n",
        "The transformations are applied in a specific order and the order can be specified via `Pipeline`.  We need to apply different transformations based on the feature type.  `FeatureUnion` helps us perform that task and combine outputs from multiple transformations into a single transformed feature matrix.\n",
        "We will also study as how to visualize this pipeline."
      ]
    },
    {
      "cell_type": "markdown",
      "metadata": {
        "id": "AuAujBrcTzTs"
      },
      "source": [
        "# Importing basic libraries\n",
        "\n",
        "In this colab, we are importing libraries as needed.  However it is a good practice to have all imports in one cell - arranged in an alphabetical order.  This helps us weed out any duplicate imports and some such issues."
      ]
    },
    {
      "cell_type": "code",
      "execution_count": 1,
      "metadata": {
        "id": "uQQA3YImrUvm"
      },
      "outputs": [],
      "source": [
        "import numpy as np\n",
        "import matplotlib.pyplot as plt\n",
        "import pandas as pd\n",
        "import seaborn as sns\n",
        "sns.set_theme(style=\"whitegrid\")"
      ]
    },
    {
      "cell_type": "markdown",
      "metadata": {
        "id": "RXnELe5U4c9a"
      },
      "source": [
        "# **1. Feature Extraction**"
      ]
    },
    {
      "cell_type": "markdown",
      "metadata": {
        "id": "vTLCSa3E0EWl"
      },
      "source": [
        "## DictVectorizer"
      ]
    },
    {
      "cell_type": "markdown",
      "metadata": {
        "id": "Y9GN9xdLxMpz"
      },
      "source": [
        "Many a times the data is present as a **list of dictionary objects**.  ML algorithms expect the data in **matrix form** with shape $(n, m)$ where $n$ is the number of samples and $m$ is the number of features.\n",
        "\n",
        "`DictVectorizer` **converts** a *list of dictionary objects to feature matrix*."
      ]
    },
    {
      "cell_type": "markdown",
      "metadata": {
        "id": "aBS3dJwSSXj3"
      },
      "source": [
        "Let's create a sample data for demo purpose containing `age` and `height` of children.\n",
        "\n",
        "> Each record/sample is a dictionary with two keys `age` and `height`, and corresponding values."
      ]
    },
    {
      "cell_type": "code",
      "execution_count": 2,
      "metadata": {
        "id": "XHPGYwdxxGFM"
      },
      "outputs": [],
      "source": [
        "data = [{'age': 4, 'height':96.0},\n",
        "        {'age': 1, 'height':73.9},\n",
        "        {'age': 3, 'height':88.9},\n",
        "        {'age': 2, 'height':81.6}]"
      ]
    },
    {
      "cell_type": "code",
      "source": [
        "data_1 = [{'age':40},{'weight':36}]\n",
        "from sklearn.feature_extraction import DictVectorizer\n",
        "dv = DictVectorizer(sparse =True)\n",
        "dtx=dv.fit_transform(data_1)\n",
        "dtxtoarray=dtx.toarray()\n",
        "dtxtoarray\n"
      ],
      "metadata": {
        "colab": {
          "base_uri": "https://localhost:8080/"
        },
        "id": "58x42GGO6kVV",
        "outputId": "6e0442ab-2884-4b8e-9dd6-ab9d418236bf"
      },
      "execution_count": 8,
      "outputs": [
        {
          "output_type": "execute_result",
          "data": {
            "text/plain": [
              "array([[40.,  0.],\n",
              "       [ 0., 36.]])"
            ]
          },
          "metadata": {},
          "execution_count": 8
        }
      ]
    },
    {
      "cell_type": "code",
      "source": [
        "data_2 = [{'age':40},{'weight':36}]\n",
        "from sklearn.feature_extraction import DictVectorizer\n",
        "dv = DictVectorizer(sparse =False)\n",
        "dtx=dv.fit_transform(data_2)\n",
        "dtx"
      ],
      "metadata": {
        "colab": {
          "base_uri": "https://localhost:8080/"
        },
        "id": "GH3F4tS87pAc",
        "outputId": "a873efca-5b4e-49d6-b795-f31cf0b4f9ee"
      },
      "execution_count": 9,
      "outputs": [
        {
          "output_type": "execute_result",
          "data": {
            "text/plain": [
              "array([[40.,  0.],\n",
              "       [ 0., 36.]])"
            ]
          },
          "metadata": {},
          "execution_count": 9
        }
      ]
    },
    {
      "cell_type": "markdown",
      "metadata": {
        "id": "MmadoisbytGE"
      },
      "source": [
        "> There are 4 data samples with 2 features each.  \n",
        "\n",
        "Let's make use of `DictVectorizer` to convert the list of dictionary objects to the feature matrix."
      ]
    },
    {
      "cell_type": "code",
      "source": [
        "from sklearn.feature_extraction import DictVectorizer\n",
        "dv = DictVectorizer(sparse=False)\n",
        "data_transformed = dv.fit_transform(data)\n",
        "data_transformed"
      ],
      "metadata": {
        "colab": {
          "base_uri": "https://localhost:8080/"
        },
        "id": "JajYNi5o7_PU",
        "outputId": "f3d5f3a7-9f9a-4377-c287-6f6a56823353"
      },
      "execution_count": 10,
      "outputs": [
        {
          "output_type": "execute_result",
          "data": {
            "text/plain": [
              "array([[ 4. , 96. ],\n",
              "       [ 1. , 73.9],\n",
              "       [ 3. , 88.9],\n",
              "       [ 2. , 81.6]])"
            ]
          },
          "metadata": {},
          "execution_count": 10
        }
      ]
    },
    {
      "cell_type": "code",
      "execution_count": 11,
      "metadata": {
        "colab": {
          "base_uri": "https://localhost:8080/"
        },
        "id": "YI6xy3rHxRH4",
        "outputId": "ef0fbf3e-3a86-42ae-8604-3a7cde68cc82"
      },
      "outputs": [
        {
          "output_type": "execute_result",
          "data": {
            "text/plain": [
              "array([[ 4. , 96. ],\n",
              "       [ 1. , 73.9],\n",
              "       [ 3. , 88.9],\n",
              "       [ 2. , 81.6]])"
            ]
          },
          "metadata": {},
          "execution_count": 11
        }
      ],
      "source": [
        "from sklearn.feature_extraction import DictVectorizer\n",
        "dv = DictVectorizer(sparse=False)\n",
        "data_transformed = dv.fit_transform(data)\n",
        "data_transformed"
      ]
    },
    {
      "cell_type": "code",
      "execution_count": null,
      "metadata": {
        "colab": {
          "base_uri": "https://localhost:8080/"
        },
        "id": "iLFadV-NBuRQ",
        "outputId": "ff3e6a9f-6b51-4af1-834c-224f0b939989"
      },
      "outputs": [
        {
          "data": {
            "text/plain": [
              "(4, 2)"
            ]
          },
          "execution_count": 4,
          "metadata": {},
          "output_type": "execute_result"
        }
      ],
      "source": [
        "data_transformed.shape"
      ]
    },
    {
      "cell_type": "markdown",
      "metadata": {
        "id": "UBLQRtXg4sqL"
      },
      "source": [
        "The transformed data is in a feature matrix form - 4 samples with 2 features each i.e. shape $(4, 2)$"
      ]
    },
    {
      "cell_type": "markdown",
      "metadata": {
        "id": "uUfeX9TBrFfu"
      },
      "source": [
        "# **2. Data Imputation**"
      ]
    },
    {
      "cell_type": "markdown",
      "metadata": {
        "id": "CajL-T6Q17x3"
      },
      "source": [
        "*  Many machine learning algorithms need full feature matrix and they may not work in presence of missing data.\n",
        "\n",
        "*  Data imputation identifies **missing values** in each feature of the dataset and **replaces** them with an **appropriate value** based on a **fixed strategy** such as\n",
        "  *    **mean** or **median** or **mode** of that feature.\n",
        "  *    **use specified constant** value."
      ]
    },
    {
      "cell_type": "markdown",
      "metadata": {
        "id": "IuhynSSW-8Qx"
      },
      "source": [
        "Sklearn library provides ```\n",
        "sklearn.impute.SimpleImputer ``` class for this purpose."
      ]
    },
    {
      "cell_type": "code",
      "execution_count": null,
      "metadata": {
        "id": "GloTfWE3qpje"
      },
      "outputs": [],
      "source": [
        "from sklearn.impute import SimpleImputer"
      ]
    },
    {
      "cell_type": "markdown",
      "metadata": {
        "id": "dju6noDaDTFK"
      },
      "source": [
        "Some of its important parameters:\n",
        "\n",
        "\n",
        "*    *missing_values:* Could be `int`, `float`, `str`, `np.nan` or `None`. Default is `np.nan`.\n",
        "\n",
        "*    *strategy:* string, default is 'mean'.  One the following strategies can be used:\n",
        "\n",
        ">*     ``` mean``` - missing values are replaced using the **mean** along each column\n",
        ">*     ``` median``` - missing values are replaced using the **median** along each column\n",
        ">*     ```most_frequent``` - missing values are replaced using the **most frequent** along each column\n",
        ">*    ```constant```  - missing values are replaced with value specified in  `fill_value` argument.\n",
        "\n",
        "* `add_indicator` is a boolean parameter that when set to `True` returns **missing value indicators** in `indicator_` member variable.  \n",
        "\n",
        "**Note**:\n",
        "- `mean` and `mode` strategies can only be used with numeric data.\n",
        "- `most_frequent` and `constant` strategies can be used with strings or numeric data."
      ]
    },
    {
      "cell_type": "markdown",
      "metadata": {
        "id": "nyroLJCdDAOq"
      },
      "source": [
        "## Data imputation on real world dataset\n",
        "\n",
        "Let's perform data imputation on real world dataset.  We will be using [heart-disease dataset from uci machine learning repository](https://archive.ics.uci.edu/ml/datasets/heart+disease) for this purpose.  We will load this dataset from csv file."
      ]
    },
    {
      "cell_type": "code",
      "execution_count": 12,
      "metadata": {
        "id": "Xkqc6kieDgUf"
      },
      "outputs": [],
      "source": [
        "cols = ['age', 'sex', 'cp', 'trestbps', 'chol',  'fbs', 'restecg', 'thalach', 'exang', 'oldpeak', 'slope','ca', 'thal', 'num']\n",
        "heart_data = pd.read_csv('https://archive.ics.uci.edu/ml/machine-learning-databases/heart-disease/processed.cleveland.data',header=None, names=cols)"
      ]
    },
    {
      "cell_type": "code",
      "source": [
        "w3p = pd.read_csv('/content/DataPreprocessingGraded_dataset.csv')\n",
        "w3p.head()"
      ],
      "metadata": {
        "colab": {
          "base_uri": "https://localhost:8080/",
          "height": 206
        },
        "id": "Iuq90-9l9Coj",
        "outputId": "61b04471-459f-4ed7-bf58-e433a295874b"
      },
      "execution_count": 14,
      "outputs": [
        {
          "output_type": "execute_result",
          "data": {
            "text/plain": [
              "    V1    V2       V3    V4        V5 Target\n",
              "0  2.0  50.0  12500.0  98.0  NEGATIVE    YES\n",
              "1  0.0  13.0   3250.0  28.0  NEGATIVE    YES\n",
              "2    ?     ?   4000.0  35.0  NEGATIVE    YES\n",
              "3    ?  20.0   5000.0  45.0  NEGATIVE    YES\n",
              "4  1.0  24.0   6000.0  77.0  NEGATIVE     NO"
            ],
            "text/html": [
              "\n",
              "  <div id=\"df-de077466-9e4f-4ef6-b61b-2297eb4ac098\" class=\"colab-df-container\">\n",
              "    <div>\n",
              "<style scoped>\n",
              "    .dataframe tbody tr th:only-of-type {\n",
              "        vertical-align: middle;\n",
              "    }\n",
              "\n",
              "    .dataframe tbody tr th {\n",
              "        vertical-align: top;\n",
              "    }\n",
              "\n",
              "    .dataframe thead th {\n",
              "        text-align: right;\n",
              "    }\n",
              "</style>\n",
              "<table border=\"1\" class=\"dataframe\">\n",
              "  <thead>\n",
              "    <tr style=\"text-align: right;\">\n",
              "      <th></th>\n",
              "      <th>V1</th>\n",
              "      <th>V2</th>\n",
              "      <th>V3</th>\n",
              "      <th>V4</th>\n",
              "      <th>V5</th>\n",
              "      <th>Target</th>\n",
              "    </tr>\n",
              "  </thead>\n",
              "  <tbody>\n",
              "    <tr>\n",
              "      <th>0</th>\n",
              "      <td>2.0</td>\n",
              "      <td>50.0</td>\n",
              "      <td>12500.0</td>\n",
              "      <td>98.0</td>\n",
              "      <td>NEGATIVE</td>\n",
              "      <td>YES</td>\n",
              "    </tr>\n",
              "    <tr>\n",
              "      <th>1</th>\n",
              "      <td>0.0</td>\n",
              "      <td>13.0</td>\n",
              "      <td>3250.0</td>\n",
              "      <td>28.0</td>\n",
              "      <td>NEGATIVE</td>\n",
              "      <td>YES</td>\n",
              "    </tr>\n",
              "    <tr>\n",
              "      <th>2</th>\n",
              "      <td>?</td>\n",
              "      <td>?</td>\n",
              "      <td>4000.0</td>\n",
              "      <td>35.0</td>\n",
              "      <td>NEGATIVE</td>\n",
              "      <td>YES</td>\n",
              "    </tr>\n",
              "    <tr>\n",
              "      <th>3</th>\n",
              "      <td>?</td>\n",
              "      <td>20.0</td>\n",
              "      <td>5000.0</td>\n",
              "      <td>45.0</td>\n",
              "      <td>NEGATIVE</td>\n",
              "      <td>YES</td>\n",
              "    </tr>\n",
              "    <tr>\n",
              "      <th>4</th>\n",
              "      <td>1.0</td>\n",
              "      <td>24.0</td>\n",
              "      <td>6000.0</td>\n",
              "      <td>77.0</td>\n",
              "      <td>NEGATIVE</td>\n",
              "      <td>NO</td>\n",
              "    </tr>\n",
              "  </tbody>\n",
              "</table>\n",
              "</div>\n",
              "    <div class=\"colab-df-buttons\">\n",
              "\n",
              "  <div class=\"colab-df-container\">\n",
              "    <button class=\"colab-df-convert\" onclick=\"convertToInteractive('df-de077466-9e4f-4ef6-b61b-2297eb4ac098')\"\n",
              "            title=\"Convert this dataframe to an interactive table.\"\n",
              "            style=\"display:none;\">\n",
              "\n",
              "  <svg xmlns=\"http://www.w3.org/2000/svg\" height=\"24px\" viewBox=\"0 -960 960 960\">\n",
              "    <path d=\"M120-120v-720h720v720H120Zm60-500h600v-160H180v160Zm220 220h160v-160H400v160Zm0 220h160v-160H400v160ZM180-400h160v-160H180v160Zm440 0h160v-160H620v160ZM180-180h160v-160H180v160Zm440 0h160v-160H620v160Z\"/>\n",
              "  </svg>\n",
              "    </button>\n",
              "\n",
              "  <style>\n",
              "    .colab-df-container {\n",
              "      display:flex;\n",
              "      gap: 12px;\n",
              "    }\n",
              "\n",
              "    .colab-df-convert {\n",
              "      background-color: #E8F0FE;\n",
              "      border: none;\n",
              "      border-radius: 50%;\n",
              "      cursor: pointer;\n",
              "      display: none;\n",
              "      fill: #1967D2;\n",
              "      height: 32px;\n",
              "      padding: 0 0 0 0;\n",
              "      width: 32px;\n",
              "    }\n",
              "\n",
              "    .colab-df-convert:hover {\n",
              "      background-color: #E2EBFA;\n",
              "      box-shadow: 0px 1px 2px rgba(60, 64, 67, 0.3), 0px 1px 3px 1px rgba(60, 64, 67, 0.15);\n",
              "      fill: #174EA6;\n",
              "    }\n",
              "\n",
              "    .colab-df-buttons div {\n",
              "      margin-bottom: 4px;\n",
              "    }\n",
              "\n",
              "    [theme=dark] .colab-df-convert {\n",
              "      background-color: #3B4455;\n",
              "      fill: #D2E3FC;\n",
              "    }\n",
              "\n",
              "    [theme=dark] .colab-df-convert:hover {\n",
              "      background-color: #434B5C;\n",
              "      box-shadow: 0px 1px 3px 1px rgba(0, 0, 0, 0.15);\n",
              "      filter: drop-shadow(0px 1px 2px rgba(0, 0, 0, 0.3));\n",
              "      fill: #FFFFFF;\n",
              "    }\n",
              "  </style>\n",
              "\n",
              "    <script>\n",
              "      const buttonEl =\n",
              "        document.querySelector('#df-de077466-9e4f-4ef6-b61b-2297eb4ac098 button.colab-df-convert');\n",
              "      buttonEl.style.display =\n",
              "        google.colab.kernel.accessAllowed ? 'block' : 'none';\n",
              "\n",
              "      async function convertToInteractive(key) {\n",
              "        const element = document.querySelector('#df-de077466-9e4f-4ef6-b61b-2297eb4ac098');\n",
              "        const dataTable =\n",
              "          await google.colab.kernel.invokeFunction('convertToInteractive',\n",
              "                                                    [key], {});\n",
              "        if (!dataTable) return;\n",
              "\n",
              "        const docLinkHtml = 'Like what you see? Visit the ' +\n",
              "          '<a target=\"_blank\" href=https://colab.research.google.com/notebooks/data_table.ipynb>data table notebook</a>'\n",
              "          + ' to learn more about interactive tables.';\n",
              "        element.innerHTML = '';\n",
              "        dataTable['output_type'] = 'display_data';\n",
              "        await google.colab.output.renderOutput(dataTable, element);\n",
              "        const docLink = document.createElement('div');\n",
              "        docLink.innerHTML = docLinkHtml;\n",
              "        element.appendChild(docLink);\n",
              "      }\n",
              "    </script>\n",
              "  </div>\n",
              "\n",
              "\n",
              "<div id=\"df-f522b333-3c60-43fc-8a20-401b22312027\">\n",
              "  <button class=\"colab-df-quickchart\" onclick=\"quickchart('df-f522b333-3c60-43fc-8a20-401b22312027')\"\n",
              "            title=\"Suggest charts\"\n",
              "            style=\"display:none;\">\n",
              "\n",
              "<svg xmlns=\"http://www.w3.org/2000/svg\" height=\"24px\"viewBox=\"0 0 24 24\"\n",
              "     width=\"24px\">\n",
              "    <g>\n",
              "        <path d=\"M19 3H5c-1.1 0-2 .9-2 2v14c0 1.1.9 2 2 2h14c1.1 0 2-.9 2-2V5c0-1.1-.9-2-2-2zM9 17H7v-7h2v7zm4 0h-2V7h2v10zm4 0h-2v-4h2v4z\"/>\n",
              "    </g>\n",
              "</svg>\n",
              "  </button>\n",
              "\n",
              "<style>\n",
              "  .colab-df-quickchart {\n",
              "      --bg-color: #E8F0FE;\n",
              "      --fill-color: #1967D2;\n",
              "      --hover-bg-color: #E2EBFA;\n",
              "      --hover-fill-color: #174EA6;\n",
              "      --disabled-fill-color: #AAA;\n",
              "      --disabled-bg-color: #DDD;\n",
              "  }\n",
              "\n",
              "  [theme=dark] .colab-df-quickchart {\n",
              "      --bg-color: #3B4455;\n",
              "      --fill-color: #D2E3FC;\n",
              "      --hover-bg-color: #434B5C;\n",
              "      --hover-fill-color: #FFFFFF;\n",
              "      --disabled-bg-color: #3B4455;\n",
              "      --disabled-fill-color: #666;\n",
              "  }\n",
              "\n",
              "  .colab-df-quickchart {\n",
              "    background-color: var(--bg-color);\n",
              "    border: none;\n",
              "    border-radius: 50%;\n",
              "    cursor: pointer;\n",
              "    display: none;\n",
              "    fill: var(--fill-color);\n",
              "    height: 32px;\n",
              "    padding: 0;\n",
              "    width: 32px;\n",
              "  }\n",
              "\n",
              "  .colab-df-quickchart:hover {\n",
              "    background-color: var(--hover-bg-color);\n",
              "    box-shadow: 0 1px 2px rgba(60, 64, 67, 0.3), 0 1px 3px 1px rgba(60, 64, 67, 0.15);\n",
              "    fill: var(--button-hover-fill-color);\n",
              "  }\n",
              "\n",
              "  .colab-df-quickchart-complete:disabled,\n",
              "  .colab-df-quickchart-complete:disabled:hover {\n",
              "    background-color: var(--disabled-bg-color);\n",
              "    fill: var(--disabled-fill-color);\n",
              "    box-shadow: none;\n",
              "  }\n",
              "\n",
              "  .colab-df-spinner {\n",
              "    border: 2px solid var(--fill-color);\n",
              "    border-color: transparent;\n",
              "    border-bottom-color: var(--fill-color);\n",
              "    animation:\n",
              "      spin 1s steps(1) infinite;\n",
              "  }\n",
              "\n",
              "  @keyframes spin {\n",
              "    0% {\n",
              "      border-color: transparent;\n",
              "      border-bottom-color: var(--fill-color);\n",
              "      border-left-color: var(--fill-color);\n",
              "    }\n",
              "    20% {\n",
              "      border-color: transparent;\n",
              "      border-left-color: var(--fill-color);\n",
              "      border-top-color: var(--fill-color);\n",
              "    }\n",
              "    30% {\n",
              "      border-color: transparent;\n",
              "      border-left-color: var(--fill-color);\n",
              "      border-top-color: var(--fill-color);\n",
              "      border-right-color: var(--fill-color);\n",
              "    }\n",
              "    40% {\n",
              "      border-color: transparent;\n",
              "      border-right-color: var(--fill-color);\n",
              "      border-top-color: var(--fill-color);\n",
              "    }\n",
              "    60% {\n",
              "      border-color: transparent;\n",
              "      border-right-color: var(--fill-color);\n",
              "    }\n",
              "    80% {\n",
              "      border-color: transparent;\n",
              "      border-right-color: var(--fill-color);\n",
              "      border-bottom-color: var(--fill-color);\n",
              "    }\n",
              "    90% {\n",
              "      border-color: transparent;\n",
              "      border-bottom-color: var(--fill-color);\n",
              "    }\n",
              "  }\n",
              "</style>\n",
              "\n",
              "  <script>\n",
              "    async function quickchart(key) {\n",
              "      const quickchartButtonEl =\n",
              "        document.querySelector('#' + key + ' button');\n",
              "      quickchartButtonEl.disabled = true;  // To prevent multiple clicks.\n",
              "      quickchartButtonEl.classList.add('colab-df-spinner');\n",
              "      try {\n",
              "        const charts = await google.colab.kernel.invokeFunction(\n",
              "            'suggestCharts', [key], {});\n",
              "      } catch (error) {\n",
              "        console.error('Error during call to suggestCharts:', error);\n",
              "      }\n",
              "      quickchartButtonEl.classList.remove('colab-df-spinner');\n",
              "      quickchartButtonEl.classList.add('colab-df-quickchart-complete');\n",
              "    }\n",
              "    (() => {\n",
              "      let quickchartButtonEl =\n",
              "        document.querySelector('#df-f522b333-3c60-43fc-8a20-401b22312027 button');\n",
              "      quickchartButtonEl.style.display =\n",
              "        google.colab.kernel.accessAllowed ? 'block' : 'none';\n",
              "    })();\n",
              "  </script>\n",
              "</div>\n",
              "\n",
              "    </div>\n",
              "  </div>\n"
            ],
            "application/vnd.google.colaboratory.intrinsic+json": {
              "type": "dataframe",
              "variable_name": "w3p",
              "summary": "{\n  \"name\": \"w3p\",\n  \"rows\": 748,\n  \"fields\": [\n    {\n      \"column\": \"V1\",\n      \"properties\": {\n        \"dtype\": \"category\",\n        \"num_unique_values\": 32,\n        \"samples\": [\n          \"25.0\",\n          \"7.0\",\n          \"38.0\"\n        ],\n        \"semantic_type\": \"\",\n        \"description\": \"\"\n      }\n    },\n    {\n      \"column\": \"V2\",\n      \"properties\": {\n        \"dtype\": \"category\",\n        \"num_unique_values\": 33,\n        \"samples\": [\n          \"21.0\",\n          \"16.0\",\n          \"43.0\"\n        ],\n        \"semantic_type\": \"\",\n        \"description\": \"\"\n      }\n    },\n    {\n      \"column\": \"V3\",\n      \"properties\": {\n        \"dtype\": \"number\",\n        \"std\": 1459.826780772503,\n        \"min\": 250.0,\n        \"max\": 12500.0,\n        \"num_unique_values\": 33,\n        \"samples\": [\n          5250.0,\n          3500.0,\n          10750.0\n        ],\n        \"semantic_type\": \"\",\n        \"description\": \"\"\n      }\n    },\n    {\n      \"column\": \"V4\",\n      \"properties\": {\n        \"dtype\": \"number\",\n        \"std\": 24.376714368614156,\n        \"min\": 2.0,\n        \"max\": 98.0,\n        \"num_unique_values\": 78,\n        \"samples\": [\n          71.0,\n          98.0,\n          23.0\n        ],\n        \"semantic_type\": \"\",\n        \"description\": \"\"\n      }\n    },\n    {\n      \"column\": \"V5\",\n      \"properties\": {\n        \"dtype\": \"category\",\n        \"num_unique_values\": 1,\n        \"samples\": [\n          \"NEGATIVE\"\n        ],\n        \"semantic_type\": \"\",\n        \"description\": \"\"\n      }\n    },\n    {\n      \"column\": \"Target\",\n      \"properties\": {\n        \"dtype\": \"category\",\n        \"num_unique_values\": 2,\n        \"samples\": [\n          \"NO\"\n        ],\n        \"semantic_type\": \"\",\n        \"description\": \"\"\n      }\n    }\n  ]\n}"
            }
          },
          "metadata": {},
          "execution_count": 14
        }
      ]
    },
    {
      "cell_type": "code",
      "source": [
        "wcol = w3p.columns\n",
        "wcol"
      ],
      "metadata": {
        "colab": {
          "base_uri": "https://localhost:8080/"
        },
        "id": "wiPXst7o9S6p",
        "outputId": "81d0c3d8-daf6-4933-d32e-d3638d68636c"
      },
      "execution_count": 15,
      "outputs": [
        {
          "output_type": "execute_result",
          "data": {
            "text/plain": [
              "Index(['V1', 'V2', 'V3', 'V4', 'V5', 'Target'], dtype='object')"
            ]
          },
          "metadata": {},
          "execution_count": 15
        }
      ]
    },
    {
      "cell_type": "code",
      "source": [
        "X = w3p.iloc[:,:-1]\n",
        "y =w3p.iloc[:,-1]\n",
        "X"
      ],
      "metadata": {
        "colab": {
          "base_uri": "https://localhost:8080/",
          "height": 424
        },
        "id": "xE-KnQKM9k9a",
        "outputId": "0bb99d1d-799f-4644-e7c8-e8ffbd8ad60b"
      },
      "execution_count": 16,
      "outputs": [
        {
          "output_type": "execute_result",
          "data": {
            "text/plain": [
              "       V1    V2       V3    V4        V5\n",
              "0     2.0  50.0  12500.0  98.0  NEGATIVE\n",
              "1     0.0  13.0   3250.0  28.0  NEGATIVE\n",
              "2       ?     ?   4000.0  35.0  NEGATIVE\n",
              "3       ?  20.0   5000.0  45.0  NEGATIVE\n",
              "4     1.0  24.0   6000.0  77.0  NEGATIVE\n",
              "..    ...   ...      ...   ...       ...\n",
              "743  23.0   2.0    500.0  38.0  NEGATIVE\n",
              "744  21.0   2.0    500.0  52.0  NEGATIVE\n",
              "745  23.0   3.0    750.0  62.0  NEGATIVE\n",
              "746  39.0   1.0    250.0  39.0  NEGATIVE\n",
              "747  72.0   1.0    250.0  72.0  NEGATIVE\n",
              "\n",
              "[748 rows x 5 columns]"
            ],
            "text/html": [
              "\n",
              "  <div id=\"df-a0878d74-a0a5-4679-ac8a-274629621a4d\" class=\"colab-df-container\">\n",
              "    <div>\n",
              "<style scoped>\n",
              "    .dataframe tbody tr th:only-of-type {\n",
              "        vertical-align: middle;\n",
              "    }\n",
              "\n",
              "    .dataframe tbody tr th {\n",
              "        vertical-align: top;\n",
              "    }\n",
              "\n",
              "    .dataframe thead th {\n",
              "        text-align: right;\n",
              "    }\n",
              "</style>\n",
              "<table border=\"1\" class=\"dataframe\">\n",
              "  <thead>\n",
              "    <tr style=\"text-align: right;\">\n",
              "      <th></th>\n",
              "      <th>V1</th>\n",
              "      <th>V2</th>\n",
              "      <th>V3</th>\n",
              "      <th>V4</th>\n",
              "      <th>V5</th>\n",
              "    </tr>\n",
              "  </thead>\n",
              "  <tbody>\n",
              "    <tr>\n",
              "      <th>0</th>\n",
              "      <td>2.0</td>\n",
              "      <td>50.0</td>\n",
              "      <td>12500.0</td>\n",
              "      <td>98.0</td>\n",
              "      <td>NEGATIVE</td>\n",
              "    </tr>\n",
              "    <tr>\n",
              "      <th>1</th>\n",
              "      <td>0.0</td>\n",
              "      <td>13.0</td>\n",
              "      <td>3250.0</td>\n",
              "      <td>28.0</td>\n",
              "      <td>NEGATIVE</td>\n",
              "    </tr>\n",
              "    <tr>\n",
              "      <th>2</th>\n",
              "      <td>?</td>\n",
              "      <td>?</td>\n",
              "      <td>4000.0</td>\n",
              "      <td>35.0</td>\n",
              "      <td>NEGATIVE</td>\n",
              "    </tr>\n",
              "    <tr>\n",
              "      <th>3</th>\n",
              "      <td>?</td>\n",
              "      <td>20.0</td>\n",
              "      <td>5000.0</td>\n",
              "      <td>45.0</td>\n",
              "      <td>NEGATIVE</td>\n",
              "    </tr>\n",
              "    <tr>\n",
              "      <th>4</th>\n",
              "      <td>1.0</td>\n",
              "      <td>24.0</td>\n",
              "      <td>6000.0</td>\n",
              "      <td>77.0</td>\n",
              "      <td>NEGATIVE</td>\n",
              "    </tr>\n",
              "    <tr>\n",
              "      <th>...</th>\n",
              "      <td>...</td>\n",
              "      <td>...</td>\n",
              "      <td>...</td>\n",
              "      <td>...</td>\n",
              "      <td>...</td>\n",
              "    </tr>\n",
              "    <tr>\n",
              "      <th>743</th>\n",
              "      <td>23.0</td>\n",
              "      <td>2.0</td>\n",
              "      <td>500.0</td>\n",
              "      <td>38.0</td>\n",
              "      <td>NEGATIVE</td>\n",
              "    </tr>\n",
              "    <tr>\n",
              "      <th>744</th>\n",
              "      <td>21.0</td>\n",
              "      <td>2.0</td>\n",
              "      <td>500.0</td>\n",
              "      <td>52.0</td>\n",
              "      <td>NEGATIVE</td>\n",
              "    </tr>\n",
              "    <tr>\n",
              "      <th>745</th>\n",
              "      <td>23.0</td>\n",
              "      <td>3.0</td>\n",
              "      <td>750.0</td>\n",
              "      <td>62.0</td>\n",
              "      <td>NEGATIVE</td>\n",
              "    </tr>\n",
              "    <tr>\n",
              "      <th>746</th>\n",
              "      <td>39.0</td>\n",
              "      <td>1.0</td>\n",
              "      <td>250.0</td>\n",
              "      <td>39.0</td>\n",
              "      <td>NEGATIVE</td>\n",
              "    </tr>\n",
              "    <tr>\n",
              "      <th>747</th>\n",
              "      <td>72.0</td>\n",
              "      <td>1.0</td>\n",
              "      <td>250.0</td>\n",
              "      <td>72.0</td>\n",
              "      <td>NEGATIVE</td>\n",
              "    </tr>\n",
              "  </tbody>\n",
              "</table>\n",
              "<p>748 rows × 5 columns</p>\n",
              "</div>\n",
              "    <div class=\"colab-df-buttons\">\n",
              "\n",
              "  <div class=\"colab-df-container\">\n",
              "    <button class=\"colab-df-convert\" onclick=\"convertToInteractive('df-a0878d74-a0a5-4679-ac8a-274629621a4d')\"\n",
              "            title=\"Convert this dataframe to an interactive table.\"\n",
              "            style=\"display:none;\">\n",
              "\n",
              "  <svg xmlns=\"http://www.w3.org/2000/svg\" height=\"24px\" viewBox=\"0 -960 960 960\">\n",
              "    <path d=\"M120-120v-720h720v720H120Zm60-500h600v-160H180v160Zm220 220h160v-160H400v160Zm0 220h160v-160H400v160ZM180-400h160v-160H180v160Zm440 0h160v-160H620v160ZM180-180h160v-160H180v160Zm440 0h160v-160H620v160Z\"/>\n",
              "  </svg>\n",
              "    </button>\n",
              "\n",
              "  <style>\n",
              "    .colab-df-container {\n",
              "      display:flex;\n",
              "      gap: 12px;\n",
              "    }\n",
              "\n",
              "    .colab-df-convert {\n",
              "      background-color: #E8F0FE;\n",
              "      border: none;\n",
              "      border-radius: 50%;\n",
              "      cursor: pointer;\n",
              "      display: none;\n",
              "      fill: #1967D2;\n",
              "      height: 32px;\n",
              "      padding: 0 0 0 0;\n",
              "      width: 32px;\n",
              "    }\n",
              "\n",
              "    .colab-df-convert:hover {\n",
              "      background-color: #E2EBFA;\n",
              "      box-shadow: 0px 1px 2px rgba(60, 64, 67, 0.3), 0px 1px 3px 1px rgba(60, 64, 67, 0.15);\n",
              "      fill: #174EA6;\n",
              "    }\n",
              "\n",
              "    .colab-df-buttons div {\n",
              "      margin-bottom: 4px;\n",
              "    }\n",
              "\n",
              "    [theme=dark] .colab-df-convert {\n",
              "      background-color: #3B4455;\n",
              "      fill: #D2E3FC;\n",
              "    }\n",
              "\n",
              "    [theme=dark] .colab-df-convert:hover {\n",
              "      background-color: #434B5C;\n",
              "      box-shadow: 0px 1px 3px 1px rgba(0, 0, 0, 0.15);\n",
              "      filter: drop-shadow(0px 1px 2px rgba(0, 0, 0, 0.3));\n",
              "      fill: #FFFFFF;\n",
              "    }\n",
              "  </style>\n",
              "\n",
              "    <script>\n",
              "      const buttonEl =\n",
              "        document.querySelector('#df-a0878d74-a0a5-4679-ac8a-274629621a4d button.colab-df-convert');\n",
              "      buttonEl.style.display =\n",
              "        google.colab.kernel.accessAllowed ? 'block' : 'none';\n",
              "\n",
              "      async function convertToInteractive(key) {\n",
              "        const element = document.querySelector('#df-a0878d74-a0a5-4679-ac8a-274629621a4d');\n",
              "        const dataTable =\n",
              "          await google.colab.kernel.invokeFunction('convertToInteractive',\n",
              "                                                    [key], {});\n",
              "        if (!dataTable) return;\n",
              "\n",
              "        const docLinkHtml = 'Like what you see? Visit the ' +\n",
              "          '<a target=\"_blank\" href=https://colab.research.google.com/notebooks/data_table.ipynb>data table notebook</a>'\n",
              "          + ' to learn more about interactive tables.';\n",
              "        element.innerHTML = '';\n",
              "        dataTable['output_type'] = 'display_data';\n",
              "        await google.colab.output.renderOutput(dataTable, element);\n",
              "        const docLink = document.createElement('div');\n",
              "        docLink.innerHTML = docLinkHtml;\n",
              "        element.appendChild(docLink);\n",
              "      }\n",
              "    </script>\n",
              "  </div>\n",
              "\n",
              "\n",
              "<div id=\"df-31541968-ca3e-4fe2-bee8-554b9472d611\">\n",
              "  <button class=\"colab-df-quickchart\" onclick=\"quickchart('df-31541968-ca3e-4fe2-bee8-554b9472d611')\"\n",
              "            title=\"Suggest charts\"\n",
              "            style=\"display:none;\">\n",
              "\n",
              "<svg xmlns=\"http://www.w3.org/2000/svg\" height=\"24px\"viewBox=\"0 0 24 24\"\n",
              "     width=\"24px\">\n",
              "    <g>\n",
              "        <path d=\"M19 3H5c-1.1 0-2 .9-2 2v14c0 1.1.9 2 2 2h14c1.1 0 2-.9 2-2V5c0-1.1-.9-2-2-2zM9 17H7v-7h2v7zm4 0h-2V7h2v10zm4 0h-2v-4h2v4z\"/>\n",
              "    </g>\n",
              "</svg>\n",
              "  </button>\n",
              "\n",
              "<style>\n",
              "  .colab-df-quickchart {\n",
              "      --bg-color: #E8F0FE;\n",
              "      --fill-color: #1967D2;\n",
              "      --hover-bg-color: #E2EBFA;\n",
              "      --hover-fill-color: #174EA6;\n",
              "      --disabled-fill-color: #AAA;\n",
              "      --disabled-bg-color: #DDD;\n",
              "  }\n",
              "\n",
              "  [theme=dark] .colab-df-quickchart {\n",
              "      --bg-color: #3B4455;\n",
              "      --fill-color: #D2E3FC;\n",
              "      --hover-bg-color: #434B5C;\n",
              "      --hover-fill-color: #FFFFFF;\n",
              "      --disabled-bg-color: #3B4455;\n",
              "      --disabled-fill-color: #666;\n",
              "  }\n",
              "\n",
              "  .colab-df-quickchart {\n",
              "    background-color: var(--bg-color);\n",
              "    border: none;\n",
              "    border-radius: 50%;\n",
              "    cursor: pointer;\n",
              "    display: none;\n",
              "    fill: var(--fill-color);\n",
              "    height: 32px;\n",
              "    padding: 0;\n",
              "    width: 32px;\n",
              "  }\n",
              "\n",
              "  .colab-df-quickchart:hover {\n",
              "    background-color: var(--hover-bg-color);\n",
              "    box-shadow: 0 1px 2px rgba(60, 64, 67, 0.3), 0 1px 3px 1px rgba(60, 64, 67, 0.15);\n",
              "    fill: var(--button-hover-fill-color);\n",
              "  }\n",
              "\n",
              "  .colab-df-quickchart-complete:disabled,\n",
              "  .colab-df-quickchart-complete:disabled:hover {\n",
              "    background-color: var(--disabled-bg-color);\n",
              "    fill: var(--disabled-fill-color);\n",
              "    box-shadow: none;\n",
              "  }\n",
              "\n",
              "  .colab-df-spinner {\n",
              "    border: 2px solid var(--fill-color);\n",
              "    border-color: transparent;\n",
              "    border-bottom-color: var(--fill-color);\n",
              "    animation:\n",
              "      spin 1s steps(1) infinite;\n",
              "  }\n",
              "\n",
              "  @keyframes spin {\n",
              "    0% {\n",
              "      border-color: transparent;\n",
              "      border-bottom-color: var(--fill-color);\n",
              "      border-left-color: var(--fill-color);\n",
              "    }\n",
              "    20% {\n",
              "      border-color: transparent;\n",
              "      border-left-color: var(--fill-color);\n",
              "      border-top-color: var(--fill-color);\n",
              "    }\n",
              "    30% {\n",
              "      border-color: transparent;\n",
              "      border-left-color: var(--fill-color);\n",
              "      border-top-color: var(--fill-color);\n",
              "      border-right-color: var(--fill-color);\n",
              "    }\n",
              "    40% {\n",
              "      border-color: transparent;\n",
              "      border-right-color: var(--fill-color);\n",
              "      border-top-color: var(--fill-color);\n",
              "    }\n",
              "    60% {\n",
              "      border-color: transparent;\n",
              "      border-right-color: var(--fill-color);\n",
              "    }\n",
              "    80% {\n",
              "      border-color: transparent;\n",
              "      border-right-color: var(--fill-color);\n",
              "      border-bottom-color: var(--fill-color);\n",
              "    }\n",
              "    90% {\n",
              "      border-color: transparent;\n",
              "      border-bottom-color: var(--fill-color);\n",
              "    }\n",
              "  }\n",
              "</style>\n",
              "\n",
              "  <script>\n",
              "    async function quickchart(key) {\n",
              "      const quickchartButtonEl =\n",
              "        document.querySelector('#' + key + ' button');\n",
              "      quickchartButtonEl.disabled = true;  // To prevent multiple clicks.\n",
              "      quickchartButtonEl.classList.add('colab-df-spinner');\n",
              "      try {\n",
              "        const charts = await google.colab.kernel.invokeFunction(\n",
              "            'suggestCharts', [key], {});\n",
              "      } catch (error) {\n",
              "        console.error('Error during call to suggestCharts:', error);\n",
              "      }\n",
              "      quickchartButtonEl.classList.remove('colab-df-spinner');\n",
              "      quickchartButtonEl.classList.add('colab-df-quickchart-complete');\n",
              "    }\n",
              "    (() => {\n",
              "      let quickchartButtonEl =\n",
              "        document.querySelector('#df-31541968-ca3e-4fe2-bee8-554b9472d611 button');\n",
              "      quickchartButtonEl.style.display =\n",
              "        google.colab.kernel.accessAllowed ? 'block' : 'none';\n",
              "    })();\n",
              "  </script>\n",
              "</div>\n",
              "\n",
              "  <div id=\"id_775b0a1f-c61a-4fc8-91c0-9e1141c83f0f\">\n",
              "    <style>\n",
              "      .colab-df-generate {\n",
              "        background-color: #E8F0FE;\n",
              "        border: none;\n",
              "        border-radius: 50%;\n",
              "        cursor: pointer;\n",
              "        display: none;\n",
              "        fill: #1967D2;\n",
              "        height: 32px;\n",
              "        padding: 0 0 0 0;\n",
              "        width: 32px;\n",
              "      }\n",
              "\n",
              "      .colab-df-generate:hover {\n",
              "        background-color: #E2EBFA;\n",
              "        box-shadow: 0px 1px 2px rgba(60, 64, 67, 0.3), 0px 1px 3px 1px rgba(60, 64, 67, 0.15);\n",
              "        fill: #174EA6;\n",
              "      }\n",
              "\n",
              "      [theme=dark] .colab-df-generate {\n",
              "        background-color: #3B4455;\n",
              "        fill: #D2E3FC;\n",
              "      }\n",
              "\n",
              "      [theme=dark] .colab-df-generate:hover {\n",
              "        background-color: #434B5C;\n",
              "        box-shadow: 0px 1px 3px 1px rgba(0, 0, 0, 0.15);\n",
              "        filter: drop-shadow(0px 1px 2px rgba(0, 0, 0, 0.3));\n",
              "        fill: #FFFFFF;\n",
              "      }\n",
              "    </style>\n",
              "    <button class=\"colab-df-generate\" onclick=\"generateWithVariable('X')\"\n",
              "            title=\"Generate code using this dataframe.\"\n",
              "            style=\"display:none;\">\n",
              "\n",
              "  <svg xmlns=\"http://www.w3.org/2000/svg\" height=\"24px\"viewBox=\"0 0 24 24\"\n",
              "       width=\"24px\">\n",
              "    <path d=\"M7,19H8.4L18.45,9,17,7.55,7,17.6ZM5,21V16.75L18.45,3.32a2,2,0,0,1,2.83,0l1.4,1.43a1.91,1.91,0,0,1,.58,1.4,1.91,1.91,0,0,1-.58,1.4L9.25,21ZM18.45,9,17,7.55Zm-12,3A5.31,5.31,0,0,0,4.9,8.1,5.31,5.31,0,0,0,1,6.5,5.31,5.31,0,0,0,4.9,4.9,5.31,5.31,0,0,0,6.5,1,5.31,5.31,0,0,0,8.1,4.9,5.31,5.31,0,0,0,12,6.5,5.46,5.46,0,0,0,6.5,12Z\"/>\n",
              "  </svg>\n",
              "    </button>\n",
              "    <script>\n",
              "      (() => {\n",
              "      const buttonEl =\n",
              "        document.querySelector('#id_775b0a1f-c61a-4fc8-91c0-9e1141c83f0f button.colab-df-generate');\n",
              "      buttonEl.style.display =\n",
              "        google.colab.kernel.accessAllowed ? 'block' : 'none';\n",
              "\n",
              "      buttonEl.onclick = () => {\n",
              "        google.colab.notebook.generateWithVariable('X');\n",
              "      }\n",
              "      })();\n",
              "    </script>\n",
              "  </div>\n",
              "\n",
              "    </div>\n",
              "  </div>\n"
            ],
            "application/vnd.google.colaboratory.intrinsic+json": {
              "type": "dataframe",
              "variable_name": "X",
              "summary": "{\n  \"name\": \"X\",\n  \"rows\": 748,\n  \"fields\": [\n    {\n      \"column\": \"V1\",\n      \"properties\": {\n        \"dtype\": \"category\",\n        \"num_unique_values\": 32,\n        \"samples\": [\n          \"25.0\",\n          \"7.0\",\n          \"38.0\"\n        ],\n        \"semantic_type\": \"\",\n        \"description\": \"\"\n      }\n    },\n    {\n      \"column\": \"V2\",\n      \"properties\": {\n        \"dtype\": \"category\",\n        \"num_unique_values\": 33,\n        \"samples\": [\n          \"21.0\",\n          \"16.0\",\n          \"43.0\"\n        ],\n        \"semantic_type\": \"\",\n        \"description\": \"\"\n      }\n    },\n    {\n      \"column\": \"V3\",\n      \"properties\": {\n        \"dtype\": \"number\",\n        \"std\": 1459.826780772503,\n        \"min\": 250.0,\n        \"max\": 12500.0,\n        \"num_unique_values\": 33,\n        \"samples\": [\n          5250.0,\n          3500.0,\n          10750.0\n        ],\n        \"semantic_type\": \"\",\n        \"description\": \"\"\n      }\n    },\n    {\n      \"column\": \"V4\",\n      \"properties\": {\n        \"dtype\": \"number\",\n        \"std\": 24.376714368614156,\n        \"min\": 2.0,\n        \"max\": 98.0,\n        \"num_unique_values\": 78,\n        \"samples\": [\n          71.0,\n          98.0,\n          23.0\n        ],\n        \"semantic_type\": \"\",\n        \"description\": \"\"\n      }\n    },\n    {\n      \"column\": \"V5\",\n      \"properties\": {\n        \"dtype\": \"category\",\n        \"num_unique_values\": 1,\n        \"samples\": [\n          \"NEGATIVE\"\n        ],\n        \"semantic_type\": \"\",\n        \"description\": \"\"\n      }\n    }\n  ]\n}"
            }
          },
          "metadata": {},
          "execution_count": 16
        }
      ]
    },
    {
      "cell_type": "code",
      "source": [
        "y"
      ],
      "metadata": {
        "colab": {
          "base_uri": "https://localhost:8080/",
          "height": 458
        },
        "id": "NhI8JWJ290uR",
        "outputId": "a519fd3c-d4e0-4212-fb5c-a8914fd621c8"
      },
      "execution_count": 17,
      "outputs": [
        {
          "output_type": "execute_result",
          "data": {
            "text/plain": [
              "0      YES\n",
              "1      YES\n",
              "2      YES\n",
              "3      YES\n",
              "4       NO\n",
              "      ... \n",
              "743     NO\n",
              "744     NO\n",
              "745     NO\n",
              "746     NO\n",
              "747     NO\n",
              "Name: Target, Length: 748, dtype: object"
            ],
            "text/html": [
              "<div>\n",
              "<style scoped>\n",
              "    .dataframe tbody tr th:only-of-type {\n",
              "        vertical-align: middle;\n",
              "    }\n",
              "\n",
              "    .dataframe tbody tr th {\n",
              "        vertical-align: top;\n",
              "    }\n",
              "\n",
              "    .dataframe thead th {\n",
              "        text-align: right;\n",
              "    }\n",
              "</style>\n",
              "<table border=\"1\" class=\"dataframe\">\n",
              "  <thead>\n",
              "    <tr style=\"text-align: right;\">\n",
              "      <th></th>\n",
              "      <th>Target</th>\n",
              "    </tr>\n",
              "  </thead>\n",
              "  <tbody>\n",
              "    <tr>\n",
              "      <th>0</th>\n",
              "      <td>YES</td>\n",
              "    </tr>\n",
              "    <tr>\n",
              "      <th>1</th>\n",
              "      <td>YES</td>\n",
              "    </tr>\n",
              "    <tr>\n",
              "      <th>2</th>\n",
              "      <td>YES</td>\n",
              "    </tr>\n",
              "    <tr>\n",
              "      <th>3</th>\n",
              "      <td>YES</td>\n",
              "    </tr>\n",
              "    <tr>\n",
              "      <th>4</th>\n",
              "      <td>NO</td>\n",
              "    </tr>\n",
              "    <tr>\n",
              "      <th>...</th>\n",
              "      <td>...</td>\n",
              "    </tr>\n",
              "    <tr>\n",
              "      <th>743</th>\n",
              "      <td>NO</td>\n",
              "    </tr>\n",
              "    <tr>\n",
              "      <th>744</th>\n",
              "      <td>NO</td>\n",
              "    </tr>\n",
              "    <tr>\n",
              "      <th>745</th>\n",
              "      <td>NO</td>\n",
              "    </tr>\n",
              "    <tr>\n",
              "      <th>746</th>\n",
              "      <td>NO</td>\n",
              "    </tr>\n",
              "    <tr>\n",
              "      <th>747</th>\n",
              "      <td>NO</td>\n",
              "    </tr>\n",
              "  </tbody>\n",
              "</table>\n",
              "<p>748 rows × 1 columns</p>\n",
              "</div><br><label><b>dtype:</b> object</label>"
            ]
          },
          "metadata": {},
          "execution_count": 17
        }
      ]
    },
    {
      "cell_type": "code",
      "source": [
        "w3p.info()"
      ],
      "metadata": {
        "colab": {
          "base_uri": "https://localhost:8080/"
        },
        "id": "qs047GDH90rS",
        "outputId": "afaf83a5-2f3d-4a0c-de3a-71c96ae46076"
      },
      "execution_count": 18,
      "outputs": [
        {
          "output_type": "stream",
          "name": "stdout",
          "text": [
            "<class 'pandas.core.frame.DataFrame'>\n",
            "RangeIndex: 748 entries, 0 to 747\n",
            "Data columns (total 6 columns):\n",
            " #   Column  Non-Null Count  Dtype  \n",
            "---  ------  --------------  -----  \n",
            " 0   V1      748 non-null    object \n",
            " 1   V2      748 non-null    object \n",
            " 2   V3      748 non-null    float64\n",
            " 3   V4      748 non-null    float64\n",
            " 4   V5      748 non-null    object \n",
            " 5   Target  748 non-null    object \n",
            "dtypes: float64(2), object(4)\n",
            "memory usage: 35.2+ KB\n"
          ]
        }
      ]
    },
    {
      "cell_type": "code",
      "source": [
        "w3p.isnull().sum()"
      ],
      "metadata": {
        "colab": {
          "base_uri": "https://localhost:8080/",
          "height": 272
        },
        "id": "k6bN_RrJ90oh",
        "outputId": "d6389da7-888b-4cba-cc1e-04eb93c50c8f"
      },
      "execution_count": 19,
      "outputs": [
        {
          "output_type": "execute_result",
          "data": {
            "text/plain": [
              "V1        0\n",
              "V2        0\n",
              "V3        0\n",
              "V4        0\n",
              "V5        0\n",
              "Target    0\n",
              "dtype: int64"
            ],
            "text/html": [
              "<div>\n",
              "<style scoped>\n",
              "    .dataframe tbody tr th:only-of-type {\n",
              "        vertical-align: middle;\n",
              "    }\n",
              "\n",
              "    .dataframe tbody tr th {\n",
              "        vertical-align: top;\n",
              "    }\n",
              "\n",
              "    .dataframe thead th {\n",
              "        text-align: right;\n",
              "    }\n",
              "</style>\n",
              "<table border=\"1\" class=\"dataframe\">\n",
              "  <thead>\n",
              "    <tr style=\"text-align: right;\">\n",
              "      <th></th>\n",
              "      <th>0</th>\n",
              "    </tr>\n",
              "  </thead>\n",
              "  <tbody>\n",
              "    <tr>\n",
              "      <th>V1</th>\n",
              "      <td>0</td>\n",
              "    </tr>\n",
              "    <tr>\n",
              "      <th>V2</th>\n",
              "      <td>0</td>\n",
              "    </tr>\n",
              "    <tr>\n",
              "      <th>V3</th>\n",
              "      <td>0</td>\n",
              "    </tr>\n",
              "    <tr>\n",
              "      <th>V4</th>\n",
              "      <td>0</td>\n",
              "    </tr>\n",
              "    <tr>\n",
              "      <th>V5</th>\n",
              "      <td>0</td>\n",
              "    </tr>\n",
              "    <tr>\n",
              "      <th>Target</th>\n",
              "      <td>0</td>\n",
              "    </tr>\n",
              "  </tbody>\n",
              "</table>\n",
              "</div><br><label><b>dtype:</b> int64</label>"
            ]
          },
          "metadata": {},
          "execution_count": 19
        }
      ]
    },
    {
      "cell_type": "code",
      "source": [
        "print(\"unique values in V1:\",w3p['V1'].unique())"
      ],
      "metadata": {
        "colab": {
          "base_uri": "https://localhost:8080/"
        },
        "id": "hFP-VsEY90ln",
        "outputId": "a215b8b4-3b7f-42cb-811a-37552e35ec94"
      },
      "execution_count": 22,
      "outputs": [
        {
          "output_type": "stream",
          "name": "stdout",
          "text": [
            "unique values in V1: ['2.0' '0.0' '?' '1.0' '4.0' '5.0' '9.0' '3.0' '12.0' '6.0' '11.0' '10.0'\n",
            " '13.0' '8.0' '14.0' '7.0' '16.0' '15.0' '23.0' '21.0' '18.0' '22.0'\n",
            " '26.0' '35.0' '38.0' '40.0' '74.0' '20.0' '17.0' '25.0' '39.0' '72.0']\n"
          ]
        }
      ]
    },
    {
      "cell_type": "code",
      "source": [
        "print(\"missing values in V1:\",w3p.loc[w3p['V1']=='?','V1'].count())"
      ],
      "metadata": {
        "colab": {
          "base_uri": "https://localhost:8080/"
        },
        "id": "wp5U55bF_qnu",
        "outputId": "bb5955ee-dc1f-40cc-8e79-a9c26ecba758"
      },
      "execution_count": 25,
      "outputs": [
        {
          "output_type": "stream",
          "name": "stdout",
          "text": [
            "missing values in V1: 5\n"
          ]
        }
      ]
    },
    {
      "cell_type": "code",
      "source": [
        "print(\"V2 missing ?:\", w3p.loc[w3p['V2']=='?','V2'].count())"
      ],
      "metadata": {
        "colab": {
          "base_uri": "https://localhost:8080/"
        },
        "id": "Rc2H3KrO_qky",
        "outputId": "64e1445e-111a-4c6b-904e-8a8eae6cf647"
      },
      "execution_count": 28,
      "outputs": [
        {
          "output_type": "stream",
          "name": "stdout",
          "text": [
            "V2 missing ?: 5\n"
          ]
        }
      ]
    },
    {
      "cell_type": "code",
      "source": [
        "print(\"V5 missing ?:\", w3p.loc[w3p['V5']=='?','V5'].count())"
      ],
      "metadata": {
        "colab": {
          "base_uri": "https://localhost:8080/"
        },
        "id": "-FCgDTXE_qhy",
        "outputId": "5af3ec68-9d00-4056-d80e-643e1a42ecd6"
      },
      "execution_count": 29,
      "outputs": [
        {
          "output_type": "stream",
          "name": "stdout",
          "text": [
            "V5 missing ?: 0\n"
          ]
        }
      ]
    },
    {
      "cell_type": "code",
      "source": [
        "print(\"V3 missing:\", w3p.loc[w3p['V3']=='?','V3'].count())"
      ],
      "metadata": {
        "colab": {
          "base_uri": "https://localhost:8080/"
        },
        "id": "LFNKL1hi_qet",
        "outputId": "dfcec8d1-974b-41e7-f2ab-df7b7fb3e6cc"
      },
      "execution_count": 30,
      "outputs": [
        {
          "output_type": "stream",
          "name": "stdout",
          "text": [
            "V3 missing: 0\n"
          ]
        }
      ]
    },
    {
      "cell_type": "code",
      "source": [],
      "metadata": {
        "id": "jiPu7q8w90ht"
      },
      "execution_count": null,
      "outputs": []
    },
    {
      "cell_type": "code",
      "source": [],
      "metadata": {
        "id": "VsbvCUYc90eP"
      },
      "execution_count": null,
      "outputs": []
    },
    {
      "cell_type": "markdown",
      "metadata": {
        "id": "SmvMomevdEM0"
      },
      "source": [
        "The dataset has the following features:\n",
        "```\n",
        "1. Age (in years)\n",
        "2. Sex (1 = male; 0 = female)\n",
        "3. cp - chest pain type\n",
        "4. trestbps - resting blood pressure (anything above 130-140 is typically cause for concern)\n",
        "5. chol - serum cholestoral in mg/dl (above 200 is cause for concern)\n",
        "6. fbs - fasting blood sugar ( > 120 mg/dl) (1 = true; 0 = false)\n",
        "7. restecg - resting electrocardiographic results\n",
        "   * 0 = normal;\n",
        "   * 1 = having ST-T wave abnormality;\n",
        "   * 2 = showing probable or definite left ventricular hypertrophy by Estes' criteria\n",
        "8. thalach - maximum heart rate achieved\n",
        "9. exang - exercise induced angina\n",
        "   * 1 = yes;\n",
        "   * 0 = no\n",
        "10. oldpeak - depression induced by exercise relative to rest\n",
        "11. slope -  slope of the peak exercise ST segment\n",
        "   * 1 = upsloping;\n",
        "   * 2 = flat Value;\n",
        "   * 3 = downsloping\n",
        "12. ca - number of major vessels (0-3) colored by flourosopy\n",
        "13. thal - (3 = normal; 6 = fixed defect; 7 = reversable defect)\n",
        "14. num -  diagnosis of heart disease (angiographic disease status)(\n",
        "    * 0: < 50% diameter narrowing;\n",
        "    * 1: > 50% diameter narrowing\n",
        "```"
      ]
    },
    {
      "cell_type": "markdown",
      "metadata": {
        "id": "xM8bpEzscaIo"
      },
      "source": [
        "**STEP 1**: Check if the dataset contains missing values.  \n",
        "* This can be checked via dataset description or by check number of `nan` or `np.null` in the dataframe.  However such a check can be performed only for numerical features.  \n",
        "* For non-numerical features, we can list their unique values and check if there are values like `?`."
      ]
    },
    {
      "cell_type": "code",
      "execution_count": null,
      "metadata": {
        "colab": {
          "base_uri": "https://localhost:8080/"
        },
        "id": "hrbh5hTuhwDf",
        "outputId": "c47d5ca6-04f1-4669-969d-b0e55bbbff3e"
      },
      "outputs": [
        {
          "name": "stdout",
          "output_type": "stream",
          "text": [
            "<class 'pandas.core.frame.DataFrame'>\n",
            "RangeIndex: 303 entries, 0 to 302\n",
            "Data columns (total 14 columns):\n",
            " #   Column    Non-Null Count  Dtype  \n",
            "---  ------    --------------  -----  \n",
            " 0   age       303 non-null    float64\n",
            " 1   sex       303 non-null    float64\n",
            " 2   cp        303 non-null    float64\n",
            " 3   trestbps  303 non-null    float64\n",
            " 4   chol      303 non-null    float64\n",
            " 5   fbs       303 non-null    float64\n",
            " 6   restecg   303 non-null    float64\n",
            " 7   thalach   303 non-null    float64\n",
            " 8   exang     303 non-null    float64\n",
            " 9   oldpeak   303 non-null    float64\n",
            " 10  slope     303 non-null    float64\n",
            " 11  ca        303 non-null    object \n",
            " 12  thal      303 non-null    object \n",
            " 13  num       303 non-null    int64  \n",
            "dtypes: float64(11), int64(1), object(2)\n",
            "memory usage: 33.3+ KB\n"
          ]
        }
      ],
      "source": [
        "heart_data.info()"
      ]
    },
    {
      "cell_type": "markdown",
      "metadata": {
        "id": "2LrPM9bxinUZ"
      },
      "source": [
        "Let's check if there are any missing values in numerical columns - here we have checked it for all columns in the dataframe."
      ]
    },
    {
      "cell_type": "code",
      "execution_count": null,
      "metadata": {
        "colab": {
          "base_uri": "https://localhost:8080/"
        },
        "id": "o9zSSKE0hPuB",
        "outputId": "abebed26-a98a-496f-8d9d-67ffbd04f6ef"
      },
      "outputs": [
        {
          "data": {
            "text/plain": [
              "age         0\n",
              "sex         0\n",
              "cp          0\n",
              "trestbps    0\n",
              "chol        0\n",
              "fbs         0\n",
              "restecg     0\n",
              "thalach     0\n",
              "exang       0\n",
              "oldpeak     0\n",
              "slope       0\n",
              "ca          0\n",
              "thal        0\n",
              "num         0\n",
              "dtype: int64"
            ]
          },
          "execution_count": 10,
          "metadata": {},
          "output_type": "execute_result"
        }
      ],
      "source": [
        "(heart_data.isnull().sum())"
      ]
    },
    {
      "cell_type": "markdown",
      "metadata": {
        "id": "5v6-nTMIihZW"
      },
      "source": [
        "There are two non-numerical features: `ca` and `thal`.\n",
        "\n",
        "* List their unique values."
      ]
    },
    {
      "cell_type": "code",
      "execution_count": null,
      "metadata": {
        "colab": {
          "base_uri": "https://localhost:8080/"
        },
        "id": "1cWUy1llizme",
        "outputId": "78cb766e-cdb3-46b1-8f6a-b961aa56c8b3"
      },
      "outputs": [
        {
          "name": "stdout",
          "output_type": "stream",
          "text": [
            "Unique values in ca: ['0.0' '3.0' '2.0' '1.0' '?']\n",
            "Unique values in thal: ['6.0' '3.0' '7.0' '?']\n"
          ]
        }
      ],
      "source": [
        "print (\"Unique values in ca:\", heart_data.ca.unique())\n",
        "print (\"Unique values in thal:\", heart_data.thal.unique())"
      ]
    },
    {
      "cell_type": "markdown",
      "metadata": {
        "id": "1Nfplh2pi78P"
      },
      "source": [
        "Both of them contain `?`, which is a missing values.  Let's count the number of missing values."
      ]
    },
    {
      "cell_type": "code",
      "execution_count": null,
      "metadata": {
        "colab": {
          "base_uri": "https://localhost:8080/"
        },
        "id": "CBVKh3z9hunq",
        "outputId": "9a13c04d-16d7-4fc7-f629-23ea2d6ba9bc"
      },
      "outputs": [
        {
          "name": "stdout",
          "output_type": "stream",
          "text": [
            "# missing values in ca: 4\n",
            "# missing values in thal: 2\n"
          ]
        }
      ],
      "source": [
        "print (\"# missing values in ca:\",\n",
        "       heart_data.loc[heart_data.ca == '?', 'ca'].count())\n",
        "print (\"# missing values in thal:\",\n",
        "       heart_data.loc[heart_data.thal == '?', 'thal'].count())"
      ]
    },
    {
      "cell_type": "markdown",
      "metadata": {
        "id": "_AjsN9YOn6tZ"
      },
      "source": [
        "**STEP 2**: Replace '?' with `nan`."
      ]
    },
    {
      "cell_type": "code",
      "execution_count": null,
      "metadata": {
        "id": "l1soov7vpgfl"
      },
      "outputs": [],
      "source": [
        "heart_data.replace('?', np.nan, inplace=True)"
      ]
    },
    {
      "cell_type": "markdown",
      "metadata": {
        "id": "6ShKGNMDpccI"
      },
      "source": [
        "**STEP 3**: Fill the missing values with `sklearn` missing value imputation utilities.  \n",
        "\n",
        "> Here we use `SimpleImputer` with `mean` strategy.\n",
        "\n",
        "We will try two variations -\n",
        "* `add_indicator = False`: Default choice that only imputes missing values.\n"
      ]
    },
    {
      "cell_type": "code",
      "execution_count": null,
      "metadata": {
        "colab": {
          "base_uri": "https://localhost:8080/"
        },
        "id": "MKXySXAck1CE",
        "outputId": "3291bed6-6ca6-4cb3-9cfe-ad708b785434"
      },
      "outputs": [
        {
          "name": "stdout",
          "output_type": "stream",
          "text": [
            "(303, 14)\n"
          ]
        }
      ],
      "source": [
        "imputer = SimpleImputer(missing_values = np.nan, strategy ='mean')\n",
        "imputer = imputer.fit(heart_data)\n",
        "heart_data_imputed = imputer.transform(heart_data)\n",
        "print (heart_data_imputed.shape)"
      ]
    },
    {
      "cell_type": "markdown",
      "metadata": {
        "id": "5klksli3k4QP"
      },
      "source": [
        "* `add_indicator = True`: Adds additional column for each column containing missing values. In our case, this adds two columns one for `ca` and other for `thal`.  It indicates if the sample has a missing value."
      ]
    },
    {
      "cell_type": "code",
      "execution_count": null,
      "metadata": {
        "colab": {
          "base_uri": "https://localhost:8080/"
        },
        "id": "1eAD1GpTXkf5",
        "outputId": "0269f122-ef41-4a9b-dd30-fc2bae449721"
      },
      "outputs": [
        {
          "name": "stdout",
          "output_type": "stream",
          "text": [
            "(303, 16)\n"
          ]
        }
      ],
      "source": [
        "imputer = SimpleImputer(missing_values = np.nan, strategy ='mean',\n",
        "                        add_indicator=True)\n",
        "imputer = imputer.fit(heart_data)\n",
        "heart_data_imputed_with_indicator = imputer.transform(heart_data)\n",
        "print (heart_data_imputed_with_indicator.shape)"
      ]
    },
    {
      "cell_type": "markdown",
      "metadata": {
        "id": "lpjKoVEbqxDy"
      },
      "source": [
        "# **3. Feature scaling**\n"
      ]
    },
    {
      "cell_type": "markdown",
      "metadata": {
        "id": "FCVAoDgiV8qz"
      },
      "source": [
        "Feature scaling **transforms feature values** such that **all the features are on the same scale**.  \n",
        "\n",
        "When we use feature matrix with all features on the same scale, it provides us certain advantages as listed below:\n",
        "\n",
        "*  **Enables faster convergence** in iterative optimization algorithms like gradient descent and its variants.\n",
        "*  The performance of ML algorithms such as SVM, K-NN and K-means etc that compute euclidean distance among input samples gets impacted if the features are not scaled.\n",
        "\n",
        "Tree based ML algorithms are not affected by feature-scaling.  In other words, feature scaling is not required for tree based ML algorithms.\n",
        "\n",
        "Feature scaling can be performed with the following methods:\n",
        "* Standardization\n",
        "* Normalization\n",
        "* MaxAbsScaler"
      ]
    },
    {
      "cell_type": "markdown",
      "metadata": {
        "id": "-h302-AeScvD"
      },
      "source": [
        "Let's demonstrate feature scaling on a real world dataset. For this purpose we will be using [ablone dataset](https://archive.ics.uci.edu/ml/datasets/Abalone).  We will use different scaling utilities in `sklearn` library."
      ]
    },
    {
      "cell_type": "code",
      "execution_count": null,
      "metadata": {
        "id": "HCRD6QWcIw5C"
      },
      "outputs": [],
      "source": [
        "cols = ['Sex', 'Length', 'Diameter', 'Height', 'Whole weight', 'Shucked weight', 'Viscera weight', 'Shell weight', 'Rings']\n",
        "abalone_data = pd.read_csv('https://archive.ics.uci.edu/ml/machine-learning-databases/abalone/abalone.data', header=None, names=cols)"
      ]
    },
    {
      "cell_type": "markdown",
      "metadata": {
        "id": "N2VDi49FrN2R"
      },
      "source": [
        "[Abalone dataset](https://archive.ics.uci.edu/ml/datasets/Abalone) has the following columns\n",
        "```\n",
        "1. Sex - nominal (M, F, and I (infant))\n",
        "2. Length (mm - Longest shell measurement)\n",
        "3. Diameter (mm - perpendicular to length)\n",
        "4. Height (mm - with meat in shell)\n",
        "5. Whole weight (grams - whole abalone)\n",
        "6. Shucked weight (grams - weight of meat)\n",
        "7. Viscera weight (grams - gut weight (after bleeding))\n",
        "8. Shell weight (grams - after being dried)\n",
        "9. Rings (target - age in years)\n",
        "```"
      ]
    },
    {
      "cell_type": "markdown",
      "metadata": {
        "id": "AgD2pARsqDti"
      },
      "source": [
        "### **STEP 1**: Examine the dataset\n",
        "\n",
        "Feature scaling is performed only on numerical attributes.  Let's check which are numerical attributes in this dataset.  We can get that via `info()` method."
      ]
    },
    {
      "cell_type": "code",
      "execution_count": null,
      "metadata": {
        "colab": {
          "base_uri": "https://localhost:8080/"
        },
        "id": "siaAF7fqbkR7",
        "outputId": "42deeb4e-b7b2-44c5-c99b-a437a0779740"
      },
      "outputs": [
        {
          "name": "stdout",
          "output_type": "stream",
          "text": [
            "<class 'pandas.core.frame.DataFrame'>\n",
            "RangeIndex: 4177 entries, 0 to 4176\n",
            "Data columns (total 9 columns):\n",
            " #   Column          Non-Null Count  Dtype  \n",
            "---  ------          --------------  -----  \n",
            " 0   Sex             4177 non-null   object \n",
            " 1   Length          4177 non-null   float64\n",
            " 2   Diameter        4177 non-null   float64\n",
            " 3   Height          4177 non-null   float64\n",
            " 4   Whole weight    4177 non-null   float64\n",
            " 5   Shucked weight  4177 non-null   float64\n",
            " 6   Viscera weight  4177 non-null   float64\n",
            " 7   Shell weight    4177 non-null   float64\n",
            " 8   Rings           4177 non-null   int64  \n",
            "dtypes: float64(7), int64(1), object(1)\n",
            "memory usage: 293.8+ KB\n"
          ]
        }
      ],
      "source": [
        "abalone_data.info()"
      ]
    },
    {
      "cell_type": "markdown",
      "metadata": {
        "id": "HdmsLFQnlRSq"
      },
      "source": [
        "**STEP 1a** [OPTIONAL]: Convert non-numerical attributes to numerical ones.\n",
        "\n",
        "> In this dataset, `Sex` is a non-numeric column in this dataset. Let's examine it and see if we can convert it to numeric representation:"
      ]
    },
    {
      "cell_type": "code",
      "execution_count": null,
      "metadata": {
        "colab": {
          "base_uri": "https://localhost:8080/"
        },
        "id": "ZoJghrrop2OJ",
        "outputId": "d8af0a83-3eff-47b0-f4b8-4a9a05322f10"
      },
      "outputs": [
        {
          "data": {
            "text/plain": [
              "array(['M', 'F', 'I'], dtype=object)"
            ]
          },
          "execution_count": 18,
          "metadata": {},
          "output_type": "execute_result"
        }
      ],
      "source": [
        "abalone_data.Sex.unique()"
      ]
    },
    {
      "cell_type": "code",
      "execution_count": null,
      "metadata": {
        "colab": {
          "base_uri": "https://localhost:8080/"
        },
        "id": "qEvTWIVnrMV_",
        "outputId": "d5d1c203-4795-4170-a2a8-3e337e34ea64"
      },
      "outputs": [
        {
          "name": "stdout",
          "output_type": "stream",
          "text": [
            "<class 'pandas.core.frame.DataFrame'>\n",
            "RangeIndex: 4177 entries, 0 to 4176\n",
            "Data columns (total 9 columns):\n",
            " #   Column          Non-Null Count  Dtype  \n",
            "---  ------          --------------  -----  \n",
            " 0   Sex             4177 non-null   int64  \n",
            " 1   Length          4177 non-null   float64\n",
            " 2   Diameter        4177 non-null   float64\n",
            " 3   Height          4177 non-null   float64\n",
            " 4   Whole weight    4177 non-null   float64\n",
            " 5   Shucked weight  4177 non-null   float64\n",
            " 6   Viscera weight  4177 non-null   float64\n",
            " 7   Shell weight    4177 non-null   float64\n",
            " 8   Rings           4177 non-null   int64  \n",
            "dtypes: float64(7), int64(2)\n",
            "memory usage: 293.8 KB\n"
          ]
        }
      ],
      "source": [
        "# Assign numerical value to sex.\n",
        "abalone_data = abalone_data.replace({\"Sex\":  {\"M\":1,\"F\":2, \"I\":3}})\n",
        "abalone_data.info()"
      ]
    },
    {
      "cell_type": "markdown",
      "metadata": {
        "id": "lrPjD_2k3NwL"
      },
      "source": [
        "### **STEP 2**: Separate labels from features."
      ]
    },
    {
      "cell_type": "code",
      "execution_count": null,
      "metadata": {
        "colab": {
          "base_uri": "https://localhost:8080/"
        },
        "id": "pPAYYm9ly4Dd",
        "outputId": "23a136a9-e05e-44a3-d0c2-873f7828c61c"
      },
      "outputs": [
        {
          "name": "stdout",
          "output_type": "stream",
          "text": [
            "The DataFrame object after deleting the column\n",
            "<class 'pandas.core.frame.DataFrame'>\n",
            "RangeIndex: 4177 entries, 0 to 4176\n",
            "Data columns (total 8 columns):\n",
            " #   Column          Non-Null Count  Dtype  \n",
            "---  ------          --------------  -----  \n",
            " 0   Sex             4177 non-null   int64  \n",
            " 1   Length          4177 non-null   float64\n",
            " 2   Diameter        4177 non-null   float64\n",
            " 3   Height          4177 non-null   float64\n",
            " 4   Whole weight    4177 non-null   float64\n",
            " 5   Shucked weight  4177 non-null   float64\n",
            " 6   Viscera weight  4177 non-null   float64\n",
            " 7   Shell weight    4177 non-null   float64\n",
            "dtypes: float64(7), int64(1)\n",
            "memory usage: 261.2 KB\n"
          ]
        }
      ],
      "source": [
        "y = abalone_data.pop(\"Rings\")\n",
        "print(\"The DataFrame object after deleting the column\")\n",
        "abalone_data.info()"
      ]
    },
    {
      "cell_type": "markdown",
      "metadata": {
        "id": "S6T_cb6grM57"
      },
      "source": [
        "## **STEP 3**: Examine feature scales\n"
      ]
    },
    {
      "cell_type": "markdown",
      "metadata": {
        "id": "jhLtEuxas38W"
      },
      "source": [
        "#### Statistical method\n",
        "\n",
        "Check the scales of different feature with `describe()` method of dataframe."
      ]
    },
    {
      "cell_type": "code",
      "execution_count": null,
      "metadata": {
        "colab": {
          "base_uri": "https://localhost:8080/",
          "height": 300
        },
        "id": "B5cXbg4vvBCf",
        "outputId": "6a54b952-372d-44a2-db63-760064f4e8d6"
      },
      "outputs": [
        {
          "data": {
            "text/html": [
              "<div>\n",
              "<style scoped>\n",
              "    .dataframe tbody tr th:only-of-type {\n",
              "        vertical-align: middle;\n",
              "    }\n",
              "\n",
              "    .dataframe tbody tr th {\n",
              "        vertical-align: top;\n",
              "    }\n",
              "\n",
              "    .dataframe thead th {\n",
              "        text-align: right;\n",
              "    }\n",
              "</style>\n",
              "<table border=\"1\" class=\"dataframe\">\n",
              "  <thead>\n",
              "    <tr style=\"text-align: right;\">\n",
              "      <th></th>\n",
              "      <th>count</th>\n",
              "      <th>mean</th>\n",
              "      <th>std</th>\n",
              "      <th>min</th>\n",
              "      <th>25%</th>\n",
              "      <th>50%</th>\n",
              "      <th>75%</th>\n",
              "      <th>max</th>\n",
              "    </tr>\n",
              "  </thead>\n",
              "  <tbody>\n",
              "    <tr>\n",
              "      <th>Sex</th>\n",
              "      <td>4177.0</td>\n",
              "      <td>1.955470</td>\n",
              "      <td>0.827815</td>\n",
              "      <td>1.0000</td>\n",
              "      <td>1.0000</td>\n",
              "      <td>2.0000</td>\n",
              "      <td>3.000</td>\n",
              "      <td>3.0000</td>\n",
              "    </tr>\n",
              "    <tr>\n",
              "      <th>Length</th>\n",
              "      <td>4177.0</td>\n",
              "      <td>0.523992</td>\n",
              "      <td>0.120093</td>\n",
              "      <td>0.0750</td>\n",
              "      <td>0.4500</td>\n",
              "      <td>0.5450</td>\n",
              "      <td>0.615</td>\n",
              "      <td>0.8150</td>\n",
              "    </tr>\n",
              "    <tr>\n",
              "      <th>Diameter</th>\n",
              "      <td>4177.0</td>\n",
              "      <td>0.407881</td>\n",
              "      <td>0.099240</td>\n",
              "      <td>0.0550</td>\n",
              "      <td>0.3500</td>\n",
              "      <td>0.4250</td>\n",
              "      <td>0.480</td>\n",
              "      <td>0.6500</td>\n",
              "    </tr>\n",
              "    <tr>\n",
              "      <th>Height</th>\n",
              "      <td>4177.0</td>\n",
              "      <td>0.139516</td>\n",
              "      <td>0.041827</td>\n",
              "      <td>0.0000</td>\n",
              "      <td>0.1150</td>\n",
              "      <td>0.1400</td>\n",
              "      <td>0.165</td>\n",
              "      <td>1.1300</td>\n",
              "    </tr>\n",
              "    <tr>\n",
              "      <th>Whole weight</th>\n",
              "      <td>4177.0</td>\n",
              "      <td>0.828742</td>\n",
              "      <td>0.490389</td>\n",
              "      <td>0.0020</td>\n",
              "      <td>0.4415</td>\n",
              "      <td>0.7995</td>\n",
              "      <td>1.153</td>\n",
              "      <td>2.8255</td>\n",
              "    </tr>\n",
              "    <tr>\n",
              "      <th>Shucked weight</th>\n",
              "      <td>4177.0</td>\n",
              "      <td>0.359367</td>\n",
              "      <td>0.221963</td>\n",
              "      <td>0.0010</td>\n",
              "      <td>0.1860</td>\n",
              "      <td>0.3360</td>\n",
              "      <td>0.502</td>\n",
              "      <td>1.4880</td>\n",
              "    </tr>\n",
              "    <tr>\n",
              "      <th>Viscera weight</th>\n",
              "      <td>4177.0</td>\n",
              "      <td>0.180594</td>\n",
              "      <td>0.109614</td>\n",
              "      <td>0.0005</td>\n",
              "      <td>0.0935</td>\n",
              "      <td>0.1710</td>\n",
              "      <td>0.253</td>\n",
              "      <td>0.7600</td>\n",
              "    </tr>\n",
              "    <tr>\n",
              "      <th>Shell weight</th>\n",
              "      <td>4177.0</td>\n",
              "      <td>0.238831</td>\n",
              "      <td>0.139203</td>\n",
              "      <td>0.0015</td>\n",
              "      <td>0.1300</td>\n",
              "      <td>0.2340</td>\n",
              "      <td>0.329</td>\n",
              "      <td>1.0050</td>\n",
              "    </tr>\n",
              "  </tbody>\n",
              "</table>\n",
              "</div>"
            ],
            "text/plain": [
              "                 count      mean       std     min     25%     50%    75%  \\\n",
              "Sex             4177.0  1.955470  0.827815  1.0000  1.0000  2.0000  3.000   \n",
              "Length          4177.0  0.523992  0.120093  0.0750  0.4500  0.5450  0.615   \n",
              "Diameter        4177.0  0.407881  0.099240  0.0550  0.3500  0.4250  0.480   \n",
              "Height          4177.0  0.139516  0.041827  0.0000  0.1150  0.1400  0.165   \n",
              "Whole weight    4177.0  0.828742  0.490389  0.0020  0.4415  0.7995  1.153   \n",
              "Shucked weight  4177.0  0.359367  0.221963  0.0010  0.1860  0.3360  0.502   \n",
              "Viscera weight  4177.0  0.180594  0.109614  0.0005  0.0935  0.1710  0.253   \n",
              "Shell weight    4177.0  0.238831  0.139203  0.0015  0.1300  0.2340  0.329   \n",
              "\n",
              "                   max  \n",
              "Sex             3.0000  \n",
              "Length          0.8150  \n",
              "Diameter        0.6500  \n",
              "Height          1.1300  \n",
              "Whole weight    2.8255  \n",
              "Shucked weight  1.4880  \n",
              "Viscera weight  0.7600  \n",
              "Shell weight    1.0050  "
            ]
          },
          "execution_count": 21,
          "metadata": {},
          "output_type": "execute_result"
        }
      ],
      "source": [
        "abalone_data.describe().T"
      ]
    },
    {
      "cell_type": "markdown",
      "metadata": {
        "id": "WFr27y8zKnYB"
      },
      "source": [
        "Note that\n",
        "* There are 4177 examples or rows in this dataset.  \n",
        "* The mean and standard deviation of features are quite different from one another.  \n",
        "\n",
        "> We can confirm that with a variety of visualization techniques and plots."
      ]
    },
    {
      "cell_type": "markdown",
      "metadata": {
        "id": "0279BcyTMBDk"
      },
      "source": [
        "### Visualization of feature distributions"
      ]
    },
    {
      "cell_type": "markdown",
      "metadata": {
        "id": "gLoUD1MNrkuj"
      },
      "source": [
        "Visualize feature distributions.\n",
        "* Histogram\n",
        "* Kernel density estimation (KDE) plot\n",
        "* Box\n",
        "* Violin"
      ]
    },
    {
      "cell_type": "markdown",
      "metadata": {
        "id": "wiTf4xUochv4"
      },
      "source": [
        "#### Feature histogram\n",
        "\n",
        "We will have separate and combined histogram plots to check if the feature are indeed on different scales."
      ]
    },
    {
      "cell_type": "code",
      "execution_count": null,
      "metadata": {
        "cellView": "form",
        "colab": {
          "base_uri": "https://localhost:8080/",
          "height": 1000
        },
        "id": "Z_vFow4Q3Wc-",
        "outputId": "63847ac8-1766-4132-8327-18a6977ba5ff"
      },
      "outputs": [
        {
          "data": {
            "image/png": "[encoded data removed]",
            "text/plain": [
              "<Figure size 640x480 with 1 Axes>"
            ]
          },
          "metadata": {},
          "output_type": "display_data"
        },
        {
          "data": {
            "image/png": "[encoded data removed]",
            "text/plain": [
              "<Figure size 640x480 with 1 Axes>"
            ]
          },
          "metadata": {},
          "output_type": "display_data"
        },
        {
          "data": {
            "image/png": "[encoded data removed]",
            "text/plain": [
              "<Figure size 640x480 with 1 Axes>"
            ]
          },
          "metadata": {},
          "output_type": "display_data"
        },
        {
          "data": {
            "image/png": "[encoded data removed]",
            "text/plain": [
              "<Figure size 640x480 with 1 Axes>"
            ]
          },
          "metadata": {},
          "output_type": "display_data"
        },
        {
          "data": {
            "image/png": "[encoded data removed]",
            "text/plain": [
              "<Figure size 640x480 with 1 Axes>"
            ]
          },
          "metadata": {},
          "output_type": "display_data"
        },
        {
          "data": {
            "image/png": "[encoded data removed]",
            "text/plain": [
              "<Figure size 640x480 with 1 Axes>"
            ]
          },
          "metadata": {},
          "output_type": "display_data"
        },
        {
          "data": {
            "image/png": "[encoded data removed]",
            "text/plain": [
              "<Figure size 640x480 with 1 Axes>"
            ]
          },
          "metadata": {},
          "output_type": "display_data"
        },
        {
          "data": {
            "image/png": "[encoded data removed]",
            "text/plain": [
              "<Figure size 640x480 with 1 Axes>"
            ]
          },
          "metadata": {},
          "output_type": "display_data"
        }
      ],
      "source": [
        "#@title [Separate histograms]\n",
        "for name in cols[0:len(cols)-1]:\n",
        "  plt.hist(abalone_data[name].values)    # histogram plot\n",
        "  plt.title(name,fontsize=16)\n",
        "  plt.xlabel('Range',fontsize=16)\n",
        "  plt.ylabel('Frequency',fontsize=16)\n",
        "  plt.show()"
      ]
    },
    {
      "cell_type": "markdown",
      "metadata": {
        "id": "duVnPkak5mvF"
      },
      "source": [
        "The feature variability can be better visualized in a combined histogram."
      ]
    },
    {
      "cell_type": "code",
      "execution_count": null,
      "metadata": {
        "colab": {
          "base_uri": "https://localhost:8080/",
          "height": 525
        },
        "id": "f3GaIOAGT-IZ",
        "outputId": "15def5f9-b73a-4724-85f7-bd3639835ca0"
      },
      "outputs": [
        {
          "data": {
            "image/png": "[encoded data removed]",
            "text/plain": [
              "<Figure size 1080x576 with 1 Axes>"
            ]
          },
          "metadata": {
            "needs_background": "light"
          },
          "output_type": "display_data"
        }
      ],
      "source": [
        "#@title [Histograms - combined]\n",
        "#  create a new plot\n",
        "plt.figure(figsize=(15,8))\n",
        "\n",
        "for colname in abalone_data:\n",
        "  plt.hist(abalone_data[colname].values, alpha=0.5)\n",
        "\n",
        "# name the curves of features\n",
        "in_cols = ['Sex', 'Length', 'Diameter', 'Height', 'Whole weight', 'Shucked weight', 'Viscera weight', 'Shell weight']\n",
        "\n",
        "plt.legend(in_cols, fontsize=18,loc=\"upper right\",frameon=True)\n",
        "plt.title('Distribution of features across samples',fontsize=20)\n",
        "plt.xlabel('Range',fontsize=16)\n",
        "plt.ylabel('Frequency',fontsize=16)\n",
        "\n",
        "plt.show()"
      ]
    },
    {
      "cell_type": "markdown",
      "metadata": {
        "id": "U0DJl-Fn5Fdk"
      },
      "source": [
        "#### KDE plot\n",
        "\n",
        "Alternatively, we can generate **Kernel Density Estimate** plot using Gaussian kernels.\n",
        "\n",
        "> In statistics, kernel density estimation (KDE) is a non-parametric way to estimate the probability density function (PDF) of a random variable.\n",
        "\n",
        "This function uses Gaussian kernels and includes automatic bandwidth determination."
      ]
    },
    {
      "cell_type": "code",
      "execution_count": null,
      "metadata": {
        "colab": {
          "base_uri": "https://localhost:8080/",
          "height": 268
        },
        "id": "hTn7o9qH43A7",
        "outputId": "adb72008-4c10-4e86-b919-d8db24940888"
      },
      "outputs": [
        {
          "data": {
            "image/png": "[encoded data removed]",
            "text/plain": [
              "<Figure size 432x288 with 1 Axes>"
            ]
          },
          "metadata": {
            "needs_background": "light"
          },
          "output_type": "display_data"
        }
      ],
      "source": [
        "#@title [KDE plots - combined]\n",
        "ax = abalone_data.plot.kde()"
      ]
    },
    {
      "cell_type": "markdown",
      "metadata": {
        "id": "y3RcIxXeLtpK"
      },
      "source": [
        "Observe that the features have different distributions and scales."
      ]
    },
    {
      "cell_type": "markdown",
      "metadata": {
        "id": "x6wGIp97cb_I"
      },
      "source": [
        "#### Box plot"
      ]
    },
    {
      "cell_type": "markdown",
      "metadata": {
        "id": "GVwwg9a0b4aa"
      },
      "source": [
        "A **box plot** (or box-and-whisker plot) shows the **distribution of quantitative data** in a way that facilitates comparisons between variables or across levels of a categorical variable.\n",
        "\n",
        "The box shows the **quartiles** of the dataset while the **whiskers** extend to show the rest of the distribution, except for points that are determined to be “outliers” using a method that is a function of the inter-quartile range."
      ]
    },
    {
      "cell_type": "code",
      "execution_count": null,
      "metadata": {
        "colab": {
          "base_uri": "https://localhost:8080/",
          "height": 268
        },
        "id": "IkN5kQWELm9V",
        "outputId": "15fa4124-6fc4-4694-b887-192556684eb4"
      },
      "outputs": [
        {
          "data": {
            "image/png": "[encoded data removed]",
            "text/plain": [
              "<Figure size 432x288 with 1 Axes>"
            ]
          },
          "metadata": {
            "needs_background": "light"
          },
          "output_type": "display_data"
        }
      ],
      "source": [
        "#@title [Box plot]\n",
        "ax = sns.boxplot(data=abalone_data, orient=\"h\", palette=\"Set2\")"
      ]
    },
    {
      "cell_type": "markdown",
      "metadata": {
        "id": "P5kMI-v9cnqo"
      },
      "source": [
        "#### Violin plot\n",
        "\n"
      ]
    },
    {
      "cell_type": "markdown",
      "metadata": {
        "id": "ZSGzRZwMdKMP"
      },
      "source": [
        "A **violin** plot plays a similar role as a box and whisker plot.\n",
        "\n",
        "It shows the distribution of quantitative data across several levels of one (or more) categorical variables such that those distributions can be compared.\n",
        "\n",
        "Unlike a box plot, in which all of the plot components correspond to actual datapoints, the violin plot features a kernel density estimation of the underlying distribution."
      ]
    },
    {
      "cell_type": "code",
      "execution_count": null,
      "metadata": {
        "colab": {
          "base_uri": "https://localhost:8080/",
          "height": 268
        },
        "id": "L2cojsQbdRYZ",
        "outputId": "d930777b-4d0a-4a74-db54-88d2883a269f"
      },
      "outputs": [
        {
          "data": {
            "image/png": "[encoded data removed]",
            "text/plain": [
              "<Figure size 432x288 with 1 Axes>"
            ]
          },
          "metadata": {
            "needs_background": "light"
          },
          "output_type": "display_data"
        }
      ],
      "source": [
        "#@title [Violin plot]\n",
        "ax = sns.violinplot(data=abalone_data, orient=\"h\", palette=\"Set2\",  scale=\"width\")"
      ]
    },
    {
      "cell_type": "markdown",
      "metadata": {
        "id": "37seFXY3sSRY"
      },
      "source": [
        "Looking at these plots, we conclude that features are on different scales."
      ]
    },
    {
      "cell_type": "markdown",
      "metadata": {
        "id": "YdqO918OMnFC"
      },
      "source": [
        "### **STEP 4**: Scaling"
      ]
    },
    {
      "cell_type": "markdown",
      "metadata": {
        "id": "4y8UUal4unmw"
      },
      "source": [
        "#### Normalization\n",
        "\n",
        "The features are normalized such that their range lies between [0,1] or [-1,1].\n",
        "There are two way to achieve this.\n",
        "* `MaxAbsoluteScaler` transforms features in range [-1, 1]\n",
        "* `MinMaxScaler` transforms features in range [0, 1]"
      ]
    },
    {
      "cell_type": "markdown",
      "metadata": {
        "id": "BOWhZGAg1aUW"
      },
      "source": [
        "##### MaxAbsoluteScalar\n",
        "\n",
        "It transforms the original features vector $\\mathbf{x}$ into new feature vector $\\mathbf{x'}$ so that all values fall within  range $[-1,\\ 1]$\n",
        "\n",
        "$$\\mathbf{x'} = \\dfrac{\\mathbf{x}}{\\text{MaxAbsoluteValue}}$$\n",
        "\n",
        "where $\\text{MaxAbsoluteValue} = \\text{max}(\\mathbf{x}.max, |\\mathbf{x}.min|)$"
      ]
    },
    {
      "cell_type": "code",
      "execution_count": null,
      "metadata": {
        "colab": {
          "base_uri": "https://localhost:8080/"
        },
        "id": "z1CAe1Ji2IM9",
        "outputId": "4359fb06-5af6-4495-f5d4-0522617c8704"
      },
      "outputs": [
        {
          "name": "stdout",
          "output_type": "stream",
          "text": [
            "[[   4]\n",
            " [   2]\n",
            " [   5]\n",
            " [  -2]\n",
            " [-100]]\n"
          ]
        }
      ],
      "source": [
        "x= np.array([4, 2, 5, -2, -100]).reshape(-1,1)\n",
        "print(x)"
      ]
    },
    {
      "cell_type": "code",
      "execution_count": null,
      "metadata": {
        "colab": {
          "base_uri": "https://localhost:8080/"
        },
        "id": "YyqdU9RE2sJl",
        "outputId": "1237a361-ca49-4f9f-a2d5-6c21b87025da"
      },
      "outputs": [
        {
          "name": "stdout",
          "output_type": "stream",
          "text": [
            "[[ 0.04]\n",
            " [ 0.02]\n",
            " [ 0.05]\n",
            " [-0.02]\n",
            " [-1.  ]]\n"
          ]
        }
      ],
      "source": [
        "from sklearn.preprocessing import MaxAbsScaler\n",
        "\n",
        "mas = MaxAbsScaler()\n",
        "x_new = mas.fit_transform(x)\n",
        "print(x_new)"
      ]
    },
    {
      "cell_type": "markdown",
      "metadata": {
        "id": "F2voZetL1VAa"
      },
      "source": [
        "##### MinMaxScalar"
      ]
    },
    {
      "cell_type": "markdown",
      "metadata": {
        "id": "mQiTKiuguvSR"
      },
      "source": [
        "Normalization is a procedure in which the features' values are scaled such that they range between 0 and 1. This technique is also called **min-max scaling**.  It is performed with the following formula:\n",
        "$$X_{new} = \\dfrac{X_{old} - X_{min}}{X_{max}-X_{min}}$$\n",
        "\n",
        "where\n",
        "* $X_{old}$ is the old value of a data point, which is rescaled to $X_{new}$.\n",
        "* $X_{min}$ is minimum value of feature $X$.\n",
        "* $X_{max}$, is maximum value of feature $X$."
      ]
    },
    {
      "cell_type": "markdown",
      "metadata": {
        "id": "4f2ZPddX0Kem"
      },
      "source": [
        "Normalization can be achieved by `MinMaxScaler` from `sklearn` library."
      ]
    },
    {
      "cell_type": "code",
      "execution_count": null,
      "metadata": {
        "colab": {
          "base_uri": "https://localhost:8080/"
        },
        "id": "nTs4891t0L2f",
        "outputId": "a547c6cc-a38e-43d8-d6e9-2776371e3afc"
      },
      "outputs": [
        {
          "data": {
            "text/plain": [
              "array([[0.        , 0.51351351, 0.5210084 , 0.0840708 , 0.18133522,\n",
              "        0.15030262, 0.1323239 , 0.14798206],\n",
              "       [0.        , 0.37162162, 0.35294118, 0.07964602, 0.07915707,\n",
              "        0.06624075, 0.06319947, 0.06826109],\n",
              "       [0.5       , 0.61486486, 0.61344538, 0.11946903, 0.23906499,\n",
              "        0.17182246, 0.18564845, 0.2077728 ],\n",
              "       [0.        , 0.49324324, 0.5210084 , 0.11061947, 0.18204356,\n",
              "        0.14425017, 0.14944042, 0.15296462],\n",
              "       [1.        , 0.34459459, 0.33613445, 0.07079646, 0.07189658,\n",
              "        0.0595158 , 0.05134957, 0.0533134 ]])"
            ]
          },
          "execution_count": 27,
          "metadata": {},
          "output_type": "execute_result"
        }
      ],
      "source": [
        "from sklearn.preprocessing import MinMaxScaler\n",
        "X = abalone_data\n",
        "mm = MinMaxScaler()\n",
        "X_normalized = mm.fit_transform(X)\n",
        "X_normalized[:5]"
      ]
    },
    {
      "cell_type": "markdown",
      "metadata": {
        "id": "yo9k3hQWPGa7"
      },
      "source": [
        "Let's look at the mean and standard deviation (SD) of each feature:"
      ]
    },
    {
      "cell_type": "code",
      "execution_count": null,
      "metadata": {
        "colab": {
          "base_uri": "https://localhost:8080/"
        },
        "id": "SAbLmaMd1cri",
        "outputId": "ef53a21f-4479-4a39-91e8-ea684b7823db"
      },
      "outputs": [
        {
          "data": {
            "text/plain": [
              "array([0.47773522, 0.60674608, 0.59307774, 0.12346584, 0.29280756,\n",
              "       0.24100033, 0.23712127, 0.2365031 ])"
            ]
          },
          "execution_count": 28,
          "metadata": {},
          "output_type": "execute_result"
        }
      ],
      "source": [
        "X_normalized.mean(axis=0)"
      ]
    },
    {
      "cell_type": "code",
      "execution_count": null,
      "metadata": {
        "colab": {
          "base_uri": "https://localhost:8080/"
        },
        "id": "sXs_YZs68IuE",
        "outputId": "0d4b8a53-eae6-4207-94c8-eccfb7f2a31a"
      },
      "outputs": [
        {
          "data": {
            "text/plain": [
              "array([0.4138578 , 0.16226829, 0.16676972, 0.03701066, 0.17366046,\n",
              "       0.14925109, 0.14430695, 0.13870055])"
            ]
          },
          "execution_count": 29,
          "metadata": {},
          "output_type": "execute_result"
        }
      ],
      "source": [
        "X_normalized.std(axis=0)"
      ]
    },
    {
      "cell_type": "markdown",
      "metadata": {
        "id": "LdX4aokD1k1I"
      },
      "source": [
        "The means and SDs of different features are now comparable.  We can confirm this again through visualization as before:"
      ]
    },
    {
      "cell_type": "code",
      "execution_count": null,
      "metadata": {
        "cellView": "form",
        "colab": {
          "base_uri": "https://localhost:8080/",
          "height": 525
        },
        "id": "XJdOJG6ilrbM",
        "outputId": "c554a8be-a5d5-4d07-ceb9-f783a62de75c"
      },
      "outputs": [
        {
          "data": {
            "image/png": "[encoded data removed]",
            "text/plain": [
              "<Figure size 1080x576 with 1 Axes>"
            ]
          },
          "metadata": {
            "needs_background": "light"
          },
          "output_type": "display_data"
        }
      ],
      "source": [
        "#@title [Histogram of transformed features]\n",
        "#  create a new plot\n",
        "plt.figure(figsize=(15,8))\n",
        "\n",
        "# convert ndarray into dataframe for plotting the histogram\n",
        "data=pd.DataFrame(X_normalized, columns=in_cols)\n",
        "\n",
        "for colname in abalone_data:\n",
        "  plt.hist(data[colname].values, alpha=0.2)\n",
        "\n",
        "plt.legend(in_cols, fontsize=18,loc=\"upper right\",frameon=True)\n",
        "plt.title('Distribution of features across samples after normalization',fontsize=20)\n",
        "plt.xlabel('Range',fontsize=16)\n",
        "plt.ylabel('Frequency',fontsize=16)\n",
        "\n",
        "plt.show()"
      ]
    },
    {
      "cell_type": "code",
      "execution_count": null,
      "metadata": {
        "cellView": "form",
        "colab": {
          "base_uri": "https://localhost:8080/",
          "height": 268
        },
        "id": "xmwbtWmKgFIs",
        "outputId": "86a7a879-361c-49c1-94ff-b46d6fa4a2e9"
      },
      "outputs": [
        {
          "data": {
            "image/png": "[encoded data removed]",
            "text/plain": [
              "<Figure size 432x288 with 1 Axes>"
            ]
          },
          "metadata": {
            "needs_background": "light"
          },
          "output_type": "display_data"
        }
      ],
      "source": [
        "#@title [Box plot]\n",
        "ax = sns.boxplot(data=data, orient=\"h\", palette=\"Set2\")"
      ]
    },
    {
      "cell_type": "code",
      "execution_count": null,
      "metadata": {
        "cellView": "form",
        "colab": {
          "base_uri": "https://localhost:8080/",
          "height": 268
        },
        "id": "4QzxMum4gRJQ",
        "outputId": "b82e29e9-31cb-4f86-f129-462e8b2fd7d2"
      },
      "outputs": [
        {
          "data": {
            "image/png": "[encoded data removed]",
            "text/plain": [
              "<Figure size 432x288 with 1 Axes>"
            ]
          },
          "metadata": {
            "needs_background": "light"
          },
          "output_type": "display_data"
        }
      ],
      "source": [
        "#@title [Violin plot]\n",
        "ax = sns.violinplot(data=data, orient=\"h\", palette=\"Set2\",  scale=\"width\")"
      ]
    },
    {
      "cell_type": "code",
      "execution_count": null,
      "metadata": {
        "cellView": "form",
        "colab": {
          "base_uri": "https://localhost:8080/",
          "height": 268
        },
        "id": "4HZ0L9he6Wfc",
        "outputId": "337e4e62-2caa-4748-81ce-c5a2fefd153a"
      },
      "outputs": [
        {
          "data": {
            "image/png": "[encoded data removed]",
            "text/plain": [
              "<Figure size 432x288 with 1 Axes>"
            ]
          },
          "metadata": {
            "needs_background": "light"
          },
          "output_type": "display_data"
        }
      ],
      "source": [
        "#@title [KDE plot]\n",
        "ax = data.plot.kde()"
      ]
    },
    {
      "cell_type": "markdown",
      "metadata": {
        "id": "WHBSzedPusIV"
      },
      "source": [
        "#### Standardization"
      ]
    },
    {
      "cell_type": "markdown",
      "metadata": {
        "id": "7xAYKnRCxLBv"
      },
      "source": [
        "Standardization is another feature scaling technique that results into (close to) zero mean and unit standard deviation of a feature's values.\n",
        "\n",
        "Formula for standardization:\n",
        "\n",
        "$$X_{new} = \\dfrac{X_{old}- \\mu}{\\sigma}$$\n",
        "\n",
        "Here, $\\mu$ and $\\sigma$ respectively are the mean and standard deviation of the feature values."
      ]
    },
    {
      "cell_type": "markdown",
      "metadata": {
        "id": "YTjTBK6KVqvi"
      },
      "source": [
        "Standardization can be achieved by StandardScaler from sklearn library.\n",
        "\n"
      ]
    },
    {
      "cell_type": "code",
      "execution_count": null,
      "metadata": {
        "colab": {
          "base_uri": "https://localhost:8080/"
        },
        "id": "9a1nih7hUJ2d",
        "outputId": "6070648f-e327-408f-97e5-af04a48ecb0d"
      },
      "outputs": [
        {
          "data": {
            "text/plain": [
              "array([[-1.15434629, -0.57455813, -0.43214879, -1.06442415, -0.64189823,\n",
              "        -0.60768536, -0.72621157, -0.63821689],\n",
              "       [-1.15434629, -1.44898585, -1.439929  , -1.18397831, -1.23027711,\n",
              "        -1.17090984, -1.20522124, -1.21298732],\n",
              "       [ 0.05379815,  0.05003309,  0.12213032, -0.10799087, -0.30946926,\n",
              "        -0.4634999 , -0.35668983, -0.20713907],\n",
              "       [-1.15434629, -0.69947638, -0.43214879, -0.34709919, -0.63781934,\n",
              "        -0.64823753, -0.60759966, -0.60229374],\n",
              "       [ 1.26194258, -1.61554351, -1.54070702, -1.42308663, -1.27208566,\n",
              "        -1.2159678 , -1.28733718, -1.32075677]])"
            ]
          },
          "execution_count": 34,
          "metadata": {},
          "output_type": "execute_result"
        }
      ],
      "source": [
        "from sklearn.preprocessing import StandardScaler\n",
        "ss = StandardScaler()\n",
        "X_standardized = ss.fit_transform(X)\n",
        "X_standardized[:5]"
      ]
    },
    {
      "cell_type": "code",
      "execution_count": null,
      "metadata": {
        "colab": {
          "base_uri": "https://localhost:8080/"
        },
        "id": "EV01oVKuUyOg",
        "outputId": "3ea59d96-5b63-4bef-aaf2-e4017471f573"
      },
      "outputs": [
        {
          "data": {
            "text/plain": [
              "array([-1.19075871e-17, -5.83471770e-16, -3.02792930e-16,  3.91249292e-16,\n",
              "        9.18585294e-17, -1.02065033e-17,  2.70472337e-16,  2.97689679e-16])"
            ]
          },
          "execution_count": 35,
          "metadata": {},
          "output_type": "execute_result"
        }
      ],
      "source": [
        "X_standardized.mean(axis=0)"
      ]
    },
    {
      "cell_type": "code",
      "execution_count": null,
      "metadata": {
        "colab": {
          "base_uri": "https://localhost:8080/"
        },
        "id": "bcHn6in0U5WY",
        "outputId": "83a573ce-8d56-4676-d87a-4a3c9fa97a30"
      },
      "outputs": [
        {
          "data": {
            "text/plain": [
              "array([1., 1., 1., 1., 1., 1., 1., 1.])"
            ]
          },
          "execution_count": 36,
          "metadata": {},
          "output_type": "execute_result"
        }
      ],
      "source": [
        "X_standardized.std(axis=0)"
      ]
    },
    {
      "cell_type": "markdown",
      "metadata": {
        "id": "yHNuP4pN1yDo"
      },
      "source": [
        "The means of different features are now comparable with SD=1."
      ]
    },
    {
      "cell_type": "code",
      "execution_count": null,
      "metadata": {
        "colab": {
          "base_uri": "https://localhost:8080/",
          "height": 525
        },
        "id": "4QYpxvZ8nhnP",
        "outputId": "0e2fc478-6d1c-4fff-d675-57e5e82b5d82"
      },
      "outputs": [
        {
          "data": {
            "image/png": "[encoded data removed]",
            "text/plain": [
              "<Figure size 1080x576 with 1 Axes>"
            ]
          },
          "metadata": {
            "needs_background": "light"
          },
          "output_type": "display_data"
        }
      ],
      "source": [
        "#@title [Histogram - combined]\n",
        "#  create a new plot\n",
        "plt.figure(figsize=(15,8))\n",
        "data=pd.DataFrame(X_standardized, columns=in_cols)\n",
        "for colname in abalone_data:\n",
        "  plt.hist(data[colname].values, alpha=0.4)\n",
        "\n",
        "plt.legend(in_cols, fontsize=18,loc=\"upper right\",frameon=True)\n",
        "plt.title('Distribution of features across samples after standardisation',fontsize=20)\n",
        "plt.xlabel('Range',fontsize=16)\n",
        "plt.ylabel('Frequency',fontsize=16)\n",
        "\n",
        "plt.show()"
      ]
    },
    {
      "cell_type": "code",
      "execution_count": null,
      "metadata": {
        "cellView": "form",
        "colab": {
          "base_uri": "https://localhost:8080/",
          "height": 269
        },
        "id": "xsA1ng9y6jey",
        "outputId": "f5cd44de-409a-49fa-df86-0074d3ac114c"
      },
      "outputs": [
        {
          "data": {
            "image/png": "[encoded data removed]",
            "text/plain": [
              "<Figure size 432x288 with 1 Axes>"
            ]
          },
          "metadata": {
            "needs_background": "light"
          },
          "output_type": "display_data"
        }
      ],
      "source": [
        "#@title [KDE plot - combined]\n",
        "ax = data.plot.kde()"
      ]
    },
    {
      "cell_type": "code",
      "execution_count": null,
      "metadata": {
        "colab": {
          "base_uri": "https://localhost:8080/",
          "height": 268
        },
        "id": "D_1SG9vGjHe4",
        "outputId": "c8cd0ce5-339f-4a9e-c440-228595d752df"
      },
      "outputs": [
        {
          "data": {
            "image/png": "[encoded data removed]",
            "text/plain": [
              "<Figure size 432x288 with 1 Axes>"
            ]
          },
          "metadata": {
            "needs_background": "light"
          },
          "output_type": "display_data"
        }
      ],
      "source": [
        "#@title [Box plot]\n",
        "ax = sns.boxplot(data=data, orient=\"h\", palette=\"Set2\")"
      ]
    },
    {
      "cell_type": "code",
      "execution_count": null,
      "metadata": {
        "colab": {
          "base_uri": "https://localhost:8080/",
          "height": 268
        },
        "id": "lQ5VaU5AjOqf",
        "outputId": "e011dc6d-e8d8-4832-bf15-282f86e35ca9"
      },
      "outputs": [
        {
          "data": {
            "image/png": "[encoded data removed]",
            "text/plain": [
              "<Figure size 432x288 with 1 Axes>"
            ]
          },
          "metadata": {
            "needs_background": "light"
          },
          "output_type": "display_data"
        }
      ],
      "source": [
        "#@title [Violin plot]\n",
        "ax = sns.violinplot(data=data, orient=\"h\", palette=\"Set2\",  scale=\"width\")"
      ]
    },
    {
      "cell_type": "markdown",
      "metadata": {
        "id": "1sHY2fq34olO"
      },
      "source": [
        "# **4. `add_dummy_feature`**\n",
        "\n",
        "Augments dataset with a column vector, each value in the column vector is $1$. This is useful for adding a parameter for bias term in the model."
      ]
    },
    {
      "cell_type": "code",
      "execution_count": null,
      "metadata": {
        "colab": {
          "base_uri": "https://localhost:8080/"
        },
        "id": "ilxkenha41pK",
        "outputId": "87118ab0-4b70-417c-f29f-01824056dc93"
      },
      "outputs": [
        {
          "name": "stdout",
          "output_type": "stream",
          "text": [
            "[[1. 7. 1.]\n",
            " [1. 1. 8.]\n",
            " [1. 2. 0.]\n",
            " [1. 9. 6.]]\n"
          ]
        }
      ],
      "source": [
        "x = np.array(\n",
        "    [[7, 1 ],\n",
        "    [1, 8 ],\n",
        "    [2, 0 ],\n",
        "    [9, 6 ]])\n",
        "\n",
        "from sklearn.preprocessing import add_dummy_feature\n",
        "\n",
        "x_new = add_dummy_feature(x)\n",
        "\n",
        "print(x_new)\n"
      ]
    },
    {
      "cell_type": "markdown",
      "metadata": {
        "id": "bMQvJTwjGDO-"
      },
      "source": [
        "# **5. Custom transformers**"
      ]
    },
    {
      "cell_type": "markdown",
      "metadata": {
        "id": "k9pfftY6Hvp_"
      },
      "source": [
        "Enables conversion of an existing Python function into a transformer to assist in data cleaning or processing.\n",
        "\n",
        "Useful when:\n",
        "1. The dataset consists of *heterogeneous data types* (e.g. raster images and text captions),\n",
        "\n",
        "2. The dataset is stored in a `pandas.DataFrame` and different columns require *different processing pipelines*.\n",
        "\n",
        "3. We need stateless transformations such as taking the log of frequencies, custom scaling, etc."
      ]
    },
    {
      "cell_type": "code",
      "execution_count": null,
      "metadata": {
        "id": "oYoKWPImHw77"
      },
      "outputs": [],
      "source": [
        "from sklearn.preprocessing import FunctionTransformer"
      ]
    },
    {
      "cell_type": "markdown",
      "metadata": {
        "id": "ZcZ41eubH_Su"
      },
      "source": [
        "You can implement a transformer from an arbitrary function with\n",
        "`FunctionTransformer`.\n",
        "\n",
        "* For example, let us build a transformer that applies a log transformation to features:"
      ]
    },
    {
      "cell_type": "markdown",
      "metadata": {
        "id": "9x1FGlVFMQs3"
      },
      "source": [
        "For this demonstration, we will be using a [wine quality dataset](https://archive.ics.uci.edu/ml/datasets/wine+quality) from UCI machine learning repository.\n",
        "\n",
        "It has got the following attributes:\n",
        "```\n",
        "1. fixed acidity\n",
        "2. volatile acidity\n",
        "3. citric acid\n",
        "4. residual sugar\n",
        "5. chlorides\n",
        "6. free sulfur dioxide\n",
        "7. total sulfur dioxide\n",
        "8. density\n",
        "9. pH\n",
        "10. sulphates\n",
        "11. alcohol\n",
        "12. quality (output: score between 0 and 10)\n",
        "```"
      ]
    },
    {
      "cell_type": "code",
      "execution_count": null,
      "metadata": {
        "id": "YXlxFK9ax78G"
      },
      "outputs": [],
      "source": [
        "wine_data = pd.read_csv(\"https://archive.ics.uci.edu/ml/machine-learning-databases/wine-quality/winequality-red.csv\",sep=\";\")"
      ]
    },
    {
      "cell_type": "code",
      "execution_count": null,
      "metadata": {
        "colab": {
          "base_uri": "https://localhost:8080/",
          "height": 426
        },
        "id": "ZXRsEMllt2b_",
        "outputId": "bd501af4-12b7-483a-b077-8904d24bc359"
      },
      "outputs": [
        {
          "data": {
            "text/html": [
              "\n",
              "  <div id=\"df-41095e8e-30ea-41e4-a4a6-ca1d904e18c7\">\n",
              "    <div class=\"colab-df-container\">\n",
              "      <div>\n",
              "<style scoped>\n",
              "    .dataframe tbody tr th:only-of-type {\n",
              "        vertical-align: middle;\n",
              "    }\n",
              "\n",
              "    .dataframe tbody tr th {\n",
              "        vertical-align: top;\n",
              "    }\n",
              "\n",
              "    .dataframe thead th {\n",
              "        text-align: right;\n",
              "    }\n",
              "</style>\n",
              "<table border=\"1\" class=\"dataframe\">\n",
              "  <thead>\n",
              "    <tr style=\"text-align: right;\">\n",
              "      <th></th>\n",
              "      <th>count</th>\n",
              "      <th>mean</th>\n",
              "      <th>std</th>\n",
              "      <th>min</th>\n",
              "      <th>25%</th>\n",
              "      <th>50%</th>\n",
              "      <th>75%</th>\n",
              "      <th>max</th>\n",
              "    </tr>\n",
              "  </thead>\n",
              "  <tbody>\n",
              "    <tr>\n",
              "      <th>fixed acidity</th>\n",
              "      <td>1599.0</td>\n",
              "      <td>8.319637</td>\n",
              "      <td>1.741096</td>\n",
              "      <td>4.60000</td>\n",
              "      <td>7.1000</td>\n",
              "      <td>7.90000</td>\n",
              "      <td>9.200000</td>\n",
              "      <td>15.90000</td>\n",
              "    </tr>\n",
              "    <tr>\n",
              "      <th>volatile acidity</th>\n",
              "      <td>1599.0</td>\n",
              "      <td>0.527821</td>\n",
              "      <td>0.179060</td>\n",
              "      <td>0.12000</td>\n",
              "      <td>0.3900</td>\n",
              "      <td>0.52000</td>\n",
              "      <td>0.640000</td>\n",
              "      <td>1.58000</td>\n",
              "    </tr>\n",
              "    <tr>\n",
              "      <th>citric acid</th>\n",
              "      <td>1599.0</td>\n",
              "      <td>0.270976</td>\n",
              "      <td>0.194801</td>\n",
              "      <td>0.00000</td>\n",
              "      <td>0.0900</td>\n",
              "      <td>0.26000</td>\n",
              "      <td>0.420000</td>\n",
              "      <td>1.00000</td>\n",
              "    </tr>\n",
              "    <tr>\n",
              "      <th>residual sugar</th>\n",
              "      <td>1599.0</td>\n",
              "      <td>2.538806</td>\n",
              "      <td>1.409928</td>\n",
              "      <td>0.90000</td>\n",
              "      <td>1.9000</td>\n",
              "      <td>2.20000</td>\n",
              "      <td>2.600000</td>\n",
              "      <td>15.50000</td>\n",
              "    </tr>\n",
              "    <tr>\n",
              "      <th>chlorides</th>\n",
              "      <td>1599.0</td>\n",
              "      <td>0.087467</td>\n",
              "      <td>0.047065</td>\n",
              "      <td>0.01200</td>\n",
              "      <td>0.0700</td>\n",
              "      <td>0.07900</td>\n",
              "      <td>0.090000</td>\n",
              "      <td>0.61100</td>\n",
              "    </tr>\n",
              "    <tr>\n",
              "      <th>free sulfur dioxide</th>\n",
              "      <td>1599.0</td>\n",
              "      <td>15.874922</td>\n",
              "      <td>10.460157</td>\n",
              "      <td>1.00000</td>\n",
              "      <td>7.0000</td>\n",
              "      <td>14.00000</td>\n",
              "      <td>21.000000</td>\n",
              "      <td>72.00000</td>\n",
              "    </tr>\n",
              "    <tr>\n",
              "      <th>total sulfur dioxide</th>\n",
              "      <td>1599.0</td>\n",
              "      <td>46.467792</td>\n",
              "      <td>32.895324</td>\n",
              "      <td>6.00000</td>\n",
              "      <td>22.0000</td>\n",
              "      <td>38.00000</td>\n",
              "      <td>62.000000</td>\n",
              "      <td>289.00000</td>\n",
              "    </tr>\n",
              "    <tr>\n",
              "      <th>density</th>\n",
              "      <td>1599.0</td>\n",
              "      <td>0.996747</td>\n",
              "      <td>0.001887</td>\n",
              "      <td>0.99007</td>\n",
              "      <td>0.9956</td>\n",
              "      <td>0.99675</td>\n",
              "      <td>0.997835</td>\n",
              "      <td>1.00369</td>\n",
              "    </tr>\n",
              "    <tr>\n",
              "      <th>pH</th>\n",
              "      <td>1599.0</td>\n",
              "      <td>3.311113</td>\n",
              "      <td>0.154386</td>\n",
              "      <td>2.74000</td>\n",
              "      <td>3.2100</td>\n",
              "      <td>3.31000</td>\n",
              "      <td>3.400000</td>\n",
              "      <td>4.01000</td>\n",
              "    </tr>\n",
              "    <tr>\n",
              "      <th>sulphates</th>\n",
              "      <td>1599.0</td>\n",
              "      <td>0.658149</td>\n",
              "      <td>0.169507</td>\n",
              "      <td>0.33000</td>\n",
              "      <td>0.5500</td>\n",
              "      <td>0.62000</td>\n",
              "      <td>0.730000</td>\n",
              "      <td>2.00000</td>\n",
              "    </tr>\n",
              "    <tr>\n",
              "      <th>alcohol</th>\n",
              "      <td>1599.0</td>\n",
              "      <td>10.422983</td>\n",
              "      <td>1.065668</td>\n",
              "      <td>8.40000</td>\n",
              "      <td>9.5000</td>\n",
              "      <td>10.20000</td>\n",
              "      <td>11.100000</td>\n",
              "      <td>14.90000</td>\n",
              "    </tr>\n",
              "    <tr>\n",
              "      <th>quality</th>\n",
              "      <td>1599.0</td>\n",
              "      <td>5.636023</td>\n",
              "      <td>0.807569</td>\n",
              "      <td>3.00000</td>\n",
              "      <td>5.0000</td>\n",
              "      <td>6.00000</td>\n",
              "      <td>6.000000</td>\n",
              "      <td>8.00000</td>\n",
              "    </tr>\n",
              "  </tbody>\n",
              "</table>\n",
              "</div>\n",
              "      <button class=\"colab-df-convert\" onclick=\"convertToInteractive('df-41095e8e-30ea-41e4-a4a6-ca1d904e18c7')\"\n",
              "              title=\"Convert this dataframe to an interactive table.\"\n",
              "              style=\"display:none;\">\n",
              "        \n",
              "  <svg xmlns=\"http://www.w3.org/2000/svg\" height=\"24px\"viewBox=\"0 0 24 24\"\n",
              "       width=\"24px\">\n",
              "    <path d=\"M0 0h24v24H0V0z\" fill=\"none\"/>\n",
              "    <path d=\"M18.56 5.44l.94 2.06.94-2.06 2.06-.94-2.06-.94-.94-2.06-.94 2.06-2.06.94zm-11 1L8.5 8.5l.94-2.06 2.06-.94-2.06-.94L8.5 2.5l-.94 2.06-2.06.94zm10 10l.94 2.06.94-2.06 2.06-.94-2.06-.94-.94-2.06-.94 2.06-2.06.94z\"/><path d=\"M17.41 7.96l-1.37-1.37c-.4-.4-.92-.59-1.43-.59-.52 0-1.04.2-1.43.59L10.3 9.45l-7.72 7.72c-.78.78-.78 2.05 0 2.83L4 21.41c.39.39.9.59 1.41.59.51 0 1.02-.2 1.41-.59l7.78-7.78 2.81-2.81c.8-.78.8-2.07 0-2.86zM5.41 20L4 18.59l7.72-7.72 1.47 1.35L5.41 20z\"/>\n",
              "  </svg>\n",
              "      </button>\n",
              "      \n",
              "  <style>\n",
              "    .colab-df-container {\n",
              "      display:flex;\n",
              "      flex-wrap:wrap;\n",
              "      gap: 12px;\n",
              "    }\n",
              "\n",
              "    .colab-df-convert {\n",
              "      background-color: #E8F0FE;\n",
              "      border: none;\n",
              "      border-radius: 50%;\n",
              "      cursor: pointer;\n",
              "      display: none;\n",
              "      fill: #1967D2;\n",
              "      height: 32px;\n",
              "      padding: 0 0 0 0;\n",
              "      width: 32px;\n",
              "    }\n",
              "\n",
              "    .colab-df-convert:hover {\n",
              "      background-color: #E2EBFA;\n",
              "      box-shadow: 0px 1px 2px rgba(60, 64, 67, 0.3), 0px 1px 3px 1px rgba(60, 64, 67, 0.15);\n",
              "      fill: #174EA6;\n",
              "    }\n",
              "\n",
              "    [theme=dark] .colab-df-convert {\n",
              "      background-color: #3B4455;\n",
              "      fill: #D2E3FC;\n",
              "    }\n",
              "\n",
              "    [theme=dark] .colab-df-convert:hover {\n",
              "      background-color: #434B5C;\n",
              "      box-shadow: 0px 1px 3px 1px rgba(0, 0, 0, 0.15);\n",
              "      filter: drop-shadow(0px 1px 2px rgba(0, 0, 0, 0.3));\n",
              "      fill: #FFFFFF;\n",
              "    }\n",
              "  </style>\n",
              "\n",
              "      <script>\n",
              "        const buttonEl =\n",
              "          document.querySelector('#df-41095e8e-30ea-41e4-a4a6-ca1d904e18c7 button.colab-df-convert');\n",
              "        buttonEl.style.display =\n",
              "          google.colab.kernel.accessAllowed ? 'block' : 'none';\n",
              "\n",
              "        async function convertToInteractive(key) {\n",
              "          const element = document.querySelector('#df-41095e8e-30ea-41e4-a4a6-ca1d904e18c7');\n",
              "          const dataTable =\n",
              "            await google.colab.kernel.invokeFunction('convertToInteractive',\n",
              "                                                     [key], {});\n",
              "          if (!dataTable) return;\n",
              "\n",
              "          const docLinkHtml = 'Like what you see? Visit the ' +\n",
              "            '<a target=\"_blank\" href=https://colab.research.google.com/notebooks/data_table.ipynb>data table notebook</a>'\n",
              "            + ' to learn more about interactive tables.';\n",
              "          element.innerHTML = '';\n",
              "          dataTable['output_type'] = 'display_data';\n",
              "          await google.colab.output.renderOutput(dataTable, element);\n",
              "          const docLink = document.createElement('div');\n",
              "          docLink.innerHTML = docLinkHtml;\n",
              "          element.appendChild(docLink);\n",
              "        }\n",
              "      </script>\n",
              "    </div>\n",
              "  </div>\n",
              "  "
            ],
            "text/plain": [
              "                       count       mean        std      min      25%  \\\n",
              "fixed acidity         1599.0   8.319637   1.741096  4.60000   7.1000   \n",
              "volatile acidity      1599.0   0.527821   0.179060  0.12000   0.3900   \n",
              "citric acid           1599.0   0.270976   0.194801  0.00000   0.0900   \n",
              "residual sugar        1599.0   2.538806   1.409928  0.90000   1.9000   \n",
              "chlorides             1599.0   0.087467   0.047065  0.01200   0.0700   \n",
              "free sulfur dioxide   1599.0  15.874922  10.460157  1.00000   7.0000   \n",
              "total sulfur dioxide  1599.0  46.467792  32.895324  6.00000  22.0000   \n",
              "density               1599.0   0.996747   0.001887  0.99007   0.9956   \n",
              "pH                    1599.0   3.311113   0.154386  2.74000   3.2100   \n",
              "sulphates             1599.0   0.658149   0.169507  0.33000   0.5500   \n",
              "alcohol               1599.0  10.422983   1.065668  8.40000   9.5000   \n",
              "quality               1599.0   5.636023   0.807569  3.00000   5.0000   \n",
              "\n",
              "                           50%        75%        max  \n",
              "fixed acidity          7.90000   9.200000   15.90000  \n",
              "volatile acidity       0.52000   0.640000    1.58000  \n",
              "citric acid            0.26000   0.420000    1.00000  \n",
              "residual sugar         2.20000   2.600000   15.50000  \n",
              "chlorides              0.07900   0.090000    0.61100  \n",
              "free sulfur dioxide   14.00000  21.000000   72.00000  \n",
              "total sulfur dioxide  38.00000  62.000000  289.00000  \n",
              "density                0.99675   0.997835    1.00369  \n",
              "pH                     3.31000   3.400000    4.01000  \n",
              "sulphates              0.62000   0.730000    2.00000  \n",
              "alcohol               10.20000  11.100000   14.90000  \n",
              "quality                6.00000   6.000000    8.00000  "
            ]
          },
          "execution_count": 44,
          "metadata": {},
          "output_type": "execute_result"
        }
      ],
      "source": [
        "wine_data.describe().T"
      ]
    },
    {
      "cell_type": "markdown",
      "metadata": {
        "id": "5rZsrgqSugjc"
      },
      "source": [
        "Let's use `np.log1p` which returns natural logarithm of (1 + the feature value)."
      ]
    },
    {
      "cell_type": "code",
      "execution_count": null,
      "metadata": {
        "colab": {
          "base_uri": "https://localhost:8080/",
          "height": 426
        },
        "id": "U2-vsM3IHzKr",
        "outputId": "2622385d-b4b9-4e2f-f73e-84103cbcdcbe"
      },
      "outputs": [
        {
          "data": {
            "text/html": [
              "\n",
              "  <div id=\"df-18226477-5c74-4e8c-abaf-6299d33752fb\">\n",
              "    <div class=\"colab-df-container\">\n",
              "      <div>\n",
              "<style scoped>\n",
              "    .dataframe tbody tr th:only-of-type {\n",
              "        vertical-align: middle;\n",
              "    }\n",
              "\n",
              "    .dataframe tbody tr th {\n",
              "        vertical-align: top;\n",
              "    }\n",
              "\n",
              "    .dataframe thead th {\n",
              "        text-align: right;\n",
              "    }\n",
              "</style>\n",
              "<table border=\"1\" class=\"dataframe\">\n",
              "  <thead>\n",
              "    <tr style=\"text-align: right;\">\n",
              "      <th></th>\n",
              "      <th>count</th>\n",
              "      <th>mean</th>\n",
              "      <th>std</th>\n",
              "      <th>min</th>\n",
              "      <th>25%</th>\n",
              "      <th>50%</th>\n",
              "      <th>75%</th>\n",
              "      <th>max</th>\n",
              "    </tr>\n",
              "  </thead>\n",
              "  <tbody>\n",
              "    <tr>\n",
              "      <th>fixed acidity</th>\n",
              "      <td>1599.0</td>\n",
              "      <td>2.215842</td>\n",
              "      <td>0.178100</td>\n",
              "      <td>1.722767</td>\n",
              "      <td>2.091864</td>\n",
              "      <td>2.186051</td>\n",
              "      <td>2.322388</td>\n",
              "      <td>2.827314</td>\n",
              "    </tr>\n",
              "    <tr>\n",
              "      <th>volatile acidity</th>\n",
              "      <td>1599.0</td>\n",
              "      <td>0.417173</td>\n",
              "      <td>0.114926</td>\n",
              "      <td>0.113329</td>\n",
              "      <td>0.329304</td>\n",
              "      <td>0.418710</td>\n",
              "      <td>0.494696</td>\n",
              "      <td>0.947789</td>\n",
              "    </tr>\n",
              "    <tr>\n",
              "      <th>citric acid</th>\n",
              "      <td>1599.0</td>\n",
              "      <td>0.228147</td>\n",
              "      <td>0.152423</td>\n",
              "      <td>0.000000</td>\n",
              "      <td>0.086178</td>\n",
              "      <td>0.231112</td>\n",
              "      <td>0.350657</td>\n",
              "      <td>0.693147</td>\n",
              "    </tr>\n",
              "    <tr>\n",
              "      <th>residual sugar</th>\n",
              "      <td>1599.0</td>\n",
              "      <td>1.218131</td>\n",
              "      <td>0.269969</td>\n",
              "      <td>0.641854</td>\n",
              "      <td>1.064711</td>\n",
              "      <td>1.163151</td>\n",
              "      <td>1.280934</td>\n",
              "      <td>2.803360</td>\n",
              "    </tr>\n",
              "    <tr>\n",
              "      <th>chlorides</th>\n",
              "      <td>1599.0</td>\n",
              "      <td>0.083038</td>\n",
              "      <td>0.038991</td>\n",
              "      <td>0.011929</td>\n",
              "      <td>0.067659</td>\n",
              "      <td>0.076035</td>\n",
              "      <td>0.086178</td>\n",
              "      <td>0.476855</td>\n",
              "    </tr>\n",
              "    <tr>\n",
              "      <th>free sulfur dioxide</th>\n",
              "      <td>1599.0</td>\n",
              "      <td>2.639013</td>\n",
              "      <td>0.623790</td>\n",
              "      <td>0.693147</td>\n",
              "      <td>2.079442</td>\n",
              "      <td>2.708050</td>\n",
              "      <td>3.091042</td>\n",
              "      <td>4.290459</td>\n",
              "    </tr>\n",
              "    <tr>\n",
              "      <th>total sulfur dioxide</th>\n",
              "      <td>1599.0</td>\n",
              "      <td>3.634750</td>\n",
              "      <td>0.682575</td>\n",
              "      <td>1.945910</td>\n",
              "      <td>3.135494</td>\n",
              "      <td>3.663562</td>\n",
              "      <td>4.143135</td>\n",
              "      <td>5.669881</td>\n",
              "    </tr>\n",
              "    <tr>\n",
              "      <th>density</th>\n",
              "      <td>1599.0</td>\n",
              "      <td>0.691519</td>\n",
              "      <td>0.000945</td>\n",
              "      <td>0.688170</td>\n",
              "      <td>0.690945</td>\n",
              "      <td>0.691521</td>\n",
              "      <td>0.692064</td>\n",
              "      <td>0.694990</td>\n",
              "    </tr>\n",
              "    <tr>\n",
              "      <th>pH</th>\n",
              "      <td>1599.0</td>\n",
              "      <td>1.460557</td>\n",
              "      <td>0.035760</td>\n",
              "      <td>1.319086</td>\n",
              "      <td>1.437463</td>\n",
              "      <td>1.460938</td>\n",
              "      <td>1.481605</td>\n",
              "      <td>1.611436</td>\n",
              "    </tr>\n",
              "    <tr>\n",
              "      <th>sulphates</th>\n",
              "      <td>1599.0</td>\n",
              "      <td>0.501073</td>\n",
              "      <td>0.093731</td>\n",
              "      <td>0.285179</td>\n",
              "      <td>0.438255</td>\n",
              "      <td>0.482426</td>\n",
              "      <td>0.548121</td>\n",
              "      <td>1.098612</td>\n",
              "    </tr>\n",
              "    <tr>\n",
              "      <th>alcohol</th>\n",
              "      <td>1599.0</td>\n",
              "      <td>2.431458</td>\n",
              "      <td>0.090434</td>\n",
              "      <td>2.240710</td>\n",
              "      <td>2.351375</td>\n",
              "      <td>2.415914</td>\n",
              "      <td>2.493205</td>\n",
              "      <td>2.766319</td>\n",
              "    </tr>\n",
              "    <tr>\n",
              "      <th>quality</th>\n",
              "      <td>1599.0</td>\n",
              "      <td>1.885054</td>\n",
              "      <td>0.122749</td>\n",
              "      <td>1.386294</td>\n",
              "      <td>1.791759</td>\n",
              "      <td>1.945910</td>\n",
              "      <td>1.945910</td>\n",
              "      <td>2.197225</td>\n",
              "    </tr>\n",
              "  </tbody>\n",
              "</table>\n",
              "</div>\n",
              "      <button class=\"colab-df-convert\" onclick=\"convertToInteractive('df-18226477-5c74-4e8c-abaf-6299d33752fb')\"\n",
              "              title=\"Convert this dataframe to an interactive table.\"\n",
              "              style=\"display:none;\">\n",
              "        \n",
              "  <svg xmlns=\"http://www.w3.org/2000/svg\" height=\"24px\"viewBox=\"0 0 24 24\"\n",
              "       width=\"24px\">\n",
              "    <path d=\"M0 0h24v24H0V0z\" fill=\"none\"/>\n",
              "    <path d=\"M18.56 5.44l.94 2.06.94-2.06 2.06-.94-2.06-.94-.94-2.06-.94 2.06-2.06.94zm-11 1L8.5 8.5l.94-2.06 2.06-.94-2.06-.94L8.5 2.5l-.94 2.06-2.06.94zm10 10l.94 2.06.94-2.06 2.06-.94-2.06-.94-.94-2.06-.94 2.06-2.06.94z\"/><path d=\"M17.41 7.96l-1.37-1.37c-.4-.4-.92-.59-1.43-.59-.52 0-1.04.2-1.43.59L10.3 9.45l-7.72 7.72c-.78.78-.78 2.05 0 2.83L4 21.41c.39.39.9.59 1.41.59.51 0 1.02-.2 1.41-.59l7.78-7.78 2.81-2.81c.8-.78.8-2.07 0-2.86zM5.41 20L4 18.59l7.72-7.72 1.47 1.35L5.41 20z\"/>\n",
              "  </svg>\n",
              "      </button>\n",
              "      \n",
              "  <style>\n",
              "    .colab-df-container {\n",
              "      display:flex;\n",
              "      flex-wrap:wrap;\n",
              "      gap: 12px;\n",
              "    }\n",
              "\n",
              "    .colab-df-convert {\n",
              "      background-color: #E8F0FE;\n",
              "      border: none;\n",
              "      border-radius: 50%;\n",
              "      cursor: pointer;\n",
              "      display: none;\n",
              "      fill: #1967D2;\n",
              "      height: 32px;\n",
              "      padding: 0 0 0 0;\n",
              "      width: 32px;\n",
              "    }\n",
              "\n",
              "    .colab-df-convert:hover {\n",
              "      background-color: #E2EBFA;\n",
              "      box-shadow: 0px 1px 2px rgba(60, 64, 67, 0.3), 0px 1px 3px 1px rgba(60, 64, 67, 0.15);\n",
              "      fill: #174EA6;\n",
              "    }\n",
              "\n",
              "    [theme=dark] .colab-df-convert {\n",
              "      background-color: #3B4455;\n",
              "      fill: #D2E3FC;\n",
              "    }\n",
              "\n",
              "    [theme=dark] .colab-df-convert:hover {\n",
              "      background-color: #434B5C;\n",
              "      box-shadow: 0px 1px 3px 1px rgba(0, 0, 0, 0.15);\n",
              "      filter: drop-shadow(0px 1px 2px rgba(0, 0, 0, 0.3));\n",
              "      fill: #FFFFFF;\n",
              "    }\n",
              "  </style>\n",
              "\n",
              "      <script>\n",
              "        const buttonEl =\n",
              "          document.querySelector('#df-18226477-5c74-4e8c-abaf-6299d33752fb button.colab-df-convert');\n",
              "        buttonEl.style.display =\n",
              "          google.colab.kernel.accessAllowed ? 'block' : 'none';\n",
              "\n",
              "        async function convertToInteractive(key) {\n",
              "          const element = document.querySelector('#df-18226477-5c74-4e8c-abaf-6299d33752fb');\n",
              "          const dataTable =\n",
              "            await google.colab.kernel.invokeFunction('convertToInteractive',\n",
              "                                                     [key], {});\n",
              "          if (!dataTable) return;\n",
              "\n",
              "          const docLinkHtml = 'Like what you see? Visit the ' +\n",
              "            '<a target=\"_blank\" href=https://colab.research.google.com/notebooks/data_table.ipynb>data table notebook</a>'\n",
              "            + ' to learn more about interactive tables.';\n",
              "          element.innerHTML = '';\n",
              "          dataTable['output_type'] = 'display_data';\n",
              "          await google.colab.output.renderOutput(dataTable, element);\n",
              "          const docLink = document.createElement('div');\n",
              "          docLink.innerHTML = docLinkHtml;\n",
              "          element.appendChild(docLink);\n",
              "        }\n",
              "      </script>\n",
              "    </div>\n",
              "  </div>\n",
              "  "
            ],
            "text/plain": [
              "                       count      mean       std       min       25%  \\\n",
              "fixed acidity         1599.0  2.215842  0.178100  1.722767  2.091864   \n",
              "volatile acidity      1599.0  0.417173  0.114926  0.113329  0.329304   \n",
              "citric acid           1599.0  0.228147  0.152423  0.000000  0.086178   \n",
              "residual sugar        1599.0  1.218131  0.269969  0.641854  1.064711   \n",
              "chlorides             1599.0  0.083038  0.038991  0.011929  0.067659   \n",
              "free sulfur dioxide   1599.0  2.639013  0.623790  0.693147  2.079442   \n",
              "total sulfur dioxide  1599.0  3.634750  0.682575  1.945910  3.135494   \n",
              "density               1599.0  0.691519  0.000945  0.688170  0.690945   \n",
              "pH                    1599.0  1.460557  0.035760  1.319086  1.437463   \n",
              "sulphates             1599.0  0.501073  0.093731  0.285179  0.438255   \n",
              "alcohol               1599.0  2.431458  0.090434  2.240710  2.351375   \n",
              "quality               1599.0  1.885054  0.122749  1.386294  1.791759   \n",
              "\n",
              "                           50%       75%       max  \n",
              "fixed acidity         2.186051  2.322388  2.827314  \n",
              "volatile acidity      0.418710  0.494696  0.947789  \n",
              "citric acid           0.231112  0.350657  0.693147  \n",
              "residual sugar        1.163151  1.280934  2.803360  \n",
              "chlorides             0.076035  0.086178  0.476855  \n",
              "free sulfur dioxide   2.708050  3.091042  4.290459  \n",
              "total sulfur dioxide  3.663562  4.143135  5.669881  \n",
              "density               0.691521  0.692064  0.694990  \n",
              "pH                    1.460938  1.481605  1.611436  \n",
              "sulphates             0.482426  0.548121  1.098612  \n",
              "alcohol               2.415914  2.493205  2.766319  \n",
              "quality               1.945910  1.945910  2.197225  "
            ]
          },
          "execution_count": 45,
          "metadata": {},
          "output_type": "execute_result"
        }
      ],
      "source": [
        "transformer = FunctionTransformer(np.log1p, validate=True)\n",
        "wine_data_transformed = transformer.transform(np.array(wine_data))\n",
        "pd.DataFrame(wine_data_transformed, columns=wine_data.columns).describe().T"
      ]
    },
    {
      "cell_type": "markdown",
      "metadata": {
        "id": "1w5MWQiFur60"
      },
      "source": [
        "Notice the change in statistics of all features.\n",
        "\n",
        "For example,\n",
        "```\n",
        "total sulfur dioxide\t1599.0\t46.467792\t32.895324\t6.00000\t22.0000\t38.00000\t62.000000\t289.00000\n",
        "```\n",
        "became\n",
        "```\n",
        "total sulfur dioxide\t1599.0\t3.634750\t0.682575\t1.945910\t3.135494\t3.663562\t4.143135\t5.669881\n",
        "```"
      ]
    },
    {
      "cell_type": "markdown",
      "metadata": {
        "id": "kwTIvlF7-LBF"
      },
      "source": [
        "# **6. Polynomial Features**"
      ]
    },
    {
      "cell_type": "markdown",
      "metadata": {
        "id": "Zns_AAvs-YCf"
      },
      "source": [
        "Generate a new feature matrix consisting of all polynomial combinations of the features with degree less than or equal to the specified degree.\n",
        "- For example, if an input sample is two dimensional and of the form $[a, b]$, the degree-2 polynomial features are $ [1, a, b, a^2, ab, b^2] $.\n",
        "\n",
        "`sklearn.preprocessing.PolynomialFeatures` enables us to perform polynomial transformation of desired degree.  Let's demonstrate it with *wine quality* dataset."
      ]
    },
    {
      "cell_type": "code",
      "execution_count": null,
      "metadata": {
        "colab": {
          "base_uri": "https://localhost:8080/"
        },
        "id": "Ss-9wKQxFUgn",
        "outputId": "8faac8af-43b9-4534-b94a-b5ea6cc16a0c"
      },
      "outputs": [
        {
          "name": "stdout",
          "output_type": "stream",
          "text": [
            "Number of features before transformation =  (1599, 11)\n",
            "Number of featueres after transformation =  (1599, 78)\n"
          ]
        }
      ],
      "source": [
        "from sklearn.preprocessing import PolynomialFeatures\n",
        "\n",
        "wine_data = pd.read_csv(\"https://archive.ics.uci.edu/ml/machine-learning-databases/wine-quality/winequality-red.csv\",sep=\";\")\n",
        "wine_data_copy = wine_data.copy()\n",
        "wine_data = wine_data.drop(['quality'], axis=1)\n",
        "print('Number of features before transformation = ', wine_data.shape)\n",
        "\n",
        "# Let us fit a polynomial of degree 2 to wine_data\n",
        "poly = PolynomialFeatures(degree=2)\n",
        "poly_wine_data = poly.fit_transform(wine_data)\n",
        "print('Number of featueres after transformation = ', poly_wine_data.shape)"
      ]
    },
    {
      "cell_type": "markdown",
      "metadata": {
        "id": "38K0nfTR1Bul"
      },
      "source": [
        "Note that after transformation, we have 78 features. Let's list out these features:"
      ]
    },
    {
      "cell_type": "code",
      "execution_count": null,
      "metadata": {
        "colab": {
          "base_uri": "https://localhost:8080/"
        },
        "id": "9_IEs4rk1kuT",
        "outputId": "ab4cc7f1-1db1-4593-8031-ff4f9be912b0"
      },
      "outputs": [
        {
          "data": {
            "text/plain": [
              "array(['1', 'fixed acidity', 'volatile acidity', 'citric acid',\n",
              "       'residual sugar', 'chlorides', 'free sulfur dioxide',\n",
              "       'total sulfur dioxide', 'density', 'pH', 'sulphates', 'alcohol',\n",
              "       'fixed acidity^2', 'fixed acidity volatile acidity',\n",
              "       'fixed acidity citric acid', 'fixed acidity residual sugar',\n",
              "       'fixed acidity chlorides', 'fixed acidity free sulfur dioxide',\n",
              "       'fixed acidity total sulfur dioxide', 'fixed acidity density',\n",
              "       'fixed acidity pH', 'fixed acidity sulphates',\n",
              "       'fixed acidity alcohol', 'volatile acidity^2',\n",
              "       'volatile acidity citric acid', 'volatile acidity residual sugar',\n",
              "       'volatile acidity chlorides',\n",
              "       'volatile acidity free sulfur dioxide',\n",
              "       'volatile acidity total sulfur dioxide',\n",
              "       'volatile acidity density', 'volatile acidity pH',\n",
              "       'volatile acidity sulphates', 'volatile acidity alcohol',\n",
              "       'citric acid^2', 'citric acid residual sugar',\n",
              "       'citric acid chlorides', 'citric acid free sulfur dioxide',\n",
              "       'citric acid total sulfur dioxide', 'citric acid density',\n",
              "       'citric acid pH', 'citric acid sulphates', 'citric acid alcohol',\n",
              "       'residual sugar^2', 'residual sugar chlorides',\n",
              "       'residual sugar free sulfur dioxide',\n",
              "       'residual sugar total sulfur dioxide', 'residual sugar density',\n",
              "       'residual sugar pH', 'residual sugar sulphates',\n",
              "       'residual sugar alcohol', 'chlorides^2',\n",
              "       'chlorides free sulfur dioxide', 'chlorides total sulfur dioxide',\n",
              "       'chlorides density', 'chlorides pH', 'chlorides sulphates',\n",
              "       'chlorides alcohol', 'free sulfur dioxide^2',\n",
              "       'free sulfur dioxide total sulfur dioxide',\n",
              "       'free sulfur dioxide density', 'free sulfur dioxide pH',\n",
              "       'free sulfur dioxide sulphates', 'free sulfur dioxide alcohol',\n",
              "       'total sulfur dioxide^2', 'total sulfur dioxide density',\n",
              "       'total sulfur dioxide pH', 'total sulfur dioxide sulphates',\n",
              "       'total sulfur dioxide alcohol', 'density^2', 'density pH',\n",
              "       'density sulphates', 'density alcohol', 'pH^2', 'pH sulphates',\n",
              "       'pH alcohol', 'sulphates^2', 'sulphates alcohol', 'alcohol^2'],\n",
              "      dtype=object)"
            ]
          },
          "execution_count": 47,
          "metadata": {},
          "output_type": "execute_result"
        }
      ],
      "source": [
        "poly.get_feature_names_out()"
      ]
    },
    {
      "cell_type": "markdown",
      "metadata": {
        "id": "fUt03MOY4ScO"
      },
      "source": [
        "Observe that -\n",
        "* Some features have `^2` suffix - these are degree 2 features of the input features. For example, `sulphates^2` is the square of `sulphates` features.\n",
        "* Some features are combination of names of the original feature names. For example, `total sulfur dioxide pH` is a combination of two features `total sulfur dioxide` and `pH`.\n",
        "\n"
      ]
    },
    {
      "cell_type": "markdown",
      "metadata": {
        "id": "AsG4uEKc-UrE"
      },
      "source": [
        "# **7. Discretization**"
      ]
    },
    {
      "cell_type": "markdown",
      "metadata": {
        "id": "O8Tn8ock-O9q"
      },
      "source": [
        "**Discretization** (otherwise known as **quantization** or **binning**) provides a way to partition continuous features into discrete values.\n",
        "- Certain datasets with continuous features may benefit from discretization, because discretization can transform the dataset of continuous attributes to one with only nominal attributes.\n",
        "\n",
        "- One-hot encoded discretized features can make a model more expressive, while maintaining interpretability.\n",
        "\n",
        "- For instance, pre-processing with a discretizer can introduce nonlinearity to linear models."
      ]
    },
    {
      "cell_type": "code",
      "execution_count": null,
      "metadata": {
        "id": "fsp-Sj-WCjCK"
      },
      "outputs": [],
      "source": [
        "# KBinsDiscretizer discretizes features into k bins\n",
        "from sklearn.preprocessing import KBinsDiscretizer"
      ]
    },
    {
      "cell_type": "markdown",
      "metadata": {
        "id": "g3HzUMYMDGnM"
      },
      "source": [
        "Let us demonstrate `KBinsDiscretizer` using Wine quality dataset."
      ]
    },
    {
      "cell_type": "code",
      "execution_count": null,
      "metadata": {
        "id": "BevlImDUwtPu"
      },
      "outputs": [],
      "source": [
        "wine_data = wine_data_copy.copy()\n",
        "\n",
        "# transform the dataset with KBinsDiscretizer\n",
        "enc = KBinsDiscretizer(n_bins=10, encode=\"onehot\")\n",
        "X = np.array(wine_data['chlorides']).reshape(-1, 1)\n",
        "X_binned = enc.fit_transform(X)"
      ]
    },
    {
      "cell_type": "code",
      "execution_count": null,
      "metadata": {
        "colab": {
          "base_uri": "https://localhost:8080/"
        },
        "id": "A4KDx1mKDeYM",
        "outputId": "ef168141-01ac-41c6-aa61-f08e7dbc70d9"
      },
      "outputs": [
        {
          "data": {
            "text/plain": [
              "<1599x10 sparse matrix of type '<class 'numpy.float64'>'\n",
              "\twith 1599 stored elements in Compressed Sparse Row format>"
            ]
          },
          "execution_count": 50,
          "metadata": {},
          "output_type": "execute_result"
        }
      ],
      "source": [
        "X_binned"
      ]
    },
    {
      "cell_type": "code",
      "execution_count": null,
      "metadata": {
        "colab": {
          "base_uri": "https://localhost:8080/"
        },
        "id": "_98Fa7UnDutO",
        "outputId": "4968aa32-526a-4cb4-a2a9-ec4ac892d336"
      },
      "outputs": [
        {
          "data": {
            "text/plain": [
              "array([[0., 0., 0., 0., 1., 0., 0., 0., 0., 0.],\n",
              "       [0., 0., 0., 0., 0., 0., 0., 0., 1., 0.],\n",
              "       [0., 0., 0., 0., 0., 0., 0., 1., 0., 0.],\n",
              "       [0., 0., 0., 1., 0., 0., 0., 0., 0., 0.],\n",
              "       [0., 0., 0., 0., 1., 0., 0., 0., 0., 0.]])"
            ]
          },
          "execution_count": 51,
          "metadata": {},
          "output_type": "execute_result"
        }
      ],
      "source": [
        "# since output is sparse, use to_array() to expand it.\n",
        "X_binned.toarray()[:5]"
      ]
    },
    {
      "cell_type": "markdown",
      "metadata": {
        "id": "8T6-bE6rqxGe"
      },
      "source": [
        "# **8. Handling Categorical Features**"
      ]
    },
    {
      "cell_type": "markdown",
      "metadata": {
        "id": "dHhDHCnN3CFg"
      },
      "source": [
        "We need to convert the categorical features into numeric features.\n",
        "\n",
        "1. Ordinal encoding\n",
        "2. One-hot encoding\n",
        "3. Label encoder\n",
        "4. Using dummy variables\n"
      ]
    },
    {
      "cell_type": "markdown",
      "metadata": {
        "id": "jfnJbrKbffoi"
      },
      "source": [
        "### **Ordinal Encoding**"
      ]
    },
    {
      "cell_type": "markdown",
      "metadata": {
        "id": "H6wU4bfHF0bN"
      },
      "source": [
        "Categorical features are those that contain categories or groups such as education level, state etc as their data. These are non-numerical features and need to be converted into appropriate form before they feeding them for training an ML model.\n",
        "\n",
        "One intuitive way of handling them could be to assign them a numerical value. As an example, take state as a feature with 'Punjab', 'Rajasthan' and 'Haryana' as the possible values. We might consider assigning numbers to these values as follows:\n",
        "\n",
        "\n",
        "$$\n",
        "\\begin{array}{c|c}\n",
        "Old~feature & New~feature \\\\\n",
        "\\hline\n",
        "\\text{Punjab}&\\text{1}\\\\\n",
        "\\hline\n",
        "\\text{Rajasthan}&\\text{2}\\\\\n",
        "\\hline\n",
        "\\text{Haryana}&\\text{3}\\\\\n",
        "\\end{array}\n",
        "$$\n",
        "\n",
        "However, this approach assigns some ordering to the labels, i.e., states, thus representing that Haryana is thrice Punjab and Rajasthan is twice Punjab, these relationships do not exist in the data, thus providing wrong information to the ML model.\n",
        "\n",
        "One of the most-common approaches to handle this is: *One-hot encoding*."
      ]
    },
    {
      "cell_type": "markdown",
      "metadata": {
        "id": "LP26w9OSlyqH"
      },
      "source": [
        "## **One-hot Encoding**"
      ]
    },
    {
      "cell_type": "markdown",
      "metadata": {
        "id": "rccHTXKImCxe"
      },
      "source": [
        "This approach consists of creating an additional feature for each label present in the categorical feature (i.e., the number of different states here) and putting a 1 or 0 for these new features depending on the categorical feature's value. That is,\n",
        "\n",
        "$$\n",
        "\\begin{array}{c|c}\n",
        "Old~feature & New~feature_1 (Punjab) & New~feature_2 (Rajasthan)&New~feature_3 (Haryana)\\\\\n",
        "\\hline\n",
        "\\text{Punjab}&\\text{1}&0&0\\\\\n",
        "\\hline\n",
        "\\text{Rajasthan}&\\text{0}&1&0\\\\\n",
        "\\hline\n",
        "\\text{Haryana}&\\text{0}&0&1\\\\\n",
        "\\end{array}\n",
        "$$\n"
      ]
    },
    {
      "cell_type": "markdown",
      "metadata": {
        "id": "KU62HLCwrBpJ"
      },
      "source": [
        "It may be implemented using `OneHotEncoder` class from `sklearn.preprocessing` module.  Let's demonstrate this concept with `Iris` dataset."
      ]
    },
    {
      "cell_type": "code",
      "execution_count": null,
      "metadata": {
        "id": "Dh-lJDwUIUiv"
      },
      "outputs": [],
      "source": [
        "from sklearn.preprocessing import OrdinalEncoder\n",
        "from sklearn.preprocessing import OneHotEncoder"
      ]
    },
    {
      "cell_type": "markdown",
      "metadata": {
        "id": "FdCqf8flwGAa"
      },
      "source": [
        "[**Iris dataset**](https://archive.ics.uci.edu/ml/datasets/iris) has the following features:\n",
        "\n",
        "```\n",
        "1. sepal length in cm\n",
        "2. sepal width in cm\n",
        "3. petal length in cm\n",
        "4. petal width in cm\n",
        "5. class: Iris Setosa, Iris Versicolour, Iris Virginica\n",
        "```"
      ]
    },
    {
      "cell_type": "code",
      "execution_count": null,
      "metadata": {
        "colab": {
          "base_uri": "https://localhost:8080/",
          "height": 206
        },
        "id": "VMzc-z7fIQ49",
        "outputId": "dc4f0b09-e770-4ba0-c231-eeedc3cfaa87"
      },
      "outputs": [
        {
          "data": {
            "text/html": [
              "\n",
              "  <div id=\"df-96c4be03-90b6-4377-acd2-138a0eff79ba\">\n",
              "    <div class=\"colab-df-container\">\n",
              "      <div>\n",
              "<style scoped>\n",
              "    .dataframe tbody tr th:only-of-type {\n",
              "        vertical-align: middle;\n",
              "    }\n",
              "\n",
              "    .dataframe tbody tr th {\n",
              "        vertical-align: top;\n",
              "    }\n",
              "\n",
              "    .dataframe thead th {\n",
              "        text-align: right;\n",
              "    }\n",
              "</style>\n",
              "<table border=\"1\" class=\"dataframe\">\n",
              "  <thead>\n",
              "    <tr style=\"text-align: right;\">\n",
              "      <th></th>\n",
              "      <th>sepal length</th>\n",
              "      <th>sepal width</th>\n",
              "      <th>petal length</th>\n",
              "      <th>petal width</th>\n",
              "      <th>label</th>\n",
              "    </tr>\n",
              "  </thead>\n",
              "  <tbody>\n",
              "    <tr>\n",
              "      <th>0</th>\n",
              "      <td>5.1</td>\n",
              "      <td>3.5</td>\n",
              "      <td>1.4</td>\n",
              "      <td>0.2</td>\n",
              "      <td>Iris-setosa</td>\n",
              "    </tr>\n",
              "    <tr>\n",
              "      <th>1</th>\n",
              "      <td>4.9</td>\n",
              "      <td>3.0</td>\n",
              "      <td>1.4</td>\n",
              "      <td>0.2</td>\n",
              "      <td>Iris-setosa</td>\n",
              "    </tr>\n",
              "    <tr>\n",
              "      <th>2</th>\n",
              "      <td>4.7</td>\n",
              "      <td>3.2</td>\n",
              "      <td>1.3</td>\n",
              "      <td>0.2</td>\n",
              "      <td>Iris-setosa</td>\n",
              "    </tr>\n",
              "    <tr>\n",
              "      <th>3</th>\n",
              "      <td>4.6</td>\n",
              "      <td>3.1</td>\n",
              "      <td>1.5</td>\n",
              "      <td>0.2</td>\n",
              "      <td>Iris-setosa</td>\n",
              "    </tr>\n",
              "    <tr>\n",
              "      <th>4</th>\n",
              "      <td>5.0</td>\n",
              "      <td>3.6</td>\n",
              "      <td>1.4</td>\n",
              "      <td>0.2</td>\n",
              "      <td>Iris-setosa</td>\n",
              "    </tr>\n",
              "  </tbody>\n",
              "</table>\n",
              "</div>\n",
              "      <button class=\"colab-df-convert\" onclick=\"convertToInteractive('df-96c4be03-90b6-4377-acd2-138a0eff79ba')\"\n",
              "              title=\"Convert this dataframe to an interactive table.\"\n",
              "              style=\"display:none;\">\n",
              "        \n",
              "  <svg xmlns=\"http://www.w3.org/2000/svg\" height=\"24px\"viewBox=\"0 0 24 24\"\n",
              "       width=\"24px\">\n",
              "    <path d=\"M0 0h24v24H0V0z\" fill=\"none\"/>\n",
              "    <path d=\"M18.56 5.44l.94 2.06.94-2.06 2.06-.94-2.06-.94-.94-2.06-.94 2.06-2.06.94zm-11 1L8.5 8.5l.94-2.06 2.06-.94-2.06-.94L8.5 2.5l-.94 2.06-2.06.94zm10 10l.94 2.06.94-2.06 2.06-.94-2.06-.94-.94-2.06-.94 2.06-2.06.94z\"/><path d=\"M17.41 7.96l-1.37-1.37c-.4-.4-.92-.59-1.43-.59-.52 0-1.04.2-1.43.59L10.3 9.45l-7.72 7.72c-.78.78-.78 2.05 0 2.83L4 21.41c.39.39.9.59 1.41.59.51 0 1.02-.2 1.41-.59l7.78-7.78 2.81-2.81c.8-.78.8-2.07 0-2.86zM5.41 20L4 18.59l7.72-7.72 1.47 1.35L5.41 20z\"/>\n",
              "  </svg>\n",
              "      </button>\n",
              "      \n",
              "  <style>\n",
              "    .colab-df-container {\n",
              "      display:flex;\n",
              "      flex-wrap:wrap;\n",
              "      gap: 12px;\n",
              "    }\n",
              "\n",
              "    .colab-df-convert {\n",
              "      background-color: #E8F0FE;\n",
              "      border: none;\n",
              "      border-radius: 50%;\n",
              "      cursor: pointer;\n",
              "      display: none;\n",
              "      fill: #1967D2;\n",
              "      height: 32px;\n",
              "      padding: 0 0 0 0;\n",
              "      width: 32px;\n",
              "    }\n",
              "\n",
              "    .colab-df-convert:hover {\n",
              "      background-color: #E2EBFA;\n",
              "      box-shadow: 0px 1px 2px rgba(60, 64, 67, 0.3), 0px 1px 3px 1px rgba(60, 64, 67, 0.15);\n",
              "      fill: #174EA6;\n",
              "    }\n",
              "\n",
              "    [theme=dark] .colab-df-convert {\n",
              "      background-color: #3B4455;\n",
              "      fill: #D2E3FC;\n",
              "    }\n",
              "\n",
              "    [theme=dark] .colab-df-convert:hover {\n",
              "      background-color: #434B5C;\n",
              "      box-shadow: 0px 1px 3px 1px rgba(0, 0, 0, 0.15);\n",
              "      filter: drop-shadow(0px 1px 2px rgba(0, 0, 0, 0.3));\n",
              "      fill: #FFFFFF;\n",
              "    }\n",
              "  </style>\n",
              "\n",
              "      <script>\n",
              "        const buttonEl =\n",
              "          document.querySelector('#df-96c4be03-90b6-4377-acd2-138a0eff79ba button.colab-df-convert');\n",
              "        buttonEl.style.display =\n",
              "          google.colab.kernel.accessAllowed ? 'block' : 'none';\n",
              "\n",
              "        async function convertToInteractive(key) {\n",
              "          const element = document.querySelector('#df-96c4be03-90b6-4377-acd2-138a0eff79ba');\n",
              "          const dataTable =\n",
              "            await google.colab.kernel.invokeFunction('convertToInteractive',\n",
              "                                                     [key], {});\n",
              "          if (!dataTable) return;\n",
              "\n",
              "          const docLinkHtml = 'Like what you see? Visit the ' +\n",
              "            '<a target=\"_blank\" href=https://colab.research.google.com/notebooks/data_table.ipynb>data table notebook</a>'\n",
              "            + ' to learn more about interactive tables.';\n",
              "          element.innerHTML = '';\n",
              "          dataTable['output_type'] = 'display_data';\n",
              "          await google.colab.output.renderOutput(dataTable, element);\n",
              "          const docLink = document.createElement('div');\n",
              "          docLink.innerHTML = docLinkHtml;\n",
              "          element.appendChild(docLink);\n",
              "        }\n",
              "      </script>\n",
              "    </div>\n",
              "  </div>\n",
              "  "
            ],
            "text/plain": [
              "   sepal length  sepal width  petal length  petal width        label\n",
              "0           5.1          3.5           1.4          0.2  Iris-setosa\n",
              "1           4.9          3.0           1.4          0.2  Iris-setosa\n",
              "2           4.7          3.2           1.3          0.2  Iris-setosa\n",
              "3           4.6          3.1           1.5          0.2  Iris-setosa\n",
              "4           5.0          3.6           1.4          0.2  Iris-setosa"
            ]
          },
          "execution_count": 53,
          "metadata": {},
          "output_type": "execute_result"
        }
      ],
      "source": [
        "cols = ['sepal length', 'sepal width', 'petal length', 'petal width','label']\n",
        "iris_data = pd.read_csv('https://archive.ics.uci.edu/ml/machine-learning-databases/iris/iris.data',header=None, names=cols)\n",
        "iris_data.head()"
      ]
    },
    {
      "cell_type": "markdown",
      "metadata": {
        "id": "JEvdoBxVvyUT"
      },
      "source": [
        "The `label` is a categorical attribute."
      ]
    },
    {
      "cell_type": "code",
      "execution_count": null,
      "metadata": {
        "colab": {
          "base_uri": "https://localhost:8080/"
        },
        "id": "lq-JY9zFv3YC",
        "outputId": "cf4b6037-9669-44ad-ec8b-a6ab336da2fb"
      },
      "outputs": [
        {
          "data": {
            "text/plain": [
              "array(['Iris-setosa', 'Iris-versicolor', 'Iris-virginica'], dtype=object)"
            ]
          },
          "execution_count": 54,
          "metadata": {},
          "output_type": "execute_result"
        }
      ],
      "source": [
        "iris_data.label.unique()"
      ]
    },
    {
      "cell_type": "markdown",
      "metadata": {
        "id": "Oq-6qPmWwDLl"
      },
      "source": [
        "There are three class labels.  Let's convert them to one hot vectors."
      ]
    },
    {
      "cell_type": "code",
      "execution_count": null,
      "metadata": {
        "colab": {
          "base_uri": "https://localhost:8080/"
        },
        "id": "YDSskTWPE4Jb",
        "outputId": "fd853e6a-e89e-44e2-dfeb-f435dab415aa"
      },
      "outputs": [
        {
          "name": "stdout",
          "output_type": "stream",
          "text": [
            "Shape of y before encoding (150,)\n",
            "Shape of y after encoding (150, 3)\n",
            "First 5 labels:\n",
            "[[1. 0. 0.]\n",
            " [1. 0. 0.]\n",
            " [1. 0. 0.]\n",
            " [1. 0. 0.]\n",
            " [1. 0. 0.]]\n"
          ]
        }
      ],
      "source": [
        "onehotencoder = OneHotEncoder(categories='auto')\n",
        "print('Shape of y before encoding', iris_data.label.shape)\n",
        "\n",
        "'''\n",
        "Passing 1d arrays as data to onehotencoder is deprecated in version ,\n",
        "hence reshape to (-1,1)  to have two dimensions.\n",
        "Input of onehotencoder fit_transform must not be 1-rank array\n",
        "'''\n",
        "iris_labels = onehotencoder.fit_transform(iris_data.label.values.reshape(-1,1))\n",
        "\n",
        "# y.reshape(-1,1) is a 450x1 sparse matrix of type '<class 'numpy.float64'>'\n",
        "# with 150 stored elements in Coordinate format.\n",
        "# y is a 150x3 sparse matrix of type '<class 'numpy.float64'>' with 150 stored\n",
        "# elements in compressed sparse row format.\n",
        "print('Shape of y after encoding', iris_labels.shape)\n",
        "\n",
        "# since output is sparse use to_array() to expand it.\n",
        "print (\"First 5 labels:\")\n",
        "print(iris_labels.toarray()[:5])"
      ]
    },
    {
      "cell_type": "markdown",
      "metadata": {
        "id": "OORPr9766aBh"
      },
      "source": [
        "Let us observe the difference between one hot encoding and ordinal encoding."
      ]
    },
    {
      "cell_type": "code",
      "execution_count": null,
      "metadata": {
        "colab": {
          "base_uri": "https://localhost:8080/"
        },
        "id": "RweQUAft4QqP",
        "outputId": "a84a8c0d-abc4-433f-90c7-5f7ec710e093"
      },
      "outputs": [
        {
          "name": "stdout",
          "output_type": "stream",
          "text": [
            "Unique labels: [0. 1. 2.]\n",
            "\n",
            "First 5 labels:\n",
            "[[0.]\n",
            " [0.]\n",
            " [0.]\n",
            " [0.]\n",
            " [0.]]\n"
          ]
        }
      ],
      "source": [
        "enc = OrdinalEncoder()\n",
        "iris_labels = np.array(iris_data['label'])\n",
        "\n",
        "iris_labels_transformed = enc.fit_transform(iris_labels.reshape(-1, 1))\n",
        "print (\"Unique labels:\", np.unique(iris_labels_transformed))\n",
        "\n",
        "print (\"\\nFirst 5 labels:\")\n",
        "print (iris_labels_transformed[:5])"
      ]
    },
    {
      "cell_type": "markdown",
      "metadata": {
        "id": "VrU-EsInnmN7"
      },
      "source": [
        "## **LabelEncoder**\n",
        "\n",
        "Another option is to use `LabelEncoder` for transforming categorical features into integer codes."
      ]
    },
    {
      "cell_type": "code",
      "execution_count": null,
      "metadata": {
        "id": "kenZ-dMf_OBb"
      },
      "outputs": [],
      "source": [
        "from sklearn.preprocessing import LabelEncoder"
      ]
    },
    {
      "cell_type": "code",
      "execution_count": null,
      "metadata": {
        "colab": {
          "base_uri": "https://localhost:8080/"
        },
        "id": "wiTRvLN6ousD",
        "outputId": "e8ddfbbc-3d3a-4ec5-ccb3-2f0faaecb450"
      },
      "outputs": [
        {
          "data": {
            "text/plain": [
              "array([0, 0, 0, 0, 0, 0, 0, 0, 0, 0, 0, 0, 0, 0, 0, 0, 0, 0, 0, 0, 0, 0,\n",
              "       0, 0, 0, 0, 0, 0, 0, 0, 0, 0, 0, 0, 0, 0, 0, 0, 0, 0, 0, 0, 0, 0,\n",
              "       0, 0, 0, 0, 0, 0, 1, 1, 1, 1, 1, 1, 1, 1, 1, 1, 1, 1, 1, 1, 1, 1,\n",
              "       1, 1, 1, 1, 1, 1, 1, 1, 1, 1, 1, 1, 1, 1, 1, 1, 1, 1, 1, 1, 1, 1,\n",
              "       1, 1, 1, 1, 1, 1, 1, 1, 1, 1, 1, 1, 2, 2, 2, 2, 2, 2, 2, 2, 2, 2,\n",
              "       2, 2, 2, 2, 2, 2, 2, 2, 2, 2, 2, 2, 2, 2, 2, 2, 2, 2, 2, 2, 2, 2,\n",
              "       2, 2, 2, 2, 2, 2, 2, 2, 2, 2, 2, 2, 2, 2, 2, 2, 2, 2])"
            ]
          },
          "execution_count": 58,
          "metadata": {},
          "output_type": "execute_result"
        }
      ],
      "source": [
        "# get the class column in a new variable\n",
        "iris_labels = np.array(iris_data['label'])\n",
        "\n",
        "# encode the class names to integers\n",
        "enc = LabelEncoder()\n",
        "label_integer = enc.fit_transform(iris_labels)\n",
        "label_integer"
      ]
    },
    {
      "cell_type": "markdown",
      "metadata": {
        "id": "TZq1z1hG3t5z"
      },
      "source": [
        "## **MultilabelBinarizer**\n",
        "\n",
        "Encodes categorical features with value between 0 and $k -1$, where $k$ is number of classes."
      ]
    },
    {
      "cell_type": "code",
      "execution_count": null,
      "metadata": {
        "id": "fNAsNZGs38Ng"
      },
      "outputs": [],
      "source": [
        "movie_genres =[{'action', 'comedy' },\n",
        "               {'comedy'},\n",
        "               {'action', 'thriller'},\n",
        "               {'science-fiction', 'action', 'thriller'}]"
      ]
    },
    {
      "cell_type": "code",
      "execution_count": null,
      "metadata": {
        "colab": {
          "base_uri": "https://localhost:8080/"
        },
        "id": "dxZ_-jc74DvQ",
        "outputId": "44353660-e9df-4e06-fa64-1757c34e8f98"
      },
      "outputs": [
        {
          "data": {
            "text/plain": [
              "array([[1, 1, 0, 0],\n",
              "       [0, 1, 0, 0],\n",
              "       [1, 0, 0, 1],\n",
              "       [1, 0, 1, 1]])"
            ]
          },
          "execution_count": 60,
          "metadata": {},
          "output_type": "execute_result"
        }
      ],
      "source": [
        "from sklearn.preprocessing import MultiLabelBinarizer\n",
        "mlb = MultiLabelBinarizer()\n",
        "mlb.fit_transform(movie_genres)"
      ]
    },
    {
      "cell_type": "markdown",
      "metadata": {
        "id": "SeIc1BC4Gdf9"
      },
      "source": [
        "## **Using dummy variables**"
      ]
    },
    {
      "cell_type": "code",
      "execution_count": null,
      "metadata": {
        "colab": {
          "base_uri": "https://localhost:8080/",
          "height": 423
        },
        "id": "cwoMIy36ttbg",
        "outputId": "68bdfafc-1c50-46c9-a023-d34acdb5a6da"
      },
      "outputs": [
        {
          "data": {
            "text/html": [
              "\n",
              "  <div id=\"df-f37c4f36-3d42-4363-82a2-c543e8b503ac\">\n",
              "    <div class=\"colab-df-container\">\n",
              "      <div>\n",
              "<style scoped>\n",
              "    .dataframe tbody tr th:only-of-type {\n",
              "        vertical-align: middle;\n",
              "    }\n",
              "\n",
              "    .dataframe tbody tr th {\n",
              "        vertical-align: top;\n",
              "    }\n",
              "\n",
              "    .dataframe thead th {\n",
              "        text-align: right;\n",
              "    }\n",
              "</style>\n",
              "<table border=\"1\" class=\"dataframe\">\n",
              "  <thead>\n",
              "    <tr style=\"text-align: right;\">\n",
              "      <th></th>\n",
              "      <th>sepal length</th>\n",
              "      <th>sepal width</th>\n",
              "      <th>petal length</th>\n",
              "      <th>petal width</th>\n",
              "      <th>one_hot_Iris-setosa</th>\n",
              "      <th>one_hot_Iris-versicolor</th>\n",
              "      <th>one_hot_Iris-virginica</th>\n",
              "    </tr>\n",
              "  </thead>\n",
              "  <tbody>\n",
              "    <tr>\n",
              "      <th>0</th>\n",
              "      <td>5.1</td>\n",
              "      <td>3.5</td>\n",
              "      <td>1.4</td>\n",
              "      <td>0.2</td>\n",
              "      <td>1</td>\n",
              "      <td>0</td>\n",
              "      <td>0</td>\n",
              "    </tr>\n",
              "    <tr>\n",
              "      <th>1</th>\n",
              "      <td>4.9</td>\n",
              "      <td>3.0</td>\n",
              "      <td>1.4</td>\n",
              "      <td>0.2</td>\n",
              "      <td>1</td>\n",
              "      <td>0</td>\n",
              "      <td>0</td>\n",
              "    </tr>\n",
              "    <tr>\n",
              "      <th>2</th>\n",
              "      <td>4.7</td>\n",
              "      <td>3.2</td>\n",
              "      <td>1.3</td>\n",
              "      <td>0.2</td>\n",
              "      <td>1</td>\n",
              "      <td>0</td>\n",
              "      <td>0</td>\n",
              "    </tr>\n",
              "    <tr>\n",
              "      <th>3</th>\n",
              "      <td>4.6</td>\n",
              "      <td>3.1</td>\n",
              "      <td>1.5</td>\n",
              "      <td>0.2</td>\n",
              "      <td>1</td>\n",
              "      <td>0</td>\n",
              "      <td>0</td>\n",
              "    </tr>\n",
              "    <tr>\n",
              "      <th>4</th>\n",
              "      <td>5.0</td>\n",
              "      <td>3.6</td>\n",
              "      <td>1.4</td>\n",
              "      <td>0.2</td>\n",
              "      <td>1</td>\n",
              "      <td>0</td>\n",
              "      <td>0</td>\n",
              "    </tr>\n",
              "    <tr>\n",
              "      <th>...</th>\n",
              "      <td>...</td>\n",
              "      <td>...</td>\n",
              "      <td>...</td>\n",
              "      <td>...</td>\n",
              "      <td>...</td>\n",
              "      <td>...</td>\n",
              "      <td>...</td>\n",
              "    </tr>\n",
              "    <tr>\n",
              "      <th>145</th>\n",
              "      <td>6.7</td>\n",
              "      <td>3.0</td>\n",
              "      <td>5.2</td>\n",
              "      <td>2.3</td>\n",
              "      <td>0</td>\n",
              "      <td>0</td>\n",
              "      <td>1</td>\n",
              "    </tr>\n",
              "    <tr>\n",
              "      <th>146</th>\n",
              "      <td>6.3</td>\n",
              "      <td>2.5</td>\n",
              "      <td>5.0</td>\n",
              "      <td>1.9</td>\n",
              "      <td>0</td>\n",
              "      <td>0</td>\n",
              "      <td>1</td>\n",
              "    </tr>\n",
              "    <tr>\n",
              "      <th>147</th>\n",
              "      <td>6.5</td>\n",
              "      <td>3.0</td>\n",
              "      <td>5.2</td>\n",
              "      <td>2.0</td>\n",
              "      <td>0</td>\n",
              "      <td>0</td>\n",
              "      <td>1</td>\n",
              "    </tr>\n",
              "    <tr>\n",
              "      <th>148</th>\n",
              "      <td>6.2</td>\n",
              "      <td>3.4</td>\n",
              "      <td>5.4</td>\n",
              "      <td>2.3</td>\n",
              "      <td>0</td>\n",
              "      <td>0</td>\n",
              "      <td>1</td>\n",
              "    </tr>\n",
              "    <tr>\n",
              "      <th>149</th>\n",
              "      <td>5.9</td>\n",
              "      <td>3.0</td>\n",
              "      <td>5.1</td>\n",
              "      <td>1.8</td>\n",
              "      <td>0</td>\n",
              "      <td>0</td>\n",
              "      <td>1</td>\n",
              "    </tr>\n",
              "  </tbody>\n",
              "</table>\n",
              "<p>150 rows × 7 columns</p>\n",
              "</div>\n",
              "      <button class=\"colab-df-convert\" onclick=\"convertToInteractive('df-f37c4f36-3d42-4363-82a2-c543e8b503ac')\"\n",
              "              title=\"Convert this dataframe to an interactive table.\"\n",
              "              style=\"display:none;\">\n",
              "        \n",
              "  <svg xmlns=\"http://www.w3.org/2000/svg\" height=\"24px\"viewBox=\"0 0 24 24\"\n",
              "       width=\"24px\">\n",
              "    <path d=\"M0 0h24v24H0V0z\" fill=\"none\"/>\n",
              "    <path d=\"M18.56 5.44l.94 2.06.94-2.06 2.06-.94-2.06-.94-.94-2.06-.94 2.06-2.06.94zm-11 1L8.5 8.5l.94-2.06 2.06-.94-2.06-.94L8.5 2.5l-.94 2.06-2.06.94zm10 10l.94 2.06.94-2.06 2.06-.94-2.06-.94-.94-2.06-.94 2.06-2.06.94z\"/><path d=\"M17.41 7.96l-1.37-1.37c-.4-.4-.92-.59-1.43-.59-.52 0-1.04.2-1.43.59L10.3 9.45l-7.72 7.72c-.78.78-.78 2.05 0 2.83L4 21.41c.39.39.9.59 1.41.59.51 0 1.02-.2 1.41-.59l7.78-7.78 2.81-2.81c.8-.78.8-2.07 0-2.86zM5.41 20L4 18.59l7.72-7.72 1.47 1.35L5.41 20z\"/>\n",
              "  </svg>\n",
              "      </button>\n",
              "      \n",
              "  <style>\n",
              "    .colab-df-container {\n",
              "      display:flex;\n",
              "      flex-wrap:wrap;\n",
              "      gap: 12px;\n",
              "    }\n",
              "\n",
              "    .colab-df-convert {\n",
              "      background-color: #E8F0FE;\n",
              "      border: none;\n",
              "      border-radius: 50%;\n",
              "      cursor: pointer;\n",
              "      display: none;\n",
              "      fill: #1967D2;\n",
              "      height: 32px;\n",
              "      padding: 0 0 0 0;\n",
              "      width: 32px;\n",
              "    }\n",
              "\n",
              "    .colab-df-convert:hover {\n",
              "      background-color: #E2EBFA;\n",
              "      box-shadow: 0px 1px 2px rgba(60, 64, 67, 0.3), 0px 1px 3px 1px rgba(60, 64, 67, 0.15);\n",
              "      fill: #174EA6;\n",
              "    }\n",
              "\n",
              "    [theme=dark] .colab-df-convert {\n",
              "      background-color: #3B4455;\n",
              "      fill: #D2E3FC;\n",
              "    }\n",
              "\n",
              "    [theme=dark] .colab-df-convert:hover {\n",
              "      background-color: #434B5C;\n",
              "      box-shadow: 0px 1px 3px 1px rgba(0, 0, 0, 0.15);\n",
              "      filter: drop-shadow(0px 1px 2px rgba(0, 0, 0, 0.3));\n",
              "      fill: #FFFFFF;\n",
              "    }\n",
              "  </style>\n",
              "\n",
              "      <script>\n",
              "        const buttonEl =\n",
              "          document.querySelector('#df-f37c4f36-3d42-4363-82a2-c543e8b503ac button.colab-df-convert');\n",
              "        buttonEl.style.display =\n",
              "          google.colab.kernel.accessAllowed ? 'block' : 'none';\n",
              "\n",
              "        async function convertToInteractive(key) {\n",
              "          const element = document.querySelector('#df-f37c4f36-3d42-4363-82a2-c543e8b503ac');\n",
              "          const dataTable =\n",
              "            await google.colab.kernel.invokeFunction('convertToInteractive',\n",
              "                                                     [key], {});\n",
              "          if (!dataTable) return;\n",
              "\n",
              "          const docLinkHtml = 'Like what you see? Visit the ' +\n",
              "            '<a target=\"_blank\" href=https://colab.research.google.com/notebooks/data_table.ipynb>data table notebook</a>'\n",
              "            + ' to learn more about interactive tables.';\n",
              "          element.innerHTML = '';\n",
              "          dataTable['output_type'] = 'display_data';\n",
              "          await google.colab.output.renderOutput(dataTable, element);\n",
              "          const docLink = document.createElement('div');\n",
              "          docLink.innerHTML = docLinkHtml;\n",
              "          element.appendChild(docLink);\n",
              "        }\n",
              "      </script>\n",
              "    </div>\n",
              "  </div>\n",
              "  "
            ],
            "text/plain": [
              "     sepal length  sepal width  petal length  petal width  \\\n",
              "0             5.1          3.5           1.4          0.2   \n",
              "1             4.9          3.0           1.4          0.2   \n",
              "2             4.7          3.2           1.3          0.2   \n",
              "3             4.6          3.1           1.5          0.2   \n",
              "4             5.0          3.6           1.4          0.2   \n",
              "..            ...          ...           ...          ...   \n",
              "145           6.7          3.0           5.2          2.3   \n",
              "146           6.3          2.5           5.0          1.9   \n",
              "147           6.5          3.0           5.2          2.0   \n",
              "148           6.2          3.4           5.4          2.3   \n",
              "149           5.9          3.0           5.1          1.8   \n",
              "\n",
              "     one_hot_Iris-setosa  one_hot_Iris-versicolor  one_hot_Iris-virginica  \n",
              "0                      1                        0                       0  \n",
              "1                      1                        0                       0  \n",
              "2                      1                        0                       0  \n",
              "3                      1                        0                       0  \n",
              "4                      1                        0                       0  \n",
              "..                   ...                      ...                     ...  \n",
              "145                    0                        0                       1  \n",
              "146                    0                        0                       1  \n",
              "147                    0                        0                       1  \n",
              "148                    0                        0                       1  \n",
              "149                    0                        0                       1  \n",
              "\n",
              "[150 rows x 7 columns]"
            ]
          },
          "execution_count": 61,
          "metadata": {},
          "output_type": "execute_result"
        }
      ],
      "source": [
        "# use get_dummies to create a one-hot encoding for each unique categorical value in the 'class' column\n",
        "# Convert categorical class variable to one-hot encoding:\n",
        "iris_data_onehot = pd.get_dummies(iris_data, columns=['label'], prefix=['one_hot'])\n",
        "iris_data_onehot"
      ]
    },
    {
      "cell_type": "markdown",
      "metadata": {
        "id": "NL7sBAvs6wb3"
      },
      "source": [
        "# **9. Composite Transformers**"
      ]
    },
    {
      "cell_type": "markdown",
      "metadata": {
        "id": "z7crnARM6zus"
      },
      "source": [
        "### ColumnTransformer"
      ]
    },
    {
      "cell_type": "markdown",
      "metadata": {
        "id": "2h8bGLCmChI9"
      },
      "source": [
        "It applies a set of transformers to columns of an array or `pandas.DataFrame`, concatenates the transformed outputs from different transformers into a single matrix.\n",
        "\n",
        "* It is useful for transforming heterogenous data by applying different transformers to separate subsets of features.\n",
        "\n",
        "* It combines different feature selection mechanisms and transformation into a single transformer object."
      ]
    },
    {
      "cell_type": "code",
      "execution_count": null,
      "metadata": {
        "id": "TX5IrMVd1gbz"
      },
      "outputs": [],
      "source": [
        "x = [\n",
        "   [20.0, 'male',],\n",
        "   [11.2, 'female',],\n",
        "   [15.6, 'female',],\n",
        "   [13.0, 'male',],\n",
        "   [18.6, 'male',],\n",
        "   [16.4, 'female',]\n",
        "]\n",
        "x = np.array(x)"
      ]
    },
    {
      "cell_type": "code",
      "execution_count": null,
      "metadata": {
        "colab": {
          "base_uri": "https://localhost:8080/"
        },
        "id": "hWl4hTGR1jor",
        "outputId": "9b054cce-3ef9-444c-fe66-95c23a7b6496"
      },
      "outputs": [
        {
          "data": {
            "text/plain": [
              "array([['1.0', '20.0', '0.0', '1.0'],\n",
              "       ['0.5599999999999999', '11.2', '1.0', '0.0'],\n",
              "       ['0.78', '15.6', '1.0', '0.0'],\n",
              "       ['0.65', '13.0', '0.0', '1.0'],\n",
              "       ['0.93', '18.6', '0.0', '1.0'],\n",
              "       ['0.82', '16.4', '1.0', '0.0']], dtype='<U32')"
            ]
          },
          "execution_count": 63,
          "metadata": {},
          "output_type": "execute_result"
        }
      ],
      "source": [
        "from sklearn.compose import ColumnTransformer\n",
        "from sklearn.preprocessing import MaxAbsScaler, OneHotEncoder\n",
        "\n",
        "ct = ColumnTransformer([('scaler', MaxAbsScaler(),[0]),\n",
        "                        ('pass', 'passthrough',[0]),\n",
        "                        ('encoder', OneHotEncoder(),[1])])\n",
        "\n",
        "ct.fit_transform(x)"
      ]
    },
    {
      "cell_type": "markdown",
      "metadata": {
        "id": "mPK3DcKU66we"
      },
      "source": [
        "### TransformedTargetRegressor"
      ]
    },
    {
      "cell_type": "markdown",
      "metadata": {
        "id": "APebvQbtCxlI"
      },
      "source": [
        "Transforms the target variable `y` before fitting a regression model.\n",
        "\n",
        "* The predicted values are mapped back to the original space via an inverse transform.\n",
        "* It takes **regressor** and transformer to be applied to the target variable as arguments."
      ]
    },
    {
      "cell_type": "code",
      "execution_count": null,
      "metadata": {
        "colab": {
          "base_uri": "https://localhost:8080/"
        },
        "id": "I4x7b6N_1p0R",
        "outputId": "042609db-c615-494b-9b82-39984a389507"
      },
      "outputs": [
        {
          "name": "stdout",
          "output_type": "stream",
          "text": [
            "R2 score of raw label regression: 0.59\n",
            "R2 score of transformed label regression: 0.59\n"
          ]
        }
      ],
      "source": [
        "from sklearn.compose import TransformedTargetRegressor\n",
        "from sklearn.preprocessing import MaxAbsScaler\n",
        "from sklearn.linear_model import LinearRegression\n",
        "from sklearn.model_selection import train_test_split\n",
        "from sklearn.datasets import fetch_california_housing\n",
        "\n",
        "X, y = fetch_california_housing(return_X_y=True)\n",
        "X, y = X[:2000, :], y[:2000]  # select a subset of data\n",
        "\n",
        "transformer = MaxAbsScaler()\n",
        "\n",
        "# Two regressor - one based on the original label.\n",
        "regressor = LinearRegression()\n",
        "\n",
        "# second regressor with transformed labels.\n",
        "regr = TransformedTargetRegressor(regressor=regressor, transformer=transformer)\n",
        "\n",
        "X_train, X_test, y_train, y_test = train_test_split(X, y, random_state=0)\n",
        "regr.fit(X_train, y_train)\n",
        "print('R2 score of raw label regression: {0:.2f}'.format(\n",
        "    regr.score(X_test, y_test)))\n",
        "\n",
        "raw_target_regr = LinearRegression().fit(X_train, y_train)\n",
        "print('R2 score of transformed label regression: {0:.2f}'.format(\n",
        "    raw_target_regr.score(X_test, y_test)))"
      ]
    },
    {
      "cell_type": "markdown",
      "metadata": {
        "id": "511TpbYV0BRr"
      },
      "source": [
        "# **10. Feature Selection**\n",
        "\n",
        "`sklearn.feature_selection` module has useful APIs to select features/ reduce dimensionality, either to improve estimators’ accuracy scores or to boost their performance on very high-dimensional datasets."
      ]
    },
    {
      "cell_type": "markdown",
      "metadata": {
        "id": "Ivis5St552Qb"
      },
      "source": [
        "## Filter based methods"
      ]
    },
    {
      "cell_type": "markdown",
      "metadata": {
        "id": "9gL4nu3T589W"
      },
      "source": [
        "### VarianceThreshold\n",
        "\n",
        "This transformer helps to keep only high variance features by providing a certain threshold.\n",
        "\n",
        "> Features with variance greater or equal to threshold value are kept rest are removed.\n",
        "\n",
        "> By default it removes any feature with same value i.e. 0 variance."
      ]
    },
    {
      "cell_type": "code",
      "execution_count": null,
      "metadata": {
        "colab": {
          "base_uri": "https://localhost:8080/"
        },
        "id": "RSb-EygBzso9",
        "outputId": "00e0c467-ac1e-4728-e2fc-3c924e391e3c"
      },
      "outputs": [
        {
          "data": {
            "text/plain": [
              "array([ 1.25 , 67.735])"
            ]
          },
          "execution_count": 65,
          "metadata": {},
          "output_type": "execute_result"
        }
      ],
      "source": [
        "data = [{'age': 4, 'height':96.0},\n",
        "        {'age': 1, 'height':73.9},\n",
        "        {'age': 3, 'height':88.9},\n",
        "        {'age': 2, 'height':81.6}]\n",
        "\n",
        "dv = DictVectorizer(sparse=False)\n",
        "data_transformed = dv.fit_transform(data)\n",
        "np.var(data_transformed, axis = 0)"
      ]
    },
    {
      "cell_type": "code",
      "execution_count": null,
      "metadata": {
        "colab": {
          "base_uri": "https://localhost:8080/"
        },
        "id": "klhI1IP31FLt",
        "outputId": "30a5b86b-9873-4aa1-8a64-4e809c2237e7"
      },
      "outputs": [
        {
          "data": {
            "text/plain": [
              "array([[96. ],\n",
              "       [73.9],\n",
              "       [88.9],\n",
              "       [81.6]])"
            ]
          },
          "execution_count": 66,
          "metadata": {},
          "output_type": "execute_result"
        }
      ],
      "source": [
        "from sklearn.feature_selection import VarianceThreshold\n",
        "\n",
        "vt = VarianceThreshold(threshold = 9)\n",
        "data_new = vt.fit_transform(data_transformed)\n",
        "data_new"
      ]
    },
    {
      "cell_type": "markdown",
      "metadata": {
        "id": "wFSDJYGK1tfY"
      },
      "source": [
        "As you may observe from output of above cell, the transformer has removed the `age` feature because its variance is below the threshold."
      ]
    },
    {
      "cell_type": "markdown",
      "metadata": {
        "id": "Z2jdHWmW6F4t"
      },
      "source": [
        "### SelectKBest\n",
        "\n",
        "It selects `k` highest scoring features based on a function and removes the rest of the features.\n",
        "\n",
        "Lets take an example of California Housing dataset."
      ]
    },
    {
      "cell_type": "code",
      "execution_count": null,
      "metadata": {
        "colab": {
          "base_uri": "https://localhost:8080/"
        },
        "id": "o-e22dyhiJx2",
        "outputId": "e0bf6a1f-94bd-450c-8ee6-60063cc23bcc"
      },
      "outputs": [
        {
          "name": "stdout",
          "output_type": "stream",
          "text": [
            "Shape of of feature matrix before feature selection:(2000, 8)\n"
          ]
        }
      ],
      "source": [
        "import numpy as np\n",
        "from sklearn.datasets import fetch_california_housing\n",
        "from sklearn.model_selection import train_test_split\n",
        "from sklearn.feature_selection import SelectKBest, mutual_info_regression\n",
        "# dowload data\n",
        "X_california, y_california = fetch_california_housing(return_X_y=True)\n",
        "# select a subset of data\n",
        "X, y = X_california[:2000, :], y_california[:2000]\n",
        "print(f'Shape of of feature matrix before feature selection:{X.shape}')"
      ]
    },
    {
      "cell_type": "markdown",
      "metadata": {
        "id": "cKb98E5ukX2J"
      },
      "source": [
        "Let's select 3 most important features, since it is a regression problem, we can use only `mutual_info_regression` or `f_regression` scoring functions only."
      ]
    },
    {
      "cell_type": "code",
      "execution_count": null,
      "metadata": {
        "colab": {
          "base_uri": "https://localhost:8080/"
        },
        "id": "z6Xa2jUEkUuk",
        "outputId": "398d86a2-d855-45b0-8a2b-4d19276be259"
      },
      "outputs": [
        {
          "name": "stdout",
          "output_type": "stream",
          "text": [
            "Shape of of feature matrix after feature selection:(2000, 3)\n"
          ]
        }
      ],
      "source": [
        "skb = SelectKBest(mutual_info_regression, k = 3)\n",
        "X_new = skb.fit_transform(X,y)\n",
        "print(f'Shape of of feature matrix after feature selection:{X_new.shape}')"
      ]
    },
    {
      "cell_type": "markdown",
      "metadata": {
        "id": "rPWhvUutkqd-"
      },
      "source": [
        "As you can see from above output, the transformed data now only has top 3 features."
      ]
    },
    {
      "cell_type": "code",
      "execution_count": null,
      "metadata": {
        "colab": {
          "base_uri": "https://localhost:8080/"
        },
        "id": "N-sdwV4UK9k9",
        "outputId": "610989b8-d890-40c2-be34-4b22228928f7"
      },
      "outputs": [
        {
          "data": {
            "text/plain": [
              "array(['x0', 'x6', 'x7'], dtype=object)"
            ]
          },
          "execution_count": 69,
          "metadata": {},
          "output_type": "execute_result"
        }
      ],
      "source": [
        "skb.get_feature_names_out()"
      ]
    },
    {
      "cell_type": "markdown",
      "metadata": {
        "id": "QezMoFLW6Jg4"
      },
      "source": [
        "### SelectPercentile"
      ]
    },
    {
      "cell_type": "markdown",
      "metadata": {
        "id": "IdkAdyd-k6Ys"
      },
      "source": [
        "This is very similar to `SelectKBest` from previous section, the only difference is, it selects top `percentile` of all features and drops the rest of the features.\n",
        "\n",
        "Similar to `SelectKBest`, it also uses a scoring function to decide importance of features.\n",
        "\n",
        "Let's use the california housing price dataset for this API."
      ]
    },
    {
      "cell_type": "code",
      "execution_count": null,
      "metadata": {
        "colab": {
          "base_uri": "https://localhost:8080/"
        },
        "id": "LxuYX6d6lsU1",
        "outputId": "8ce08e3c-82f4-47ec-c2eb-4b16a0c04986"
      },
      "outputs": [
        {
          "name": "stdout",
          "output_type": "stream",
          "text": [
            "Shape of of feature matrix after feature selection:(2000, 3)\n"
          ]
        }
      ],
      "source": [
        "from sklearn.feature_selection import SelectPercentile\n",
        "sp = SelectPercentile(mutual_info_regression, percentile = 30)\n",
        "X_new = sp.fit_transform(X,y)\n",
        "print(f'Shape of of feature matrix after feature selection:{X_new.shape}')"
      ]
    },
    {
      "cell_type": "markdown",
      "metadata": {
        "id": "3DT0Xmopnj7s"
      },
      "source": [
        "As you can see from above output, the transformed data now only has top 30 percentile of features, i.e. only 3 out of 8 features."
      ]
    },
    {
      "cell_type": "code",
      "execution_count": null,
      "metadata": {
        "colab": {
          "base_uri": "https://localhost:8080/"
        },
        "id": "1nsnRMSrMF0z",
        "outputId": "02ed4337-b713-4600-f06f-bc5534d78b50"
      },
      "outputs": [
        {
          "data": {
            "text/plain": [
              "array(['x0', 'x6', 'x7'], dtype=object)"
            ]
          },
          "execution_count": 71,
          "metadata": {},
          "output_type": "execute_result"
        }
      ],
      "source": [
        "skb.get_feature_names_out()"
      ]
    },
    {
      "cell_type": "markdown",
      "metadata": {
        "id": "fvEGDWX-6Bj2"
      },
      "source": [
        "### GenericUnivariateSelect"
      ]
    },
    {
      "cell_type": "markdown",
      "metadata": {
        "id": "mwdyxO_1werG"
      },
      "source": [
        "It applies univariate feature selection with a certain strategy, which is passed to the API via `mode` parameter. The `mode` can take one of the following values: `percentile` (top percentage), `k_best` (top k), `fpr` (false positive rate), `fdr`(false discovery rate), `fwe` (family wise error rate).\n",
        "\n",
        "\n",
        "If we want to accomplish the same objective as `SelectKBest`, we can use following code:"
      ]
    },
    {
      "cell_type": "code",
      "execution_count": null,
      "metadata": {
        "colab": {
          "base_uri": "https://localhost:8080/"
        },
        "id": "3mMv4QtqxEn0",
        "outputId": "933a9b3e-ce41-4784-e637-938006228bfb"
      },
      "outputs": [
        {
          "name": "stdout",
          "output_type": "stream",
          "text": [
            "Shape of of feature matrix before feature selection:(2000, 8)\n",
            "Shape of of feature matrix after feature selection:(2000, 3)\n"
          ]
        }
      ],
      "source": [
        "from sklearn.feature_selection import GenericUnivariateSelect\n",
        "gus = GenericUnivariateSelect(mutual_info_regression, mode ='k_best', param = 3)\n",
        "X_new = gus.fit_transform(X,y)\n",
        "print(f'Shape of of feature matrix before feature selection:{X.shape}')\n",
        "print(f'Shape of of feature matrix after feature selection:{X_new.shape}')"
      ]
    },
    {
      "cell_type": "markdown",
      "metadata": {
        "id": "J0KSBPxI54as"
      },
      "source": [
        "## Wrapper based methods"
      ]
    },
    {
      "cell_type": "markdown",
      "metadata": {
        "id": "vjM9ftMm6hGp"
      },
      "source": [
        "### RFE (Recursive Feature Elimination)\n",
        "\n",
        "* **STEP 1**: Fits a model and\n",
        "* **STEP 2**: Ranks the features, afterwards it removes one or more features (depending upon `step` parameter).\n",
        "\n",
        "These two steps are repeated until desired number of features are selected."
      ]
    },
    {
      "cell_type": "code",
      "execution_count": null,
      "metadata": {
        "colab": {
          "base_uri": "https://localhost:8080/"
        },
        "id": "dwU_sAwO2cmt",
        "outputId": "c1459803-6c99-485f-9082-c770271b0330"
      },
      "outputs": [
        {
          "name": "stdout",
          "output_type": "stream",
          "text": [
            "[ True False False False False False  True  True]\n",
            "Rank of each feature is : [1 5 4 3 6 2 1 1]\n"
          ]
        }
      ],
      "source": [
        "from sklearn.datasets import make_friedman1\n",
        "from sklearn.feature_selection import RFE\n",
        "from sklearn.linear_model import LinearRegression\n",
        "\n",
        "estimator = LinearRegression()\n",
        "selector = RFE(estimator, n_features_to_select = 3, step=1)\n",
        "selector = selector.fit(X, y)\n",
        "\n",
        "# support_ attribute is a boolean array\n",
        "# marking which features are selected\n",
        "print(selector.support_)\n",
        "\n",
        "# rank of each feature\n",
        "# if it's value is '1', then it is selected\n",
        "# features with rank 2 and onwards are ranked least.\n",
        "print(f'Rank of each feature is : {selector.ranking_}')"
      ]
    },
    {
      "cell_type": "code",
      "execution_count": null,
      "metadata": {
        "colab": {
          "base_uri": "https://localhost:8080/"
        },
        "id": "DElPPwcI36Vo",
        "outputId": "336b5447-bd50-4f99-e921-75290600c4da"
      },
      "outputs": [
        {
          "name": "stdout",
          "output_type": "stream",
          "text": [
            "Shape of of feature matrix after feature selection:(2000, 3)\n"
          ]
        }
      ],
      "source": [
        "X_new = selector.transform(X)\n",
        "print(f'Shape of of feature matrix after feature selection:{X_new.shape}')"
      ]
    },
    {
      "cell_type": "markdown",
      "metadata": {
        "id": "7oVNKl273gM0"
      },
      "source": [
        "### RFE-CV\n",
        "\n",
        "This adds another layer of cross validation to `RFE`."
      ]
    },
    {
      "cell_type": "markdown",
      "metadata": {
        "id": "RKv5eRrR6l4X"
      },
      "source": [
        "### SelectFromModel"
      ]
    },
    {
      "cell_type": "markdown",
      "metadata": {
        "id": "vUHWBDnm-Mze"
      },
      "source": [
        ">  Selects desired number of important features (as specified with `max_features` parameter) above certain threshold of feature importance as obtained from the trained estimator.\n",
        "\n",
        "* The feature importance is obtained via `coef_`, `feature_importances_` or an `importance_getter` callable from the trained estimator.\n",
        "\n",
        "* The feature importance threshold can be specified either numerically or through string argument based on built-in heuristics such as `mean`, `median` and float multiples of these like `0.1*mean`."
      ]
    },
    {
      "cell_type": "markdown",
      "metadata": {
        "id": "pz4lePaZ_Izy"
      },
      "source": [
        "The following example uses california housing price dataset. Using `SelectFromModel` top three features are selected."
      ]
    },
    {
      "cell_type": "code",
      "execution_count": null,
      "metadata": {
        "colab": {
          "base_uri": "https://localhost:8080/"
        },
        "id": "vX7DHYYV5tk6",
        "outputId": "160f0352-442b-42c9-cff5-d2ee08b9c832"
      },
      "outputs": [
        {
          "name": "stdout",
          "output_type": "stream",
          "text": [
            "Coefficients of features: [ 3.64048292e-01  5.56221906e-03  5.13591243e-02 -1.64474348e-01\n",
            "  5.90411479e-05 -1.64573915e-01 -2.17724525e-01 -1.85343265e-01]\n",
            "Indices of top 3 features: [1 2 0]\n",
            "Shape of of feature matrix after feature selection:(2000, 3)\n"
          ]
        }
      ],
      "source": [
        "from sklearn.feature_selection import SelectFromModel\n",
        "\n",
        "estimator = LinearRegression()\n",
        "estimator.fit(X, y)\n",
        "\n",
        "print(f'Coefficients of features: {estimator.coef_}')\n",
        "print(f'Indices of top {3} features: {np.argsort(estimator.coef_)[-3:]}')\n",
        "t=np.argsort(np.abs(estimator.coef_))[-3:]\n",
        "model = SelectFromModel(estimator, max_features=3, prefit=True)\n",
        "X_new = model.transform(X)\n",
        "print(f'Shape of of feature matrix after feature selection:{X_new.shape}')"
      ]
    },
    {
      "cell_type": "markdown",
      "metadata": {
        "id": "nOJmkUub_kqF"
      },
      "source": [
        "### SequentialFeatureSelection\n",
        "\n",
        "It performs feature selection by selecting or deselecting features one by one in a greedy manner."
      ]
    },
    {
      "cell_type": "code",
      "execution_count": null,
      "metadata": {
        "id": "H4Phj-jQBWtV"
      },
      "outputs": [],
      "source": [
        "from sklearn.feature_selection import SequentialFeatureSelector"
      ]
    },
    {
      "cell_type": "code",
      "execution_count": null,
      "metadata": {
        "colab": {
          "base_uri": "https://localhost:8080/"
        },
        "id": "JV-ubaLqABb9",
        "outputId": "b9b4e507-f40b-47c7-cf04-b7a22a48b53c"
      },
      "outputs": [
        {
          "name": "stdout",
          "output_type": "stream",
          "text": [
            "[ True False False False False  True  True False]\n",
            "CPU times: user 269 ms, sys: 48.1 ms, total: 317 ms\n",
            "Wall time: 346 ms\n"
          ]
        }
      ],
      "source": [
        "%%time\n",
        "estimator = LinearRegression()\n",
        "\n",
        "sfs = SequentialFeatureSelector(estimator, n_features_to_select=3)\n",
        "sfs.fit_transform(X, y)\n",
        "print(sfs.get_support())"
      ]
    },
    {
      "cell_type": "markdown",
      "metadata": {
        "id": "XpcYpv6H4CK1"
      },
      "source": [
        "The features corresponding to `True` in the output `sfs.get_support()` are selected.  In this case, feature 1, 6 and 7 are selected."
      ]
    },
    {
      "cell_type": "code",
      "execution_count": null,
      "metadata": {
        "colab": {
          "base_uri": "https://localhost:8080/"
        },
        "id": "qGdCXBW8BLmk",
        "outputId": "ed5ee820-417a-4327-d6e3-29d32732fcd5"
      },
      "outputs": [
        {
          "name": "stdout",
          "output_type": "stream",
          "text": [
            "[ True False False False False  True  True False]\n",
            "CPU times: user 473 ms, sys: 199 ms, total: 672 ms\n",
            "Wall time: 752 ms\n"
          ]
        }
      ],
      "source": [
        "%%time\n",
        "estimator = LinearRegression()\n",
        "sfs = SequentialFeatureSelector(estimator,\n",
        "                                n_features_to_select=3,\n",
        "                                direction = 'backward')\n",
        "sfs.fit_transform(X, y)\n",
        "print(sfs.get_support())"
      ]
    },
    {
      "cell_type": "markdown",
      "metadata": {
        "id": "ifeFZSl_4a6O"
      },
      "source": [
        "A couple of observations:\n",
        "* Both `forward` and `backward` selection methods select the same features.\n",
        "* The `backward` selection method takes longer than `forward` selection method."
      ]
    },
    {
      "cell_type": "markdown",
      "metadata": {
        "id": "cXeZeAZnBmN9"
      },
      "source": [
        "From above examples, we can observe that depending upon number of features, SFS can accomplish feature selection in different periods forward and backward."
      ]
    },
    {
      "cell_type": "markdown",
      "metadata": {
        "id": "lsYvk5zDzhad"
      },
      "source": [
        "# **11. PCA**"
      ]
    },
    {
      "cell_type": "markdown",
      "metadata": {
        "id": "tGfrI4NP769K"
      },
      "source": [
        "PCA is used to decompose a multivariate dataset in a set of successive orthogonal components that capture maximum amount of the variance.\n",
        "\n",
        "It helps in reducing dimensions of a dataset, thus computational cost of next steps e.g. training a model, cross validation etc.\n"
      ]
    },
    {
      "cell_type": "markdown",
      "metadata": {
        "id": "aE3C5n-y9Kas"
      },
      "source": [
        "Lets generate some artificial data to better understand PCA:"
      ]
    },
    {
      "cell_type": "code",
      "execution_count": null,
      "metadata": {
        "cellView": "form",
        "colab": {
          "base_uri": "https://localhost:8080/",
          "height": 312
        },
        "id": "lJ0Z6Dh-SW8S",
        "outputId": "152dc7f0-dbc4-4820-bac5-bb1523e821bb"
      },
      "outputs": [
        {
          "data": {
            "image/png": "[encoded data removed]",
            "text/plain": [
              "<Figure size 432x288 with 1 Axes>"
            ]
          },
          "metadata": {
            "needs_background": "light"
          },
          "output_type": "display_data"
        }
      ],
      "source": [
        "#@title [Generate synthetic dataset]\n",
        "rand = np.random.RandomState(1)\n",
        "X = np.dot(rand.rand(2, 2), rand.randn(2, 200)).T\n",
        "\n",
        "plt.figure()\n",
        "plt.title('Data points', size = 20)\n",
        "\n",
        "# set x and y labels\n",
        "plt.xlabel('$x_1$', size=20)\n",
        "plt.ylabel('$x_2$', size=20, rotation = 0)\n",
        "\n",
        "# plot the data points\n",
        "plt.scatter(X[:, 0], X[:, 1], alpha=0.5)\n",
        "plt.axis('equal');"
      ]
    },
    {
      "cell_type": "markdown",
      "metadata": {
        "id": "d6oUn92qn1Ph"
      },
      "source": [
        "Let us fit a `PCA` transformer on this data and compute its two principal components:"
      ]
    },
    {
      "cell_type": "code",
      "execution_count": null,
      "metadata": {
        "colab": {
          "base_uri": "https://localhost:8080/"
        },
        "id": "yD3_hDdTSuWv",
        "outputId": "f8827259-9013-4a0e-8724-ad037432bb5c"
      },
      "outputs": [
        {
          "data": {
            "text/plain": [
              "PCA(n_components=2)"
            ]
          },
          "execution_count": 80,
          "metadata": {},
          "output_type": "execute_result"
        }
      ],
      "source": [
        "from sklearn.decomposition import PCA\n",
        "pca = PCA(n_components=2)\n",
        "pca.fit(X)"
      ]
    },
    {
      "cell_type": "markdown",
      "metadata": {
        "id": "zJDYTUmfoJqG"
      },
      "source": [
        "Let's print the principal axes, they are two 2D vectors for this example. The PCA object returns them in the form of a matrix, where **each column represents a principal component**:"
      ]
    },
    {
      "cell_type": "code",
      "execution_count": null,
      "metadata": {
        "colab": {
          "base_uri": "https://localhost:8080/"
        },
        "id": "sUshXXPeS5jJ",
        "outputId": "c9d5055f-038b-4051-8084-9623d7b016d3"
      },
      "outputs": [
        {
          "name": "stdout",
          "output_type": "stream",
          "text": [
            "The 2 principal axes are\n",
            " [[-0.94446029 -0.32862557]\n",
            " [-0.32862557  0.94446029]]\n"
          ]
        }
      ],
      "source": [
        "print(f'The {pca.n_components_} principal axes are\\n', pca.components_)"
      ]
    },
    {
      "cell_type": "markdown",
      "metadata": {
        "id": "dSdW5BQyoe6Y"
      },
      "source": [
        "Let's also look at the explained variance corresponding to each principal axes."
      ]
    },
    {
      "cell_type": "code",
      "execution_count": null,
      "metadata": {
        "colab": {
          "base_uri": "https://localhost:8080/"
        },
        "id": "rbtX-NXg576J",
        "outputId": "3c3087f9-34ee-457d-e652-667f0c0c70e7"
      },
      "outputs": [
        {
          "name": "stdout",
          "output_type": "stream",
          "text": [
            "Explained variance by each component [0.7625315 0.0184779]\n"
          ]
        }
      ],
      "source": [
        "print('Explained variance by each component', pca.explained_variance_)"
      ]
    },
    {
      "cell_type": "code",
      "execution_count": null,
      "metadata": {
        "colab": {
          "base_uri": "https://localhost:8080/"
        },
        "id": "OzawcHwsfgo6",
        "outputId": "d4a5dab5-af2d-4c20-b427-750f0f439f99"
      },
      "outputs": [
        {
          "name": "stdout",
          "output_type": "stream",
          "text": [
            "Mean across x1 and x2 dimensions is:  [ 0.03351168 -0.00408072]\n"
          ]
        }
      ],
      "source": [
        "print('Mean across x1 and x2 dimensions is: ', pca.mean_)"
      ]
    },
    {
      "cell_type": "markdown",
      "metadata": {
        "id": "A9HEn8VzpA1G"
      },
      "source": [
        "To better understand PCA, lets visualize these principal axes.\n",
        "\n",
        "* There are two principal axes $C_1$ and $C_2$. They are orthogonal to\n",
        "each other. An additional vector $C_3$ is also mentioned for comparison.\n",
        "\n",
        "* The lengths of $C_1$ and $C_2$ are taken as square root of respective explanined variance. the length of the vector implies how important that\n",
        "vector is."
      ]
    },
    {
      "cell_type": "code",
      "execution_count": null,
      "metadata": {
        "colab": {
          "base_uri": "https://localhost:8080/",
          "height": 312
        },
        "id": "htteYyePS9xx",
        "outputId": "e5d7e42e-974c-49ef-eed7-283795a88e15"
      },
      "outputs": [
        {
          "data": {
            "image/png": "[encoded data removed]",
            "text/plain": [
              "<Figure size 432x288 with 1 Axes>"
            ]
          },
          "metadata": {
            "needs_background": "light"
          },
          "output_type": "display_data"
        }
      ],
      "source": [
        "#@title [Visualize principal components]\n",
        "# set x and y labels\n",
        "plt.figure()\n",
        "plt.title('Data and candidate vectors', size = 20)\n",
        "plt.xlabel('$x_1$', size=20)\n",
        "plt.ylabel('$x_2$', size=20, rotation = 0)\n",
        "\n",
        "# plot data points\n",
        "plt.scatter(X[:, 0], X[:, 1], alpha=0.3)\n",
        "\n",
        "for length, principal_axis, axis_name, i_color in zip(pca.explained_variance_,\n",
        "                                    pca.components_,\n",
        "                                    ['$\\mathbf{C_1}$','$\\mathbf{C_2}$'],\n",
        "                                    ['r','b']):\n",
        "    v = principal_axis * np.sqrt(length)\n",
        "    v0, v1 = pca.mean_, pca.mean_ + v\n",
        "\n",
        "    # draw principal axis\n",
        "    plt.quiver(*v0,*(v1-v0),scale=0.33, scale_units='xy', color=i_color)\n",
        "\n",
        "    # label the  principal axis\n",
        "    plt.text(*(3.4*v1), axis_name, size = 20)\n",
        "\n",
        "# draw 3rd component\n",
        "lengths = np.eye(2)\n",
        "np.fill_diagonal(lengths, np.sqrt(pca.explained_variance_))\n",
        "\n",
        "c3 = pca.mean_+[-0.5,0.3]\n",
        "\n",
        "plt.quiver(*pca.mean_,\n",
        "           *(1.1*(c3-pca.mean_)),\n",
        "           scale=1,\n",
        "           scale_units='xy',\n",
        "           color='grey')\n",
        "\n",
        "# label the  principal axis\n",
        "plt.text(*(1.4*c3),\n",
        "         '$\\mathbf{C_3}$',\n",
        "         size = 20,\n",
        "         color='grey')\n",
        "\n",
        "plt.axis('equal')\n",
        "plt.show()"
      ]
    },
    {
      "cell_type": "code",
      "execution_count": null,
      "metadata": {
        "colab": {
          "base_uri": "https://localhost:8080/"
        },
        "id": "gQmJCv-NwfTk",
        "outputId": "16404495-a954-4939-c050-a606406542ca"
      },
      "outputs": [
        {
          "name": "stdout",
          "output_type": "stream",
          "text": [
            "(200, 2)\n",
            "(200,)\n"
          ]
        }
      ],
      "source": [
        "# draw projections of data points on different vectors\n",
        "projections = X@pca.components_\n",
        "print(projections.shape)\n",
        "\n",
        "arbitary_projection = X@c3\n",
        "print(arbitary_projection.shape)"
      ]
    },
    {
      "cell_type": "code",
      "execution_count": null,
      "metadata": {
        "colab": {
          "base_uri": "https://localhost:8080/",
          "height": 312
        },
        "id": "7gHkMRJCzN4I",
        "outputId": "bac5b6ef-8f33-4562-b7e9-f7011e2937ef"
      },
      "outputs": [
        {
          "data": {
            "image/png": "[encoded data removed]",
            "text/plain": [
              "<Figure size 432x288 with 1 Axes>"
            ]
          },
          "metadata": {
            "needs_background": "light"
          },
          "output_type": "display_data"
        }
      ],
      "source": [
        "# plt.figure(figsize=(8,6))\n",
        "plt.scatter(projections[:,0], 1+np.zeros((200,1)),  alpha = 0.3, color='r')\n",
        "plt.scatter(projections[:,1], -1+np.zeros((200,1)),  alpha = 0.3, color='b')\n",
        "plt.scatter(arbitary_projection,np.zeros((200,)),  alpha = 0.3, color='grey')\n",
        "plt.legend(['$\\mathbf{C_1}$', '$\\mathbf{C_2}$','$\\mathbf{C_3}$'], prop={'size' : 16})\n",
        "plt.title(\"Variance covered by different vectors\", size = 20)\n",
        "plt.ylim([-1.5,1.5])\n",
        "plt.axis('equal')\n",
        "plt.grid(True)\n",
        "plt.yticks([],[])\n",
        "plt.xlabel('$z$', size = 20)\n",
        "plt.show()"
      ]
    },
    {
      "cell_type": "markdown",
      "metadata": {
        "id": "5W1WJvUZCUTM"
      },
      "source": [
        "## Reducing Dimensions\n"
      ]
    },
    {
      "cell_type": "markdown",
      "metadata": {
        "id": "kzVqDLblqVzG"
      },
      "source": [
        "We can use PCA to reduce number of dimensions of a dataset. The components that are least important i.e. their explained variance is low, are removed and only those components that capture  high (i.e. desired) amount of variance are kept."
      ]
    },
    {
      "cell_type": "markdown",
      "metadata": {
        "id": "jo-K_oIfq-3P"
      },
      "source": [
        "Let's reduce the dimension of our data from 2 to 1. You can observe the transformed data has only 1 feature."
      ]
    },
    {
      "cell_type": "code",
      "execution_count": null,
      "metadata": {
        "colab": {
          "base_uri": "https://localhost:8080/"
        },
        "id": "7Tu6Sd8XCapR",
        "outputId": "6ba73d01-1dcb-43ac-8ddf-817948dfb39d"
      },
      "outputs": [
        {
          "name": "stdout",
          "output_type": "stream",
          "text": [
            "original shape:    (200, 2)\n",
            "transformed shape: (200, 1)\n"
          ]
        }
      ],
      "source": [
        "pca = PCA(n_components=1)\n",
        "pca.fit(X)\n",
        "X_pca = pca.transform(X)\n",
        "print(\"original shape:   \", X.shape)\n",
        "print(\"transformed shape:\", X_pca.shape)"
      ]
    },
    {
      "cell_type": "markdown",
      "metadata": {
        "id": "GQigI7FDrQX3"
      },
      "source": [
        "To better understand what happend to our data, let's visualize our original data and the reduced data.\n",
        "\n",
        "To do this, we will need to bring the transformed data into space of original data, which can be accomplished by `inverse_transform` methond of `PCA` object."
      ]
    },
    {
      "cell_type": "code",
      "execution_count": null,
      "metadata": {
        "cellView": "form",
        "colab": {
          "base_uri": "https://localhost:8080/",
          "height": 312
        },
        "id": "AoCTtcA4Cdfv",
        "outputId": "76a7b65c-8a45-4a3b-b8cf-101a56888602"
      },
      "outputs": [
        {
          "data": {
            "image/png": "[encoded data removed]",
            "text/plain": [
              "<Figure size 432x288 with 1 Axes>"
            ]
          },
          "metadata": {
            "needs_background": "light"
          },
          "output_type": "display_data"
        }
      ],
      "source": [
        "#@title [Visualize data in PC space]\n",
        "# inverse transform the reduced data\n",
        "X_new = pca.inverse_transform(X_pca)\n",
        "\n",
        "plt.figure()\n",
        "plt.title('PCA: Reducing Dimensions', size = 20)\n",
        "plt.xlabel('$x_1$', size=20)\n",
        "plt.ylabel('$x_2$', size=20, rotation = 0)\n",
        "\n",
        "plt.scatter(X[:, 0], X[:, 1], alpha=0.2)\n",
        "plt.scatter(X_new[:, 0], X_new[:, 1], alpha=0.3, c='r')\n",
        "plt.legend(['Original Data', 'Projected Data'], prop={'size' : 16})\n",
        "plt.axis('equal')\n",
        "plt.show()"
      ]
    },
    {
      "cell_type": "markdown",
      "metadata": {
        "id": "FEtbQ6H-N4Rj"
      },
      "source": [
        "From above chart it is clear that the new/transformed data points are now projected on $\\mathbf C_1$ vector."
      ]
    },
    {
      "cell_type": "markdown",
      "metadata": {
        "id": "iCNT6aWW7Brc"
      },
      "source": [
        "# **12. Chaining Transformers**\n",
        "\n",
        "The preprocessing transformations are applied one after another on the input feature matrix.\n",
        "\n",
        "> It is important to apply exactly same transformation on training, evaluation and test set in the same order.\n",
        "\n",
        "Failing to do so would lead to incorrect predictions from model due to distribution shift and hence incorrect performance evaluation.\n",
        "\n",
        "The `sklearn.pipeline` module provides utilities to build a composite estimator, as a chain of transformers and estimators."
      ]
    },
    {
      "cell_type": "markdown",
      "metadata": {
        "id": "mYvPqoAl7B4d"
      },
      "source": [
        "## Pipeline\n",
        "\n",
        "Sequentially apply a list of transformers and estimators.\n",
        "*  Intermediate steps of the pipeline must be ‘transformers’ that is, they must implement `fit` and `transform` methods.\n",
        "*  The final estimator only needs to implement `fit`.\n",
        "\n",
        "The purpose of the pipeline is to assemble several steps that can be cross-validated together while setting different parameters."
      ]
    },
    {
      "cell_type": "markdown",
      "metadata": {
        "id": "s2wBM9p67obk"
      },
      "source": [
        "#### Creating pipelines\n",
        "\n",
        "A pipeline can be created with `Pipeline()`.\n",
        "It takes a list of `('estimatorName'`, `estimator(...))` tuples. The pipeline object exposes interface of the last step."
      ]
    },
    {
      "cell_type": "code",
      "execution_count": null,
      "metadata": {
        "id": "VdMLe46iqmHr"
      },
      "outputs": [],
      "source": [
        "from sklearn.pipeline import Pipeline\n",
        "from sklearn.impute import SimpleImputer\n",
        "from sklearn.preprocessing import StandardScaler\n",
        "estimators = [\n",
        "  ('simpleImputer', SimpleImputer()),\n",
        "  ('standardScaler', StandardScaler()),\n",
        "]\n",
        "pipe = Pipeline(steps=estimators)"
      ]
    },
    {
      "cell_type": "markdown",
      "metadata": {
        "id": "nR1DW2QBqql4"
      },
      "source": [
        "The same pipeline can also be created via `make_pipeline()` helper function, which doesn't take names of the steps and assigns them generic names based on their steps."
      ]
    },
    {
      "cell_type": "code",
      "execution_count": null,
      "metadata": {
        "id": "pzynXwK3rBqr"
      },
      "outputs": [],
      "source": [
        "from sklearn.pipeline import make_pipeline\n",
        "pipe = make_pipeline(SimpleImputer(),\n",
        "                     StandardScaler())"
      ]
    },
    {
      "cell_type": "markdown",
      "metadata": {
        "id": "h6_ohSXa7zH4"
      },
      "source": [
        "#### Accessing Individual steps in a pipeline"
      ]
    },
    {
      "cell_type": "code",
      "execution_count": null,
      "metadata": {
        "id": "opzE2V66ra8Z"
      },
      "outputs": [],
      "source": [
        "from sklearn.decomposition import PCA\n",
        "estimators = [\n",
        "  ('simpleImputer', SimpleImputer()),\n",
        "  ('pca', PCA()),\n",
        "  ('regressor', LinearRegression())\n",
        "]\n",
        "pipe = Pipeline(steps=estimators)"
      ]
    },
    {
      "cell_type": "markdown",
      "metadata": {
        "id": "4_a79UGors_M"
      },
      "source": [
        "Let's print number of steps in this pipeline:"
      ]
    },
    {
      "cell_type": "code",
      "execution_count": null,
      "metadata": {
        "colab": {
          "base_uri": "https://localhost:8080/"
        },
        "id": "PL6uFGTrroFA",
        "outputId": "3c8b5f3d-f61e-4cc8-beb3-19e9e362a3b8"
      },
      "outputs": [
        {
          "name": "stdout",
          "output_type": "stream",
          "text": [
            "3\n"
          ]
        }
      ],
      "source": [
        "print(len(pipe.steps))"
      ]
    },
    {
      "cell_type": "markdown",
      "metadata": {
        "id": "6hef8OSCr00l"
      },
      "source": [
        "Let's look at each of the steps:"
      ]
    },
    {
      "cell_type": "code",
      "execution_count": null,
      "metadata": {
        "colab": {
          "base_uri": "https://localhost:8080/"
        },
        "id": "YBXBOIswrwi5",
        "outputId": "186b506a-72f2-49de-d0bc-8d7d71605b6d"
      },
      "outputs": [
        {
          "name": "stdout",
          "output_type": "stream",
          "text": [
            "[('simpleImputer', SimpleImputer()), ('pca', PCA()), ('regressor', LinearRegression())]\n"
          ]
        }
      ],
      "source": [
        "print(pipe.steps)"
      ]
    },
    {
      "cell_type": "markdown",
      "metadata": {
        "id": "qllBpyy8r7XQ"
      },
      "source": [
        "The second estimator can be accessed in following 4 ways:"
      ]
    },
    {
      "cell_type": "code",
      "execution_count": null,
      "metadata": {
        "colab": {
          "base_uri": "https://localhost:8080/"
        },
        "id": "objfxPOBr7x-",
        "outputId": "8048acb1-415d-4ef1-a322-bcd62a4769b7"
      },
      "outputs": [
        {
          "name": "stdout",
          "output_type": "stream",
          "text": [
            "PCA()\n"
          ]
        }
      ],
      "source": [
        "print(pipe.named_steps.pca)"
      ]
    },
    {
      "cell_type": "code",
      "execution_count": null,
      "metadata": {
        "colab": {
          "base_uri": "https://localhost:8080/"
        },
        "id": "pV7EwaJlsEHu",
        "outputId": "6d1cd523-0ef5-4f6a-da15-716845d31992"
      },
      "outputs": [
        {
          "data": {
            "text/plain": [
              "('pca', PCA())"
            ]
          },
          "execution_count": 95,
          "metadata": {},
          "output_type": "execute_result"
        }
      ],
      "source": [
        "pipe.steps[1]"
      ]
    },
    {
      "cell_type": "code",
      "execution_count": null,
      "metadata": {
        "colab": {
          "base_uri": "https://localhost:8080/"
        },
        "id": "RTkC5ND8sF27",
        "outputId": "44b65da3-4dad-4ba2-d7cf-f09dc8f3d7c0"
      },
      "outputs": [
        {
          "data": {
            "text/plain": [
              "PCA()"
            ]
          },
          "execution_count": 96,
          "metadata": {},
          "output_type": "execute_result"
        }
      ],
      "source": [
        "pipe[1]"
      ]
    },
    {
      "cell_type": "code",
      "execution_count": null,
      "metadata": {
        "colab": {
          "base_uri": "https://localhost:8080/"
        },
        "id": "L8f0VekqsH2Q",
        "outputId": "a4134d78-6500-446e-b6aa-008bd08a5696"
      },
      "outputs": [
        {
          "data": {
            "text/plain": [
              "PCA()"
            ]
          },
          "execution_count": 97,
          "metadata": {},
          "output_type": "execute_result"
        }
      ],
      "source": [
        "pipe['pca']"
      ]
    },
    {
      "cell_type": "markdown",
      "metadata": {
        "id": "0aksmgJD75D1"
      },
      "source": [
        "#### Accessing parameters of a step in pipeline\n",
        "\n",
        "Parameters of the estimators in the pipeline can be accessed using the <estimator>__<parameterName> syntax, note there are two underscores between <estimator> and <parameterName>"
      ]
    },
    {
      "cell_type": "code",
      "execution_count": null,
      "metadata": {
        "colab": {
          "base_uri": "https://localhost:8080/"
        },
        "id": "SxDdG35usW0E",
        "outputId": "883e3509-3e9d-4085-84e6-38f0e6b7ec38"
      },
      "outputs": [
        {
          "data": {
            "text/plain": [
              "Pipeline(steps=[('simpleImputer', SimpleImputer()),\n",
              "                ('pca', PCA(n_components=2)),\n",
              "                ('regressor', LinearRegression())])"
            ]
          },
          "execution_count": 98,
          "metadata": {},
          "output_type": "execute_result"
        }
      ],
      "source": [
        "estimators = [\n",
        "  ('simpleImputer', SimpleImputer()),\n",
        "  ('pca', PCA()),\n",
        "  ('regressor', LinearRegression())\n",
        "]\n",
        "pipe = Pipeline(steps=estimators)\n",
        "\n",
        "pipe.set_params(pca__n_components = 2)"
      ]
    },
    {
      "cell_type": "markdown",
      "metadata": {
        "id": "8zTRdAIasczN"
      },
      "source": [
        "In above example `n_components` of `PCA()` step is set after the pipeline is created."
      ]
    },
    {
      "cell_type": "markdown",
      "metadata": {
        "id": "Voyz2BjT7-uq"
      },
      "source": [
        "#### GridSearch with pipeline"
      ]
    },
    {
      "cell_type": "markdown",
      "metadata": {
        "id": "yBAywZqVsndz"
      },
      "source": [
        "By using naming convention of nested parameters, grid search can implemented."
      ]
    },
    {
      "cell_type": "code",
      "execution_count": null,
      "metadata": {
        "id": "erPO1ApLsj9w"
      },
      "outputs": [],
      "source": [
        "from sklearn.impute import KNNImputer\n",
        "from sklearn.linear_model import LogisticRegression\n",
        "from sklearn.svm import SVC\n",
        "from sklearn.model_selection import GridSearchCV\n",
        "\n",
        "param_grid = dict(imputer=['passthrough',\n",
        "                           SimpleImputer(),\n",
        "                           KNNImputer()],\n",
        "                  clf=[SVC(), LogisticRegression()],\n",
        "                  clf__C=[0.1, 10, 100])\n",
        "grid_search = GridSearchCV(pipe, param_grid=param_grid)"
      ]
    },
    {
      "cell_type": "markdown",
      "metadata": {
        "id": "_Ibf93pNsqDJ"
      },
      "source": [
        "* `C` is an inverse of regularization, lower its value stronger the regularization is.\n",
        "\n",
        "* In the example above `clf__C` provides a set of values for grid search."
      ]
    },
    {
      "cell_type": "markdown",
      "metadata": {
        "id": "ZN-ZTrNv8Cf3"
      },
      "source": [
        "#### Caching Transformers"
      ]
    },
    {
      "cell_type": "markdown",
      "metadata": {
        "id": "DyGpl1fGs07l"
      },
      "source": [
        "Transforming data is a computationally expensive step.\n",
        "\n",
        "* For grid search, transformers need not be applied for every parameter configuration. They can be applied only once, and the transformed data can reused.\n",
        "\n",
        "This can be achieved by setting `memory` parameter of a `pipeline` object."
      ]
    },
    {
      "cell_type": "code",
      "execution_count": null,
      "metadata": {
        "id": "RCeetywbs7QR"
      },
      "outputs": [],
      "source": [
        "import tempfile\n",
        "tempDirPath = tempfile.TemporaryDirectory()"
      ]
    },
    {
      "cell_type": "code",
      "execution_count": null,
      "metadata": {
        "id": "M12SBjcys38h"
      },
      "outputs": [],
      "source": [
        "estimators = [\n",
        "  ('simpleImputer', SimpleImputer()),\n",
        "  ('pca', PCA(2)),\n",
        "  ('regressor', LinearRegression())\n",
        "]\n",
        "pipe = Pipeline(steps=estimators, memory = tempDirPath)"
      ]
    },
    {
      "cell_type": "markdown",
      "metadata": {
        "id": "eYNIdSFG7Pfw"
      },
      "source": [
        "## FeatureUnion\n",
        "\n",
        "Concatenates results of multiple transformer objects.\n",
        "\n",
        "* Applies a list of transformer objects in parallel, and their outputs are concatenated side-by-side into a larger matrix.\n",
        "\n",
        "`FeatureUnion` and `Pipeline` can be used to create complex transformers."
      ]
    },
    {
      "cell_type": "markdown",
      "metadata": {
        "id": "DEfTSJnI8MUg"
      },
      "source": [
        "# **13. Visualizing Pipelines**"
      ]
    },
    {
      "cell_type": "code",
      "execution_count": null,
      "metadata": {
        "id": "nODA0JHDXMWQ"
      },
      "outputs": [],
      "source": [
        "from sklearn.preprocessing import StandardScaler, LabelBinarizer\n",
        "from sklearn.pipeline import Pipeline, FeatureUnion\n",
        "from sklearn.compose import ColumnTransformer\n",
        "from sklearn.impute import SimpleImputer\n",
        "\n",
        "num_pipeline = Pipeline([('selector',ColumnTransformer([('select_first_4',\n",
        "                                                         'passthrough',\n",
        "                                                         slice(0,4))])),\n",
        "                         ('imputer', SimpleImputer(strategy=\"median\")),\n",
        "                         ('std_scaler', StandardScaler()),\n",
        "                        ])\n",
        "cat_pipeline = ColumnTransformer([('label_binarizer', LabelBinarizer(),[4]),\n",
        "                                  ])\n",
        "full_pipeline = FeatureUnion(transformer_list=\n",
        "                             [(\"num_pipeline\", num_pipeline),\n",
        "                              (\"cat_pipeline\", cat_pipeline),\n",
        "                             ])"
      ]
    },
    {
      "cell_type": "code",
      "execution_count": null,
      "metadata": {
        "colab": {
          "base_uri": "https://localhost:8080/",
          "height": 246
        },
        "id": "LV3SMWMzXPVF",
        "outputId": "ba74fbc0-e967-4f65-e50b-2cd52e0e46a7"
      },
      "outputs": [
        {
          "data": {
            "text/html": [
              "<style>#sk-26814bdc-1787-4e54-9641-f7a031fe5ed7 {color: black;background-color: white;}#sk-26814bdc-1787-4e54-9641-f7a031fe5ed7 pre{padding: 0;}#sk-26814bdc-1787-4e54-9641-f7a031fe5ed7 div.sk-toggleable {background-color: white;}#sk-26814bdc-1787-4e54-9641-f7a031fe5ed7 label.sk-toggleable__label {cursor: pointer;display: block;width: 100%;margin-bottom: 0;padding: 0.3em;box-sizing: border-box;text-align: center;}#sk-26814bdc-1787-4e54-9641-f7a031fe5ed7 label.sk-toggleable__label-arrow:before {content: \"▸\";float: left;margin-right: 0.25em;color: #696969;}#sk-26814bdc-1787-4e54-9641-f7a031fe5ed7 label.sk-toggleable__label-arrow:hover:before {color: black;}#sk-26814bdc-1787-4e54-9641-f7a031fe5ed7 div.sk-estimator:hover label.sk-toggleable__label-arrow:before {color: black;}#sk-26814bdc-1787-4e54-9641-f7a031fe5ed7 div.sk-toggleable__content {max-height: 0;max-width: 0;overflow: hidden;text-align: left;background-color: #f0f8ff;}#sk-26814bdc-1787-4e54-9641-f7a031fe5ed7 div.sk-toggleable__content pre {margin: 0.2em;color: black;border-radius: 0.25em;background-color: #f0f8ff;}#sk-26814bdc-1787-4e54-9641-f7a031fe5ed7 input.sk-toggleable__control:checked~div.sk-toggleable__content {max-height: 200px;max-width: 100%;overflow: auto;}#sk-26814bdc-1787-4e54-9641-f7a031fe5ed7 input.sk-toggleable__control:checked~label.sk-toggleable__label-arrow:before {content: \"▾\";}#sk-26814bdc-1787-4e54-9641-f7a031fe5ed7 div.sk-estimator input.sk-toggleable__control:checked~label.sk-toggleable__label {background-color: #d4ebff;}#sk-26814bdc-1787-4e54-9641-f7a031fe5ed7 div.sk-label input.sk-toggleable__control:checked~label.sk-toggleable__label {background-color: #d4ebff;}#sk-26814bdc-1787-4e54-9641-f7a031fe5ed7 input.sk-hidden--visually {border: 0;clip: rect(1px 1px 1px 1px);clip: rect(1px, 1px, 1px, 1px);height: 1px;margin: -1px;overflow: hidden;padding: 0;position: absolute;width: 1px;}#sk-26814bdc-1787-4e54-9641-f7a031fe5ed7 div.sk-estimator {font-family: monospace;background-color: #f0f8ff;border: 1px dotted black;border-radius: 0.25em;box-sizing: border-box;margin-bottom: 0.5em;}#sk-26814bdc-1787-4e54-9641-f7a031fe5ed7 div.sk-estimator:hover {background-color: #d4ebff;}#sk-26814bdc-1787-4e54-9641-f7a031fe5ed7 div.sk-parallel-item::after {content: \"\";width: 100%;border-bottom: 1px solid gray;flex-grow: 1;}#sk-26814bdc-1787-4e54-9641-f7a031fe5ed7 div.sk-label:hover label.sk-toggleable__label {background-color: #d4ebff;}#sk-26814bdc-1787-4e54-9641-f7a031fe5ed7 div.sk-serial::before {content: \"\";position: absolute;border-left: 1px solid gray;box-sizing: border-box;top: 2em;bottom: 0;left: 50%;}#sk-26814bdc-1787-4e54-9641-f7a031fe5ed7 div.sk-serial {display: flex;flex-direction: column;align-items: center;background-color: white;padding-right: 0.2em;padding-left: 0.2em;}#sk-26814bdc-1787-4e54-9641-f7a031fe5ed7 div.sk-item {z-index: 1;}#sk-26814bdc-1787-4e54-9641-f7a031fe5ed7 div.sk-parallel {display: flex;align-items: stretch;justify-content: center;background-color: white;}#sk-26814bdc-1787-4e54-9641-f7a031fe5ed7 div.sk-parallel::before {content: \"\";position: absolute;border-left: 1px solid gray;box-sizing: border-box;top: 2em;bottom: 0;left: 50%;}#sk-26814bdc-1787-4e54-9641-f7a031fe5ed7 div.sk-parallel-item {display: flex;flex-direction: column;position: relative;background-color: white;}#sk-26814bdc-1787-4e54-9641-f7a031fe5ed7 div.sk-parallel-item:first-child::after {align-self: flex-end;width: 50%;}#sk-26814bdc-1787-4e54-9641-f7a031fe5ed7 div.sk-parallel-item:last-child::after {align-self: flex-start;width: 50%;}#sk-26814bdc-1787-4e54-9641-f7a031fe5ed7 div.sk-parallel-item:only-child::after {width: 0;}#sk-26814bdc-1787-4e54-9641-f7a031fe5ed7 div.sk-dashed-wrapped {border: 1px dashed gray;margin: 0 0.4em 0.5em 0.4em;box-sizing: border-box;padding-bottom: 0.4em;background-color: white;position: relative;}#sk-26814bdc-1787-4e54-9641-f7a031fe5ed7 div.sk-label label {font-family: monospace;font-weight: bold;background-color: white;display: inline-block;line-height: 1.2em;}#sk-26814bdc-1787-4e54-9641-f7a031fe5ed7 div.sk-label-container {position: relative;z-index: 2;text-align: center;}#sk-26814bdc-1787-4e54-9641-f7a031fe5ed7 div.sk-container {/* jupyter's `normalize.less` sets `[hidden] { display: none; }` but bootstrap.min.css set `[hidden] { display: none !important; }` so we also need the `!important` here to be able to override the default hidden behavior on the sphinx rendered scikit-learn.org. See: https://github.com/scikit-learn/scikit-learn/issues/21755 */display: inline-block !important;position: relative;}#sk-26814bdc-1787-4e54-9641-f7a031fe5ed7 div.sk-text-repr-fallback {display: none;}</style><div id=\"sk-26814bdc-1787-4e54-9641-f7a031fe5ed7\" class=\"sk-top-container\"><div class=\"sk-text-repr-fallback\"><pre>FeatureUnion(transformer_list=[(&#x27;num_pipeline&#x27;,\n",
              "                                Pipeline(steps=[(&#x27;selector&#x27;,\n",
              "                                                 ColumnTransformer(transformers=[(&#x27;select_first_4&#x27;,\n",
              "                                                                                  &#x27;passthrough&#x27;,\n",
              "                                                                                  slice(0, 4, None))])),\n",
              "                                                (&#x27;imputer&#x27;,\n",
              "                                                 SimpleImputer(strategy=&#x27;median&#x27;)),\n",
              "                                                (&#x27;std_scaler&#x27;,\n",
              "                                                 StandardScaler())])),\n",
              "                               (&#x27;cat_pipeline&#x27;,\n",
              "                                ColumnTransformer(transformers=[(&#x27;label_binarizer&#x27;,\n",
              "                                                                 LabelBinarizer(),\n",
              "                                                                 [4])]))])</pre><b>Please rerun this cell to show the HTML repr or trust the notebook.</b></div><div class=\"sk-container\" hidden><div class=\"sk-item sk-dashed-wrapped\"><div class=\"sk-label-container\"><div class=\"sk-label sk-toggleable\"><input class=\"sk-toggleable__control sk-hidden--visually\" id=\"895a0fb6-b998-4f4d-8069-c1135f2b46c1\" type=\"checkbox\" ><label for=\"895a0fb6-b998-4f4d-8069-c1135f2b46c1\" class=\"sk-toggleable__label sk-toggleable__label-arrow\">FeatureUnion</label><div class=\"sk-toggleable__content\"><pre>FeatureUnion(transformer_list=[(&#x27;num_pipeline&#x27;,\n",
              "                                Pipeline(steps=[(&#x27;selector&#x27;,\n",
              "                                                 ColumnTransformer(transformers=[(&#x27;select_first_4&#x27;,\n",
              "                                                                                  &#x27;passthrough&#x27;,\n",
              "                                                                                  slice(0, 4, None))])),\n",
              "                                                (&#x27;imputer&#x27;,\n",
              "                                                 SimpleImputer(strategy=&#x27;median&#x27;)),\n",
              "                                                (&#x27;std_scaler&#x27;,\n",
              "                                                 StandardScaler())])),\n",
              "                               (&#x27;cat_pipeline&#x27;,\n",
              "                                ColumnTransformer(transformers=[(&#x27;label_binarizer&#x27;,\n",
              "                                                                 LabelBinarizer(),\n",
              "                                                                 [4])]))])</pre></div></div></div><div class=\"sk-parallel\"><div class=\"sk-parallel-item\"><div class=\"sk-item\"><div class=\"sk-label-container\"><div class=\"sk-label sk-toggleable\"><label>num_pipeline</label></div></div><div class=\"sk-serial\"><div class=\"sk-item\"><div class=\"sk-serial\"><div class=\"sk-item sk-dashed-wrapped\"><div class=\"sk-label-container\"><div class=\"sk-label sk-toggleable\"><input class=\"sk-toggleable__control sk-hidden--visually\" id=\"64731d2d-1c28-4212-8366-68e107a5da30\" type=\"checkbox\" ><label for=\"64731d2d-1c28-4212-8366-68e107a5da30\" class=\"sk-toggleable__label sk-toggleable__label-arrow\">selector: ColumnTransformer</label><div class=\"sk-toggleable__content\"><pre>ColumnTransformer(transformers=[(&#x27;select_first_4&#x27;, &#x27;passthrough&#x27;,\n",
              "                                 slice(0, 4, None))])</pre></div></div></div><div class=\"sk-parallel\"><div class=\"sk-parallel-item\"><div class=\"sk-item\"><div class=\"sk-label-container\"><div class=\"sk-label sk-toggleable\"><input class=\"sk-toggleable__control sk-hidden--visually\" id=\"fd55d2c8-ca12-4e1f-8c4d-2cefb1628aea\" type=\"checkbox\" ><label for=\"fd55d2c8-ca12-4e1f-8c4d-2cefb1628aea\" class=\"sk-toggleable__label sk-toggleable__label-arrow\">select_first_4</label><div class=\"sk-toggleable__content\"><pre>slice(0, 4, None)</pre></div></div></div><div class=\"sk-serial\"><div class=\"sk-item\"><div class=\"sk-estimator sk-toggleable\"><input class=\"sk-toggleable__control sk-hidden--visually\" id=\"f161fa67-7e1c-4434-bf54-73cbae43f85b\" type=\"checkbox\" ><label for=\"f161fa67-7e1c-4434-bf54-73cbae43f85b\" class=\"sk-toggleable__label sk-toggleable__label-arrow\">passthrough</label><div class=\"sk-toggleable__content\"><pre>passthrough</pre></div></div></div></div></div></div></div></div><div class=\"sk-item\"><div class=\"sk-estimator sk-toggleable\"><input class=\"sk-toggleable__control sk-hidden--visually\" id=\"1c945136-1815-4b0d-a400-6c1db2da22d8\" type=\"checkbox\" ><label for=\"1c945136-1815-4b0d-a400-6c1db2da22d8\" class=\"sk-toggleable__label sk-toggleable__label-arrow\">SimpleImputer</label><div class=\"sk-toggleable__content\"><pre>SimpleImputer(strategy=&#x27;median&#x27;)</pre></div></div></div><div class=\"sk-item\"><div class=\"sk-estimator sk-toggleable\"><input class=\"sk-toggleable__control sk-hidden--visually\" id=\"8d60c062-bf99-4bdd-848c-463042adb423\" type=\"checkbox\" ><label for=\"8d60c062-bf99-4bdd-848c-463042adb423\" class=\"sk-toggleable__label sk-toggleable__label-arrow\">StandardScaler</label><div class=\"sk-toggleable__content\"><pre>StandardScaler()</pre></div></div></div></div></div></div></div></div><div class=\"sk-parallel-item\"><div class=\"sk-item\"><div class=\"sk-label-container\"><div class=\"sk-label sk-toggleable\"><label>cat_pipeline</label></div></div><div class=\"sk-serial\"><div class=\"sk-item sk-dashed-wrapped\"><div class=\"sk-parallel\"><div class=\"sk-parallel-item\"><div class=\"sk-item\"><div class=\"sk-label-container\"><div class=\"sk-label sk-toggleable\"><input class=\"sk-toggleable__control sk-hidden--visually\" id=\"cfe58bd9-38bd-4616-bf16-7a4442191805\" type=\"checkbox\" ><label for=\"cfe58bd9-38bd-4616-bf16-7a4442191805\" class=\"sk-toggleable__label sk-toggleable__label-arrow\">label_binarizer</label><div class=\"sk-toggleable__content\"><pre>[4]</pre></div></div></div><div class=\"sk-serial\"><div class=\"sk-item\"><div class=\"sk-estimator sk-toggleable\"><input class=\"sk-toggleable__control sk-hidden--visually\" id=\"d6c4bca8-aa29-4773-a92d-fe355a396235\" type=\"checkbox\" ><label for=\"d6c4bca8-aa29-4773-a92d-fe355a396235\" class=\"sk-toggleable__label sk-toggleable__label-arrow\">LabelBinarizer</label><div class=\"sk-toggleable__content\"><pre>LabelBinarizer()</pre></div></div></div></div></div></div></div></div></div></div></div></div></div></div></div>"
            ],
            "text/plain": [
              "FeatureUnion(transformer_list=[('num_pipeline',\n",
              "                                Pipeline(steps=[('selector',\n",
              "                                                 ColumnTransformer(transformers=[('select_first_4',\n",
              "                                                                                  'passthrough',\n",
              "                                                                                  slice(0, 4, None))])),\n",
              "                                                ('imputer',\n",
              "                                                 SimpleImputer(strategy='median')),\n",
              "                                                ('std_scaler',\n",
              "                                                 StandardScaler())])),\n",
              "                               ('cat_pipeline',\n",
              "                                ColumnTransformer(transformers=[('label_binarizer',\n",
              "                                                                 LabelBinarizer(),\n",
              "                                                                 [4])]))])"
            ]
          },
          "execution_count": 103,
          "metadata": {},
          "output_type": "execute_result"
        }
      ],
      "source": [
        "from sklearn import set_config\n",
        "set_config(display='diagram')\n",
        "# displays HTML representation in a jupyter context\n",
        "full_pipeline"
      ]
    },
    {
      "cell_type": "markdown",
      "metadata": {
        "id": "YHjJCJ-UTehQ"
      },
      "source": [
        "# **14. Handling imbalanced data**"
      ]
    },
    {
      "cell_type": "markdown",
      "metadata": {
        "id": "ntDqxHEk4uGk"
      },
      "source": [
        "Imbalanced datasets are those where one class is very less represented than the other class. This kind of data results in less efficient ML algorithms.\n",
        "\n",
        "There are two main approaches to handle imbalanced data:\n",
        "\n",
        "*    Undersampling\n",
        "*    Oversampling"
      ]
    },
    {
      "cell_type": "markdown",
      "metadata": {
        "id": "ZEckLa00rMHe"
      },
      "source": [
        "![resampling.png](data:image/png;base64,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)"
      ]
    },
    {
      "cell_type": "markdown",
      "metadata": {
        "id": "9MGOIhkl4gRO"
      },
      "source": [
        "[Image Source](https://www.kaggle.com/rafjaa/resampling-strategies-for-imbalanced-datasets#t1)"
      ]
    },
    {
      "cell_type": "markdown",
      "metadata": {
        "id": "J1v4E1HhMy8w"
      },
      "source": [
        "We will demonstrate how to handle imbalance with the help of wine quality dataset that we have used earlier in this notebook.\n",
        "\n",
        "We will reload this dataset once more before using it for the demonstration."
      ]
    },
    {
      "cell_type": "code",
      "execution_count": null,
      "metadata": {
        "colab": {
          "base_uri": "https://localhost:8080/",
          "height": 285
        },
        "id": "M-7vTkJHODBb",
        "outputId": "3e6ea377-c915-4282-e4f1-bea14d818751"
      },
      "outputs": [
        {
          "data": {
            "image/png": "[encoded data removed]",
            "text/plain": [
              "<Figure size 432x288 with 1 Axes>"
            ]
          },
          "metadata": {
            "needs_background": "light"
          },
          "output_type": "display_data"
        }
      ],
      "source": [
        "wine_data = pd.read_csv(\n",
        "    \"https://archive.ics.uci.edu/ml/machine-learning-databases/wine-quality/\"\n",
        "    \"winequality-red.csv\",\n",
        "    sep=\";\")\n",
        "\n",
        "# display the histogram of the target variable 'quality'\n",
        "wine_data['quality'].hist(bins=50)\n",
        "plt.xlabel('Quality')\n",
        "plt.ylabel('Number of samples')\n",
        "plt.show()"
      ]
    },
    {
      "cell_type": "code",
      "execution_count": null,
      "metadata": {
        "colab": {
          "base_uri": "https://localhost:8080/"
        },
        "id": "Lp5RqBMDHN85",
        "outputId": "b23865ed-af01-4381-a46c-6e69460c4863"
      },
      "outputs": [
        {
          "data": {
            "text/plain": [
              "(1599, 12)"
            ]
          },
          "execution_count": 105,
          "metadata": {},
          "output_type": "execute_result"
        }
      ],
      "source": [
        "wine_data.shape"
      ]
    },
    {
      "cell_type": "markdown",
      "metadata": {
        "id": "7mbbJh9_UscY"
      },
      "source": [
        "## **Undersampling**"
      ]
    },
    {
      "cell_type": "markdown",
      "metadata": {
        "id": "s0qRlf_K5leg"
      },
      "source": [
        "Undersampling refers to sampling from the majority class in order to keep only a part of these data points.\n",
        "\n",
        "It may be carried out using **RandomUnderSampler** class from **imblearn** library.\n"
      ]
    },
    {
      "cell_type": "code",
      "execution_count": null,
      "metadata": {
        "id": "yhPaREvIUtWI"
      },
      "outputs": [],
      "source": [
        "from imblearn.under_sampling import RandomUnderSampler"
      ]
    },
    {
      "cell_type": "code",
      "execution_count": null,
      "metadata": {
        "colab": {
          "base_uri": "https://localhost:8080/"
        },
        "id": "UWEUcgcIDMZT",
        "outputId": "92848453-ee78-4487-b913-f94fc36b5a4b"
      },
      "outputs": [
        {
          "name": "stdout",
          "output_type": "stream",
          "text": [
            "class 3: (10, 12)\n",
            "class 4: (53, 12)\n",
            "class 5: (681, 12)\n",
            "class 6: (638, 12)\n",
            "class 7: (199, 12)\n",
            "class 8: (18, 12)\n"
          ]
        }
      ],
      "source": [
        "# class count\n",
        "class_count_3, class_count_4, class_count_5, class_count_6, class_count_7, class_count_8 = wine_data['quality'].value_counts()\n",
        "\n",
        "# Separate class\n",
        "class_3 = wine_data[wine_data['quality'] == 3]\n",
        "class_4 = wine_data[wine_data['quality'] == 4]\n",
        "class_5 = wine_data[wine_data['quality'] == 5]\n",
        "class_6 = wine_data[wine_data['quality'] == 6]\n",
        "class_7 = wine_data[wine_data['quality'] == 7]\n",
        "class_8 = wine_data[wine_data['quality'] == 8]\n",
        "\n",
        "\n",
        "# print the shape of the class\n",
        "print('class 3:', class_3.shape)\n",
        "print('class 4:', class_4.shape)\n",
        "print('class 5:', class_5.shape)\n",
        "print('class 6:', class_6.shape)\n",
        "print('class 7:', class_7.shape)\n",
        "print('class 8:', class_8.shape)\n"
      ]
    },
    {
      "cell_type": "code",
      "execution_count": null,
      "metadata": {
        "colab": {
          "base_uri": "https://localhost:8080/"
        },
        "id": "FVIx6WqeCkmM",
        "outputId": "afe96d58-3480-48f0-f097-d29bf90c39bc"
      },
      "outputs": [
        {
          "name": "stdout",
          "output_type": "stream",
          "text": [
            "original dataset shape: Counter({5: 681, 6: 638, 7: 199, 4: 53, 8: 18, 3: 10})\n",
            "Resample dataset shape Counter({3: 10, 4: 10, 5: 10, 6: 10, 7: 10, 8: 10})\n"
          ]
        }
      ],
      "source": [
        "from collections import Counter #It allows you to count the items in an iterable list.\n",
        "\n",
        "X = wine_data.drop(['quality'], axis=1)\n",
        "y = wine_data['quality']\n",
        "\n",
        "undersample = RandomUnderSampler(random_state=0)\n",
        "X_rus, y_rus = undersample.fit_resample(X,y)\n",
        "\n",
        "print('original dataset shape:', Counter(y))\n",
        "print('Resample dataset shape', Counter(y_rus))"
      ]
    },
    {
      "cell_type": "markdown",
      "metadata": {
        "id": "0bpV7TloJpph"
      },
      "source": [
        "The class with the least number of samples is '3'. Hence all the other class samples are reduced to the number of samples in the least class."
      ]
    },
    {
      "cell_type": "markdown",
      "metadata": {
        "id": "TAgOSJp5MMdJ"
      },
      "source": [
        "## **Oversampling**"
      ]
    },
    {
      "cell_type": "markdown",
      "metadata": {
        "id": "e2Nt6ep_MY8r"
      },
      "source": [
        "Oversampling refers to replicating some points from the minority class in order to increase the cardinality of the minority class. This might consist of either replicating or generating synthetic data for the minority class.\n",
        "\n",
        "It may be carried out using **RandomOverSampler** class from **imblearn** library."
      ]
    },
    {
      "cell_type": "code",
      "execution_count": null,
      "metadata": {
        "colab": {
          "base_uri": "https://localhost:8080/"
        },
        "id": "Xq9vhE9kMSlu",
        "outputId": "8d095a78-2bf4-4993-ca53-8ca6013bc00f"
      },
      "outputs": [
        {
          "name": "stdout",
          "output_type": "stream",
          "text": [
            "original dataset shape: Counter({5: 681, 6: 638, 7: 199, 4: 53, 8: 18, 3: 10})\n",
            "Resample dataset shape Counter({5: 681, 6: 681, 7: 681, 4: 681, 8: 681, 3: 681})\n"
          ]
        }
      ],
      "source": [
        "from imblearn.over_sampling import RandomOverSampler\n",
        "\n",
        "ros = RandomOverSampler()\n",
        "X_ros, y_ros = ros.fit_resample(X, y)\n",
        "\n",
        "print('original dataset shape:', Counter(y))\n",
        "print('Resample dataset shape', Counter(y_ros))"
      ]
    },
    {
      "cell_type": "code",
      "execution_count": null,
      "metadata": {
        "colab": {
          "base_uri": "https://localhost:8080/"
        },
        "id": "Z9tIcHmEOaxM",
        "outputId": "12ee7f1f-7d07-424a-de86-d38e82b626ec"
      },
      "outputs": [
        {
          "name": "stdout",
          "output_type": "stream",
          "text": [
            "2487 New random points generated with RandomOverSampler\n"
          ]
        }
      ],
      "source": [
        "print(X_ros.shape[0] - X.shape[0], 'New random points generated with RandomOverSampler')"
      ]
    },
    {
      "cell_type": "markdown",
      "metadata": {
        "id": "y7VGAhPUNE8N"
      },
      "source": [
        "The class with the majority number of samples is '5'. Hence all the other class samples that are lesser than this class count are newly sampled to the number of samples in the majority class."
      ]
    },
    {
      "cell_type": "markdown",
      "metadata": {
        "id": "YJ_VURQgRSoV"
      },
      "source": [
        "**4.2 Oversampling using SMOTE**"
      ]
    },
    {
      "cell_type": "markdown",
      "metadata": {
        "id": "pxHvOUXp5uZQ"
      },
      "source": [
        "SMOTE (Synthetic Minority Oversampling Technique) is a popular technique for oversampling.  It is available under **imblearn** library."
      ]
    },
    {
      "cell_type": "code",
      "execution_count": null,
      "metadata": {
        "id": "pgAmeQQUQcD4"
      },
      "outputs": [],
      "source": [
        "from imblearn.over_sampling import SMOTE"
      ]
    },
    {
      "cell_type": "code",
      "execution_count": null,
      "metadata": {
        "colab": {
          "base_uri": "https://localhost:8080/"
        },
        "id": "v54Qnir3QoQs",
        "outputId": "cb27e172-84d3-4b6c-f8f6-f2131a6de5f5"
      },
      "outputs": [
        {
          "data": {
            "text/plain": [
              "Counter({3: 681, 4: 681, 5: 681, 6: 681, 7: 681, 8: 681})"
            ]
          },
          "execution_count": 112,
          "metadata": {},
          "output_type": "execute_result"
        }
      ],
      "source": [
        "oversample = SMOTE()\n",
        "X_sm, y_sm = oversample.fit_resample(X, y)\n",
        "counter = Counter(y_sm)\n",
        "counter"
      ]
    },
    {
      "cell_type": "code",
      "execution_count": null,
      "metadata": {
        "colab": {
          "base_uri": "https://localhost:8080/"
        },
        "id": "b8ig7f0AQARq",
        "outputId": "0ea221f3-806c-40d5-cc6d-a6327576256a"
      },
      "outputs": [
        {
          "name": "stdout",
          "output_type": "stream",
          "text": [
            "2487 New random points generated with SMOTE\n"
          ]
        }
      ],
      "source": [
        "print(X_sm.shape[0] - X.shape[0], 'New random points generated with SMOTE')"
      ]
    },
    {
      "cell_type": "markdown",
      "metadata": {
        "id": "U6lKZQn0SJ96"
      },
      "source": [
        "**Types of SMOTE:**\n",
        "*   Borderline SMOTE\n",
        "*   Borderline-SMOTE SVM\n",
        "*   Adaptive Synthetic Sampling (ADASYN)"
      ]
    }
  ],
  "metadata": {
    "colab": {
      "provenance": [],
      "include_colab_link": true
    },
    "kernelspec": {
      "display_name": "base",
      "language": "python",
      "name": "python3"
    },
    "language_info": {
      "codemirror_mode": {
        "name": "ipython",
        "version": 3
      },
      "file_extension": ".py",
      "mimetype": "text/x-python",
      "name": "python",
      "nbconvert_exporter": "python",
      "pygments_lexer": "ipython3",
      "version": "3.11.5"
    }
  },
  "nbformat": 4,
  "nbformat_minor": 0
}