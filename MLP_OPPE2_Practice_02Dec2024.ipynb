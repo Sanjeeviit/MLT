{
  "cells": [
    {
      "cell_type": "markdown",
      "metadata": {
        "id": "view-in-github",
        "colab_type": "text"
      },
      "source": [
        "<a href=\"https://colab.research.google.com/github/Sanjeeviit/MLT/blob/main/MLP_OPPE2_Practice_02Dec2024.ipynb\" target=\"_parent\"><img src=\"https://colab.research.google.com/assets/colab-badge.svg\" alt=\"Open In Colab\"/></a>"
      ]
    },
    {
      "cell_type": "markdown",
      "metadata": {
        "id": "1MZTr62Fb4xZ"
      },
      "source": [
        "# OPPE 2 Details:\n",
        "\n"
      ]
    },
    {
      "cell_type": "markdown",
      "metadata": {
        "id": "vH9EdnfQ_4E7"
      },
      "source": [
        "### Date: 07 April 2024"
      ]
    },
    {
      "cell_type": "markdown",
      "metadata": {
        "id": "TevAPxiI_5U6"
      },
      "source": [
        "### Roll No:"
      ]
    },
    {
      "cell_type": "markdown",
      "metadata": {
        "id": "E3wSrh2zT0Ci"
      },
      "source": [
        "### Max Marks: 100\n",
        "Part 1 Marks: 40\n",
        "\n",
        "Part 2 Marks: 60"
      ]
    },
    {
      "cell_type": "markdown",
      "source": [
        "# Dataset description\n",
        "1. `Gender`: Gender of the patient.\n",
        "2. `HasTension`: If the patient is known to have hyper tension.\n",
        "3. `Age`: Age of the patient in years.\n",
        "4. `AnyHeartDisease`: If the patient is known to have any cardio pathy.\n",
        "5. `NeverMarried`: Status of the patient if he/she was never married.\n",
        "6. `Occupation`: Occupation or job type of the patient.\n",
        "7. `LivesIn`: If the patient lives in a city or village.\n",
        "8. `GlucoseLevel`: Randomly sampled glucose level of a patient.\n",
        "9. `BMI`: Body mass index.\n",
        "10. `SmokingStatus`: How frequent a patient smokes or if he has smoked before.\n",
        "11. `HeartAttack`: If the patient has a cardiac arrest before."
      ],
      "metadata": {
        "id": "jLScYk5Vws7m"
      }
    },
    {
      "cell_type": "markdown",
      "source": [
        "# Part 1: Preprocessing\n",
        "\n",
        "[Click here to view dataset](https://drive.google.com/file/d/1dJAKuwLM_65R9LHa-VWFU7i7SlCi3BWi/view?usp=sharing)"
      ],
      "metadata": {
        "id": "SzDmZrG6x6ek"
      }
    },
    {
      "cell_type": "markdown",
      "source": [
        "### **Note**: For numerical type questions, always enter the answer correct upto 3 decimal places without rounding off, unless otherwise stated."
      ],
      "metadata": {
        "id": "SYkPYa42XFkL"
      }
    },
    {
      "cell_type": "markdown",
      "metadata": {
        "id": "_LyYUasJRLpY"
      },
      "source": [
        "#Preamble: Load the dataset and examine it."
      ]
    },
    {
      "cell_type": "markdown",
      "metadata": {
        "id": "fT8gFQRKJ2WF"
      },
      "source": [
        "### Q1. [marks : 0] Which dataset are you using for this exam? Write the last two letters of the dataset file name.\n",
        "\n",
        "\n",
        "Hint: the version number will be last two letters of the dataset file name.\n",
        "\n",
        "Options:\n",
        "\n",
        "A) V1\n",
        "\n",
        "B) V2\n",
        "\n",
        "C) V3\n",
        "\n",
        "Note: the shape of the data is (4000, 11)\n",
        "\n",
        "Answer:\n",
        "\n",
        "V1: A\n",
        "\n",
        "V2: B\n",
        "\n",
        "V3: C"
      ]
    },
    {
      "cell_type": "markdown",
      "metadata": {
        "id": "jLAexDe0NkPI"
      },
      "source": [
        "# Preprocessing Questions"
      ]
    },
    {
      "cell_type": "markdown",
      "source": [
        "## Please consider all kind of unknown values  in dataset as missing values."
      ],
      "metadata": {
        "id": "PTu2rwOHEmk5"
      }
    },
    {
      "cell_type": "markdown",
      "metadata": {
        "id": "bSFs4fSveyB2"
      },
      "source": [
        "### Q.2.1 [NAT][2 Mark] What is the total number of missing or unknown values in the column `Gender`?\n",
        "\n",
        "(Hint: carefully look at the values the feature takes and find out implausible value(s).)\n",
        "\n",
        "Ans:\n",
        "\n",
        "V1: 7\n",
        "\n",
        "V2: 5\n",
        "\n",
        "V3: 6\n",
        "\n"
      ]
    },
    {
      "cell_type": "code",
      "source": [],
      "metadata": {
        "id": "qm7Ton5hxBpu"
      },
      "execution_count": null,
      "outputs": []
    },
    {
      "cell_type": "markdown",
      "metadata": {
        "id": "QqGyXpSzaX-J"
      },
      "source": [
        "### Q.2.2 [NAT][2 Marks] What is the total number of missing or unknown values in the column `Age`?\n",
        "\n",
        "(Hint: carefully look at the values the feature takes and find out implausible value(s).)\n",
        "\n",
        "Ans:\n",
        "\n",
        "V1: 8\n",
        "\n",
        "V2: 9\n",
        "\n",
        "V3: 8\n"
      ]
    },
    {
      "cell_type": "code",
      "source": [],
      "metadata": {
        "id": "rKrkM8jcxF7d"
      },
      "execution_count": null,
      "outputs": []
    },
    {
      "cell_type": "markdown",
      "metadata": {
        "id": "klKURh_a3N2m"
      },
      "source": [
        "### Q.2.3 [NAT][2 Marks] What is the total number of missing or unknown values in the column `GlucoseLevel`?\n",
        "\n",
        "(Hint: carefully look at the values the feature takes and find out implausible value(s).)\n",
        "\n",
        "Ans:\n",
        "\n",
        "V1: 9\n",
        "\n",
        "V2: 6\n",
        "\n",
        "V3: 5\n",
        "\n"
      ]
    },
    {
      "cell_type": "code",
      "source": [],
      "metadata": {
        "id": "rl1pvx-2xGzH"
      },
      "execution_count": null,
      "outputs": []
    },
    {
      "cell_type": "markdown",
      "metadata": {
        "id": "ylPEQ_La20Wm"
      },
      "source": [
        "### Q.2.4 [NAT][2 Mark] What is the total number of missing or unknown values in the column `LivesIn`?\n",
        "\n",
        "(Hint: carefully look at the values the feature takes and find out implausible value(s).)\n",
        "\n",
        "Ans:\n",
        "\n",
        "V1: 5\n",
        "\n",
        "V2: 8\n",
        "\n",
        "V3: 5\n"
      ]
    },
    {
      "cell_type": "code",
      "source": [],
      "metadata": {
        "id": "ha5mq42TxIiv"
      },
      "execution_count": null,
      "outputs": []
    },
    {
      "cell_type": "markdown",
      "metadata": {
        "id": "BjGdeFYCuxA_"
      },
      "source": [
        "### Q.2.5 [NAT][2 Marks] What is the total number of missing or unknown values in the column `BMI`?\n",
        "\n",
        "(Hint: carefully look at the values the feature takes and find out implausible value(s).)\n",
        "\n",
        "Ans:\n",
        "\n",
        "V1: 149\n",
        "\n",
        "V2: 155\n",
        "\n",
        "V3: 162\n"
      ]
    },
    {
      "cell_type": "code",
      "source": [],
      "metadata": {
        "id": "1S1oawJvxJmn"
      },
      "execution_count": null,
      "outputs": []
    },
    {
      "cell_type": "markdown",
      "metadata": {
        "id": "zL4TfA1_v2KB"
      },
      "source": [
        "### Q.2.6 [NAT][2 Mark] What is the total number of missing or unknown values in the column `SmokingStatus`?\n",
        "\n",
        "(Hint: carefully look at the values the feature takes and find out implausible value(s).)\n",
        "\n",
        "Ans:\n",
        "\n",
        "V1: 1204\n",
        "\n",
        "V2: 1234\n",
        "\n",
        "V3: 1214\n",
        "\n"
      ]
    },
    {
      "cell_type": "code",
      "source": [],
      "metadata": {
        "id": "UEbJjnmwxKlA"
      },
      "execution_count": null,
      "outputs": []
    },
    {
      "cell_type": "markdown",
      "metadata": {
        "id": "sMZZMxcIQZi2"
      },
      "source": [
        "### Q.3 [NAT][3 Marks] What is the mean value of the `BMI` in the dataset? Ignore the missing values if any.\n",
        "\n",
        "Answer:\n",
        "\n",
        "V1: 28.8857 Range: 28.88 to 28.890\n",
        "\n",
        "V2: 28.9372 Range: 28.932 to 28.942\n",
        "\n",
        "V3: 28.9275 Range: 28.922 to 28.932\n"
      ]
    },
    {
      "cell_type": "code",
      "source": [],
      "metadata": {
        "id": "j7LF5KY0xMg_"
      },
      "execution_count": null,
      "outputs": []
    },
    {
      "cell_type": "markdown",
      "metadata": {
        "id": "8TpGCkocMpDO"
      },
      "source": [
        "### Q.4 [MCQ][3 Marks] How many people live in city, smoked at least once in life and had a heartattack? Ignore records/rows with any missing values.\n",
        "\n",
        "\n",
        "(a) 52\n",
        "\n",
        "(b) 53\n",
        "\n",
        "(c) 54\n",
        "\n",
        "(d) 55\n",
        "\n",
        "(e) 56\n",
        "\n",
        "(f) None of these.\n",
        "\n",
        "V1: A\n",
        "\n",
        "V2: B\n",
        "\n",
        "V3: B\n",
        "\n",
        "\n"
      ]
    },
    {
      "cell_type": "code",
      "source": [],
      "metadata": {
        "id": "O1PgvHqixPJB"
      },
      "execution_count": null,
      "outputs": []
    },
    {
      "cell_type": "markdown",
      "metadata": {
        "id": "Z2iDJXL4Iqj-"
      },
      "source": [
        "###Q.5 [MCQ][Marks 4] Which of the following categories have highest frequency? Ignore rows with missing values.\n",
        "\n",
        "A) female patients without tension, without any heart disease and never married\n",
        "\n",
        "B) female patients without tension, without any heart disease and either currently  married or married before\n",
        "\n",
        "C) male patients without tension, without any heart disease and never married\n",
        "\n",
        "D) male patients with tension, with a heart disease and never married\n",
        "\n",
        "E) There is a tie between 2 or more options.\n",
        "\n",
        "Answer:\n",
        "\n",
        "V1: A\n",
        "\n",
        "V2: A\n",
        "\n",
        "V3: A\n"
      ]
    },
    {
      "cell_type": "code",
      "source": [],
      "metadata": {
        "id": "XqoPgbnrxQKY"
      },
      "execution_count": null,
      "outputs": []
    },
    {
      "cell_type": "markdown",
      "metadata": {
        "id": "w4FM8l9sNQEo"
      },
      "source": [
        "### Q.6 [MSQ][2 Marks] Select columns with categorical values:\n",
        "\n",
        " A) Gender\n",
        "\n",
        " B) BMI\n",
        "\n",
        " C) NeverMarried\n",
        "\n",
        " D) SmokingStatus\n",
        "\n",
        " E) GlucoseLevel\n",
        "\n",
        " F) HeartAttack\n",
        "\n",
        " G) None of these\n",
        "\n",
        " Answer for all sets:\n",
        "\n",
        " Option A, C, D, F"
      ]
    },
    {
      "cell_type": "code",
      "source": [],
      "metadata": {
        "id": "LF_EXSdHxRRH"
      },
      "execution_count": null,
      "outputs": []
    },
    {
      "cell_type": "markdown",
      "metadata": {
        "id": "P8cjy45jEJ-x"
      },
      "source": [
        "###Q.7 [MCQ][2 Marks] 'HeartAttack' is the target column. What is the distribution count of \"No\" and \"Yes\" classes?\n",
        "\n",
        "\n",
        "(a) 3025, 455\n",
        "\n",
        "(b) 3797, 203\n",
        "\n",
        "(c) 3806, 194\n",
        "\n",
        "(d) 3804, 196\n",
        "\n",
        "(e) None of these\n",
        "Answer:\n",
        "\n",
        "- V1 : C\n",
        "- V2 : D\n",
        "- V3 : B"
      ]
    },
    {
      "cell_type": "code",
      "source": [],
      "metadata": {
        "id": "DW8ejAtyxSzg"
      },
      "execution_count": null,
      "outputs": []
    },
    {
      "cell_type": "markdown",
      "source": [
        "## Divide the data into training and test sets\n",
        "<!-- - Replace the respective missing or unknown values in features room count, riverside and age with `np.nan`. -->\n",
        "- Keep 30% of the data as test set.\n",
        "- Use random_state as 0\n",
        "- `HeartAttack` is the target, rest of the columns are the features.\n",
        "- For the label/target vector, replace \"Yes\" with 1 and \"No\" with 0.\n",
        "\n",
        "- Divide the dataset into training and test sets keeping target(y) in **stratified** manner.\n",
        "\n",
        "\n",
        "**Hint**: look for the documentation of the usual function that divides the data into training and test datasets."
      ],
      "metadata": {
        "id": "dA87OWQg-Xsp"
      }
    },
    {
      "cell_type": "code",
      "source": [],
      "metadata": {
        "id": "hLP9uJOxxU4h"
      },
      "execution_count": null,
      "outputs": []
    },
    {
      "cell_type": "markdown",
      "metadata": {
        "id": "mPLlAE-Bgt1d"
      },
      "source": [
        "## Prepare a data preprocessing pipeline to process features in following order:\n",
        "\n",
        "1. `Gender`: Impute with most frequent then ordinally encode.\n",
        "2. `Age`: Impute with mean then standard scale.\n",
        "3. `HasTension`: Ordinally encode.\n",
        "4. `AnyHeartDisease`:Ordinally encode.\n",
        "5. `NeverMarried`:Ordinally encode.\n",
        "6. `Occupation`: One hot encode.\n",
        "7. `LivesIn`: Impute with most frequent then ordinally encode.\n",
        "8. `GlucoseLevel`: Impute with mean, then min-max scaling.\n",
        "9. `BMI`: Impute with mean, then standard scale.\n",
        "10. `SmokingStatus`: Impute with most frequent, then one hot encode.\n",
        "\n",
        "Hint: After transformation, your feature matrix must have columns in following order:\n",
        "\n",
        "0. Gender\n",
        "1. Age\n",
        "2. HasTension\n",
        "3. AnyHeartDisease\n",
        "4. NeverMarried\n",
        "5. Occupation_Govt_job\n",
        "6. Occupation_Never_worked\n",
        "7. Occupation_Private\n",
        "8. Occupation_Self-employed\n",
        "9. Occupation_children\n",
        "10. LivesIn\n",
        "11. GlucoseLevel\n",
        "12. BMI\n",
        "13. SmokingStatus_formerly smoked\n",
        "14. SmokingStatus_never smoked\n",
        "15. SmokingStatus_smokes\n",
        "\n",
        "NOTE:\n",
        "1. Make sure to preprocess the features in the above order exactly. Answer(s) of later question(s) depend(s) upon correct order of featuring processing.\n",
        "2. You may have to use multiple instances of a trasnformer for this question."
      ]
    },
    {
      "cell_type": "code",
      "source": [],
      "metadata": {
        "id": "1yxfYsQUxcSI"
      },
      "execution_count": null,
      "outputs": []
    },
    {
      "cell_type": "markdown",
      "metadata": {
        "id": "yxAFg89IGKUY"
      },
      "source": [
        "## Q.8 [MCQ][2 Mark] Calculate the shape of the feature matrix of training dataset.\n",
        "\n",
        "(a) (2800, 16)\n",
        "\n",
        "(b) (2000, 16)\n",
        "\n",
        "(c) (3000, 16)\n",
        "\n",
        "(d) (3200, 16)\n",
        "\n",
        "Answer:\n",
        "\n",
        "V1: A\n",
        "\n",
        "V2: A\n",
        "\n",
        "V3: A\n",
        "\n",
        "\n"
      ]
    },
    {
      "cell_type": "code",
      "source": [],
      "metadata": {
        "id": "HEswE5nHxe3i"
      },
      "execution_count": null,
      "outputs": []
    },
    {
      "cell_type": "markdown",
      "source": [
        "## Q.9 [NAT][6 marks] What is the mean of the transformed test data (features only)?\n",
        "\n",
        "Note : Compute the mean of the whole feature matrix i.e. mean of all values in the transformed test feature matrix\n",
        "\n",
        "Ans:\n",
        "\n",
        "V1: 0.2462 [Range: 0.241 to 0.251]\n",
        "\n",
        "V2: 0.2506 [Range: 0.245 to 0.255]\n",
        "\n",
        "V3: 0.3870 [Range: 0.382 to 0.392]\n"
      ],
      "metadata": {
        "id": "R_oZ2wEcmAKT"
      }
    },
    {
      "cell_type": "code",
      "source": [],
      "metadata": {
        "id": "ir-ILDrTxpoS"
      },
      "execution_count": null,
      "outputs": []
    },
    {
      "cell_type": "markdown",
      "metadata": {
        "id": "ExbMhZ96-fc1"
      },
      "source": [
        "## Q.10 [NAT][6 marks] If you eliminate 1 feature with recursive feature elimination, which feature will be eliminated?\n",
        "- Type the index of the eliminated feature (index starts from 0).\n",
        "- Use `LogisticRegression` model with random state as 1729 and rest of the  parameters with default values, as an estimator.\n",
        "-  Use processed training data.\n",
        "\n",
        "V1: 15\n",
        "\n",
        "V2: 6\n",
        "\n",
        "V3: 6\n",
        "\n",
        "No range needed for this question."
      ]
    },
    {
      "cell_type": "code",
      "source": [],
      "metadata": {
        "id": "e5gHQMkmxo97"
      },
      "execution_count": null,
      "outputs": []
    },
    {
      "cell_type": "markdown",
      "source": [
        "# Model building\n",
        "[click here to view dataset](https://drive.google.com/file/d/1siP7yTedQlDoaG_vJVnAU2-1QLR9J-ID/view?usp=sharing)"
      ],
      "metadata": {
        "id": "tvEbIu7GyDn4"
      }
    },
    {
      "cell_type": "markdown",
      "source": [
        "### **Note**: For numerical type questions, always enter the answer correct upto 3 decimal places without rounding off, unless otherwise stated."
      ],
      "metadata": {
        "id": "OTxCPconXM6k"
      }
    },
    {
      "cell_type": "markdown",
      "source": [
        "Load the dataset.\n",
        "- The last column is the target column.\n",
        "- Last 30% rows of the dataset constitute test set and remaining rows form the training set.\n",
        "- Do not shuffle the dataset while splitting\n",
        "- You must have to use only training set to train all the estimator in questions below.\n",
        "- First row of the file has column names/ids, and it has no index column."
      ],
      "metadata": {
        "id": "Cfu5AafK7aTo"
      }
    },
    {
      "cell_type": "code",
      "source": [
        "import numpy as np\n",
        "import pandas as pd\n",
        "import matplotlib.pyplot as plt\n",
        "import seaborn as sns\n",
        "df = pd.read_csv('/content/T124OPPE2_Preprocessing_V1.csv')\n",
        "df.head()"
      ],
      "metadata": {
        "id": "olzYVDPi4KGf",
        "outputId": "b3e9b763-9adb-4117-d615-61c04b414f2a",
        "colab": {
          "base_uri": "https://localhost:8080/",
          "height": 206
        }
      },
      "execution_count": 1,
      "outputs": [
        {
          "output_type": "execute_result",
          "data": {
            "text/plain": [
              "   Gender   Age HasTension AnyHeartDisease NeverMarried     Occupation  \\\n",
              "0  Female  75.0        Yes              No          Yes  Self-employed   \n",
              "1  Female  49.0         No              No          Yes        Private   \n",
              "2    Male  32.0         No              No          Yes        Private   \n",
              "3    Male  78.0         No              No          Yes  Self-employed   \n",
              "4    Male  39.0         No              No          Yes        Private   \n",
              "\n",
              "   LivesIn  GlucoseLevel   BMI    SmokingStatus HeartAttack  \n",
              "0     City          54.6  35.1     never smoked          No  \n",
              "1  Village         108.8  26.7           smokes          No  \n",
              "2     City          64.1  23.4           smokes          No  \n",
              "3     City         219.2  27.4          Unknown         Yes  \n",
              "4     City          55.4  41.6  formerly smoked          No  "
            ],
            "text/html": [
              "\n",
              "  <div id=\"df-04f961c7-a20c-4cb4-99ac-63d79aa6e293\" class=\"colab-df-container\">\n",
              "    <div>\n",
              "<style scoped>\n",
              "    .dataframe tbody tr th:only-of-type {\n",
              "        vertical-align: middle;\n",
              "    }\n",
              "\n",
              "    .dataframe tbody tr th {\n",
              "        vertical-align: top;\n",
              "    }\n",
              "\n",
              "    .dataframe thead th {\n",
              "        text-align: right;\n",
              "    }\n",
              "</style>\n",
              "<table border=\"1\" class=\"dataframe\">\n",
              "  <thead>\n",
              "    <tr style=\"text-align: right;\">\n",
              "      <th></th>\n",
              "      <th>Gender</th>\n",
              "      <th>Age</th>\n",
              "      <th>HasTension</th>\n",
              "      <th>AnyHeartDisease</th>\n",
              "      <th>NeverMarried</th>\n",
              "      <th>Occupation</th>\n",
              "      <th>LivesIn</th>\n",
              "      <th>GlucoseLevel</th>\n",
              "      <th>BMI</th>\n",
              "      <th>SmokingStatus</th>\n",
              "      <th>HeartAttack</th>\n",
              "    </tr>\n",
              "  </thead>\n",
              "  <tbody>\n",
              "    <tr>\n",
              "      <th>0</th>\n",
              "      <td>Female</td>\n",
              "      <td>75.0</td>\n",
              "      <td>Yes</td>\n",
              "      <td>No</td>\n",
              "      <td>Yes</td>\n",
              "      <td>Self-employed</td>\n",
              "      <td>City</td>\n",
              "      <td>54.6</td>\n",
              "      <td>35.1</td>\n",
              "      <td>never smoked</td>\n",
              "      <td>No</td>\n",
              "    </tr>\n",
              "    <tr>\n",
              "      <th>1</th>\n",
              "      <td>Female</td>\n",
              "      <td>49.0</td>\n",
              "      <td>No</td>\n",
              "      <td>No</td>\n",
              "      <td>Yes</td>\n",
              "      <td>Private</td>\n",
              "      <td>Village</td>\n",
              "      <td>108.8</td>\n",
              "      <td>26.7</td>\n",
              "      <td>smokes</td>\n",
              "      <td>No</td>\n",
              "    </tr>\n",
              "    <tr>\n",
              "      <th>2</th>\n",
              "      <td>Male</td>\n",
              "      <td>32.0</td>\n",
              "      <td>No</td>\n",
              "      <td>No</td>\n",
              "      <td>Yes</td>\n",
              "      <td>Private</td>\n",
              "      <td>City</td>\n",
              "      <td>64.1</td>\n",
              "      <td>23.4</td>\n",
              "      <td>smokes</td>\n",
              "      <td>No</td>\n",
              "    </tr>\n",
              "    <tr>\n",
              "      <th>3</th>\n",
              "      <td>Male</td>\n",
              "      <td>78.0</td>\n",
              "      <td>No</td>\n",
              "      <td>No</td>\n",
              "      <td>Yes</td>\n",
              "      <td>Self-employed</td>\n",
              "      <td>City</td>\n",
              "      <td>219.2</td>\n",
              "      <td>27.4</td>\n",
              "      <td>Unknown</td>\n",
              "      <td>Yes</td>\n",
              "    </tr>\n",
              "    <tr>\n",
              "      <th>4</th>\n",
              "      <td>Male</td>\n",
              "      <td>39.0</td>\n",
              "      <td>No</td>\n",
              "      <td>No</td>\n",
              "      <td>Yes</td>\n",
              "      <td>Private</td>\n",
              "      <td>City</td>\n",
              "      <td>55.4</td>\n",
              "      <td>41.6</td>\n",
              "      <td>formerly smoked</td>\n",
              "      <td>No</td>\n",
              "    </tr>\n",
              "  </tbody>\n",
              "</table>\n",
              "</div>\n",
              "    <div class=\"colab-df-buttons\">\n",
              "\n",
              "  <div class=\"colab-df-container\">\n",
              "    <button class=\"colab-df-convert\" onclick=\"convertToInteractive('df-04f961c7-a20c-4cb4-99ac-63d79aa6e293')\"\n",
              "            title=\"Convert this dataframe to an interactive table.\"\n",
              "            style=\"display:none;\">\n",
              "\n",
              "  <svg xmlns=\"http://www.w3.org/2000/svg\" height=\"24px\" viewBox=\"0 -960 960 960\">\n",
              "    <path d=\"M120-120v-720h720v720H120Zm60-500h600v-160H180v160Zm220 220h160v-160H400v160Zm0 220h160v-160H400v160ZM180-400h160v-160H180v160Zm440 0h160v-160H620v160ZM180-180h160v-160H180v160Zm440 0h160v-160H620v160Z\"/>\n",
              "  </svg>\n",
              "    </button>\n",
              "\n",
              "  <style>\n",
              "    .colab-df-container {\n",
              "      display:flex;\n",
              "      gap: 12px;\n",
              "    }\n",
              "\n",
              "    .colab-df-convert {\n",
              "      background-color: #E8F0FE;\n",
              "      border: none;\n",
              "      border-radius: 50%;\n",
              "      cursor: pointer;\n",
              "      display: none;\n",
              "      fill: #1967D2;\n",
              "      height: 32px;\n",
              "      padding: 0 0 0 0;\n",
              "      width: 32px;\n",
              "    }\n",
              "\n",
              "    .colab-df-convert:hover {\n",
              "      background-color: #E2EBFA;\n",
              "      box-shadow: 0px 1px 2px rgba(60, 64, 67, 0.3), 0px 1px 3px 1px rgba(60, 64, 67, 0.15);\n",
              "      fill: #174EA6;\n",
              "    }\n",
              "\n",
              "    .colab-df-buttons div {\n",
              "      margin-bottom: 4px;\n",
              "    }\n",
              "\n",
              "    [theme=dark] .colab-df-convert {\n",
              "      background-color: #3B4455;\n",
              "      fill: #D2E3FC;\n",
              "    }\n",
              "\n",
              "    [theme=dark] .colab-df-convert:hover {\n",
              "      background-color: #434B5C;\n",
              "      box-shadow: 0px 1px 3px 1px rgba(0, 0, 0, 0.15);\n",
              "      filter: drop-shadow(0px 1px 2px rgba(0, 0, 0, 0.3));\n",
              "      fill: #FFFFFF;\n",
              "    }\n",
              "  </style>\n",
              "\n",
              "    <script>\n",
              "      const buttonEl =\n",
              "        document.querySelector('#df-04f961c7-a20c-4cb4-99ac-63d79aa6e293 button.colab-df-convert');\n",
              "      buttonEl.style.display =\n",
              "        google.colab.kernel.accessAllowed ? 'block' : 'none';\n",
              "\n",
              "      async function convertToInteractive(key) {\n",
              "        const element = document.querySelector('#df-04f961c7-a20c-4cb4-99ac-63d79aa6e293');\n",
              "        const dataTable =\n",
              "          await google.colab.kernel.invokeFunction('convertToInteractive',\n",
              "                                                    [key], {});\n",
              "        if (!dataTable) return;\n",
              "\n",
              "        const docLinkHtml = 'Like what you see? Visit the ' +\n",
              "          '<a target=\"_blank\" href=https://colab.research.google.com/notebooks/data_table.ipynb>data table notebook</a>'\n",
              "          + ' to learn more about interactive tables.';\n",
              "        element.innerHTML = '';\n",
              "        dataTable['output_type'] = 'display_data';\n",
              "        await google.colab.output.renderOutput(dataTable, element);\n",
              "        const docLink = document.createElement('div');\n",
              "        docLink.innerHTML = docLinkHtml;\n",
              "        element.appendChild(docLink);\n",
              "      }\n",
              "    </script>\n",
              "  </div>\n",
              "\n",
              "\n",
              "<div id=\"df-0e2e7b92-8180-464a-839f-eeacafb7a03e\">\n",
              "  <button class=\"colab-df-quickchart\" onclick=\"quickchart('df-0e2e7b92-8180-464a-839f-eeacafb7a03e')\"\n",
              "            title=\"Suggest charts\"\n",
              "            style=\"display:none;\">\n",
              "\n",
              "<svg xmlns=\"http://www.w3.org/2000/svg\" height=\"24px\"viewBox=\"0 0 24 24\"\n",
              "     width=\"24px\">\n",
              "    <g>\n",
              "        <path d=\"M19 3H5c-1.1 0-2 .9-2 2v14c0 1.1.9 2 2 2h14c1.1 0 2-.9 2-2V5c0-1.1-.9-2-2-2zM9 17H7v-7h2v7zm4 0h-2V7h2v10zm4 0h-2v-4h2v4z\"/>\n",
              "    </g>\n",
              "</svg>\n",
              "  </button>\n",
              "\n",
              "<style>\n",
              "  .colab-df-quickchart {\n",
              "      --bg-color: #E8F0FE;\n",
              "      --fill-color: #1967D2;\n",
              "      --hover-bg-color: #E2EBFA;\n",
              "      --hover-fill-color: #174EA6;\n",
              "      --disabled-fill-color: #AAA;\n",
              "      --disabled-bg-color: #DDD;\n",
              "  }\n",
              "\n",
              "  [theme=dark] .colab-df-quickchart {\n",
              "      --bg-color: #3B4455;\n",
              "      --fill-color: #D2E3FC;\n",
              "      --hover-bg-color: #434B5C;\n",
              "      --hover-fill-color: #FFFFFF;\n",
              "      --disabled-bg-color: #3B4455;\n",
              "      --disabled-fill-color: #666;\n",
              "  }\n",
              "\n",
              "  .colab-df-quickchart {\n",
              "    background-color: var(--bg-color);\n",
              "    border: none;\n",
              "    border-radius: 50%;\n",
              "    cursor: pointer;\n",
              "    display: none;\n",
              "    fill: var(--fill-color);\n",
              "    height: 32px;\n",
              "    padding: 0;\n",
              "    width: 32px;\n",
              "  }\n",
              "\n",
              "  .colab-df-quickchart:hover {\n",
              "    background-color: var(--hover-bg-color);\n",
              "    box-shadow: 0 1px 2px rgba(60, 64, 67, 0.3), 0 1px 3px 1px rgba(60, 64, 67, 0.15);\n",
              "    fill: var(--button-hover-fill-color);\n",
              "  }\n",
              "\n",
              "  .colab-df-quickchart-complete:disabled,\n",
              "  .colab-df-quickchart-complete:disabled:hover {\n",
              "    background-color: var(--disabled-bg-color);\n",
              "    fill: var(--disabled-fill-color);\n",
              "    box-shadow: none;\n",
              "  }\n",
              "\n",
              "  .colab-df-spinner {\n",
              "    border: 2px solid var(--fill-color);\n",
              "    border-color: transparent;\n",
              "    border-bottom-color: var(--fill-color);\n",
              "    animation:\n",
              "      spin 1s steps(1) infinite;\n",
              "  }\n",
              "\n",
              "  @keyframes spin {\n",
              "    0% {\n",
              "      border-color: transparent;\n",
              "      border-bottom-color: var(--fill-color);\n",
              "      border-left-color: var(--fill-color);\n",
              "    }\n",
              "    20% {\n",
              "      border-color: transparent;\n",
              "      border-left-color: var(--fill-color);\n",
              "      border-top-color: var(--fill-color);\n",
              "    }\n",
              "    30% {\n",
              "      border-color: transparent;\n",
              "      border-left-color: var(--fill-color);\n",
              "      border-top-color: var(--fill-color);\n",
              "      border-right-color: var(--fill-color);\n",
              "    }\n",
              "    40% {\n",
              "      border-color: transparent;\n",
              "      border-right-color: var(--fill-color);\n",
              "      border-top-color: var(--fill-color);\n",
              "    }\n",
              "    60% {\n",
              "      border-color: transparent;\n",
              "      border-right-color: var(--fill-color);\n",
              "    }\n",
              "    80% {\n",
              "      border-color: transparent;\n",
              "      border-right-color: var(--fill-color);\n",
              "      border-bottom-color: var(--fill-color);\n",
              "    }\n",
              "    90% {\n",
              "      border-color: transparent;\n",
              "      border-bottom-color: var(--fill-color);\n",
              "    }\n",
              "  }\n",
              "</style>\n",
              "\n",
              "  <script>\n",
              "    async function quickchart(key) {\n",
              "      const quickchartButtonEl =\n",
              "        document.querySelector('#' + key + ' button');\n",
              "      quickchartButtonEl.disabled = true;  // To prevent multiple clicks.\n",
              "      quickchartButtonEl.classList.add('colab-df-spinner');\n",
              "      try {\n",
              "        const charts = await google.colab.kernel.invokeFunction(\n",
              "            'suggestCharts', [key], {});\n",
              "      } catch (error) {\n",
              "        console.error('Error during call to suggestCharts:', error);\n",
              "      }\n",
              "      quickchartButtonEl.classList.remove('colab-df-spinner');\n",
              "      quickchartButtonEl.classList.add('colab-df-quickchart-complete');\n",
              "    }\n",
              "    (() => {\n",
              "      let quickchartButtonEl =\n",
              "        document.querySelector('#df-0e2e7b92-8180-464a-839f-eeacafb7a03e button');\n",
              "      quickchartButtonEl.style.display =\n",
              "        google.colab.kernel.accessAllowed ? 'block' : 'none';\n",
              "    })();\n",
              "  </script>\n",
              "</div>\n",
              "\n",
              "    </div>\n",
              "  </div>\n"
            ],
            "application/vnd.google.colaboratory.intrinsic+json": {
              "type": "dataframe",
              "variable_name": "df",
              "summary": "{\n  \"name\": \"df\",\n  \"rows\": 4000,\n  \"fields\": [\n    {\n      \"column\": \"Gender\",\n      \"properties\": {\n        \"dtype\": \"category\",\n        \"num_unique_values\": 3,\n        \"samples\": [\n          \"Female\",\n          \"Male\",\n          \"Unknown\"\n        ],\n        \"semantic_type\": \"\",\n        \"description\": \"\"\n      }\n    },\n    {\n      \"column\": \"Age\",\n      \"properties\": {\n        \"dtype\": \"number\",\n        \"std\": 22.704668271039008,\n        \"min\": -3.0,\n        \"max\": 82.0,\n        \"num_unique_values\": 105,\n        \"samples\": [\n          58.0,\n          64.0,\n          62.0\n        ],\n        \"semantic_type\": \"\",\n        \"description\": \"\"\n      }\n    },\n    {\n      \"column\": \"HasTension\",\n      \"properties\": {\n        \"dtype\": \"category\",\n        \"num_unique_values\": 2,\n        \"samples\": [\n          \"No\",\n          \"Yes\"\n        ],\n        \"semantic_type\": \"\",\n        \"description\": \"\"\n      }\n    },\n    {\n      \"column\": \"AnyHeartDisease\",\n      \"properties\": {\n        \"dtype\": \"category\",\n        \"num_unique_values\": 2,\n        \"samples\": [\n          \"Yes\",\n          \"No\"\n        ],\n        \"semantic_type\": \"\",\n        \"description\": \"\"\n      }\n    },\n    {\n      \"column\": \"NeverMarried\",\n      \"properties\": {\n        \"dtype\": \"category\",\n        \"num_unique_values\": 2,\n        \"samples\": [\n          \"No\",\n          \"Yes\"\n        ],\n        \"semantic_type\": \"\",\n        \"description\": \"\"\n      }\n    },\n    {\n      \"column\": \"Occupation\",\n      \"properties\": {\n        \"dtype\": \"category\",\n        \"num_unique_values\": 5,\n        \"samples\": [\n          \"Private\",\n          \"Never_worked\"\n        ],\n        \"semantic_type\": \"\",\n        \"description\": \"\"\n      }\n    },\n    {\n      \"column\": \"LivesIn\",\n      \"properties\": {\n        \"dtype\": \"category\",\n        \"num_unique_values\": 3,\n        \"samples\": [\n          \"City\",\n          \"Village\"\n        ],\n        \"semantic_type\": \"\",\n        \"description\": \"\"\n      }\n    },\n    {\n      \"column\": \"GlucoseLevel\",\n      \"properties\": {\n        \"dtype\": \"number\",\n        \"std\": 45.497055198576454,\n        \"min\": -2.0,\n        \"max\": 272.2,\n        \"num_unique_values\": 1247,\n        \"samples\": [\n          92.1,\n          145.7\n        ],\n        \"semantic_type\": \"\",\n        \"description\": \"\"\n      }\n    },\n    {\n      \"column\": \"BMI\",\n      \"properties\": {\n        \"dtype\": \"number\",\n        \"std\": 7.9043601901064475,\n        \"min\": 9.6,\n        \"max\": 97.0,\n        \"num_unique_values\": 408,\n        \"samples\": [\n          22.2,\n          48.2\n        ],\n        \"semantic_type\": \"\",\n        \"description\": \"\"\n      }\n    },\n    {\n      \"column\": \"SmokingStatus\",\n      \"properties\": {\n        \"dtype\": \"category\",\n        \"num_unique_values\": 4,\n        \"samples\": [\n          \"smokes\",\n          \"formerly smoked\"\n        ],\n        \"semantic_type\": \"\",\n        \"description\": \"\"\n      }\n    },\n    {\n      \"column\": \"HeartAttack\",\n      \"properties\": {\n        \"dtype\": \"category\",\n        \"num_unique_values\": 2,\n        \"samples\": [\n          \"Yes\",\n          \"No\"\n        ],\n        \"semantic_type\": \"\",\n        \"description\": \"\"\n      }\n    }\n  ]\n}"
            }
          },
          "metadata": {},
          "execution_count": 1
        }
      ]
    },
    {
      "cell_type": "code",
      "source": [
        "from sklearn.model_selection import train_test_split\n",
        "X = df.iloc[:,:-1]\n",
        "y = df.iloc[:,-1]\n",
        "X_train, X_test, y_train, y_test = train_test_split(X, y, test_size=0.3, random_state=0, shuffle=False)"
      ],
      "metadata": {
        "id": "LalLNpuZ2zSn"
      },
      "execution_count": 3,
      "outputs": []
    },
    {
      "cell_type": "code",
      "source": [
        "df.shape"
      ],
      "metadata": {
        "id": "ZUy1Z7Bn2sNt",
        "outputId": "8f3947e0-c6c2-4c56-a9f6-5a4b4d866b3c",
        "colab": {
          "base_uri": "https://localhost:8080/"
        }
      },
      "execution_count": 2,
      "outputs": [
        {
          "output_type": "execute_result",
          "data": {
            "text/plain": [
              "(4000, 11)"
            ]
          },
          "metadata": {},
          "execution_count": 2
        }
      ]
    },
    {
      "cell_type": "markdown",
      "source": [
        "### Q.1 [MCQ][0 Mark] Which dataset are you using for this exam? Write the last two letters of the dataset file name.\n",
        "\n",
        "A) V1\n",
        "\n",
        "B) V2\n",
        "\n",
        "C) V3\n",
        "\n",
        "Answer:\n",
        "\n",
        "V1: A\n",
        "\n",
        "V2: B\n",
        "\n",
        "V3: C"
      ],
      "metadata": {
        "id": "QzT_qLXSkUg4"
      }
    },
    {
      "cell_type": "code",
      "source": [
        "#A"
      ],
      "metadata": {
        "id": "PautqQ8Zx7Hl"
      },
      "execution_count": null,
      "outputs": []
    },
    {
      "cell_type": "markdown",
      "source": [
        "### Instructions (Q2-Q3)\n",
        "Instantiate a perceptron classifier that with following parameters:\n",
        "  * random_state = 1729\n",
        "  * learning rate = 1\n",
        "  * Train for appropriate number of iterations\n",
        "  * Do not shuffle the dataset for each iteration.\n",
        "  * Include the intercept (bias) term.\n",
        "  * Use 10% of the data for validation fraction.\n",
        "  * Do not apply regularization.\n",
        "  * Set warm start to true.\n",
        "\n",
        "Hint: one iteration of training indicates going over each sample exactly once.\n",
        "\n",
        "Train the classifier on the training data."
      ],
      "metadata": {
        "id": "1KOMUvuGrQw7"
      }
    },
    {
      "cell_type": "code",
      "source": [
        "from sklearn.model_selection import train_test_split\n",
        "from sklearn.linear_model import Perceptron\n",
        "random_state=1729\n",
        "learning_rate=1\n",
        "train_size=0.9\n",
        "test_size=0.1\n",
        "X_train, X_test, y_train, y_test = train_test_split(X, y, test_size=test_size, random_state=random_state, shuffle=False)\n",
        "perceptron = Perceptron(random_state=random_state,\n",
        "                        learning_rate=learning_rate"
      ],
      "metadata": {
        "id": "xGubXlk_3lUW"
      },
      "execution_count": null,
      "outputs": []
    },
    {
      "cell_type": "code",
      "source": [],
      "metadata": {
        "id": "mPVnQd5j3lDl"
      },
      "execution_count": null,
      "outputs": []
    },
    {
      "cell_type": "markdown",
      "metadata": {
        "id": "7dnMuDPd8R_m"
      },
      "source": [
        "### Q.2 [NAT] [4 Marks] Train the perceptron classifier for 5 iterations. What is value of bias (intercept) after 5th iteration?\n",
        "\n",
        "\n",
        "Answer:\n",
        "\n",
        "V1: -3.0, range: -2.995 to -3.005\n",
        "\n",
        "V2: -4.0, range: -3.995 to -4.005\n",
        "\n",
        "V3: -6.0, range: -5.995 to -6.005"
      ]
    },
    {
      "cell_type": "code",
      "source": [],
      "metadata": {
        "id": "1owE-FChyB-Y"
      },
      "execution_count": null,
      "outputs": []
    },
    {
      "cell_type": "markdown",
      "metadata": {
        "id": "JDH_v3tk8SEE"
      },
      "source": [
        "###Q.3 [MCQ][5 Marks] In continuation of the previous question, compute precision accurate upto 2 decimal places on training data for positive class (i.e. class value 1), after 5 iterations.\n",
        "\n",
        "[Hint: Use estimator trained from the previous question]\n",
        "\n",
        "\n",
        "Answer:\n",
        "\n",
        "V1: 0.666, range: 0.661 to 0.671\n",
        "\n",
        "V2: 0.1238, range: 0.118 to 0.128\n",
        "\n",
        "V3: 0.0, range: 0.0 to 0.005"
      ]
    },
    {
      "cell_type": "code",
      "source": [],
      "metadata": {
        "id": "y-2bENGeyD2N"
      },
      "execution_count": null,
      "outputs": []
    },
    {
      "cell_type": "markdown",
      "metadata": {
        "id": "TMD4z7zOKzsp"
      },
      "source": [
        "### Q.4 [NAT][5 Marks] Train (on training data only) logistic regression using `SGDClassifier`. Use the following parameters:\n",
        "\n",
        "1. Choose appropriate loss value to obtain logistic regression\n",
        "2. penalty='l2',\n",
        "3. eta0=0.001,\n",
        "4. alpha=0,\n",
        "5. learning_rate='constant'\n",
        "6. random_state=1729.\n",
        "7. warm_start = True\n",
        "\n",
        "Train the classifier for 5 iterations and note the value of the loss in each iteration. What will be the loss value after second iteration? Answer upto three decimal places.\n",
        "\n",
        "**Note:** Set the remaining parameters, if any, accordingly to be able to get the loss value after second iteration. Also note that the classifier has to be trained for 5 iterations.\n",
        "\n",
        "Answer:\n",
        "\n",
        "V1: 0.2082 Range: 0.203 to 0.213\n",
        "\n",
        "V2: 0.2096 Range: 0.204 to 0.214\n",
        "\n",
        "V3: 0.2111 Range: 0.206 to 0.216"
      ]
    },
    {
      "cell_type": "code",
      "source": [],
      "metadata": {
        "id": "cBey7uo6yYVP"
      },
      "execution_count": null,
      "outputs": []
    },
    {
      "cell_type": "markdown",
      "metadata": {
        "id": "VK0GGQFbOnFL"
      },
      "source": [
        "### Q.5 [MCQ][5 marks] Use GridSearchCV with SGDClassifier. Following are the classifier's parameters:\n",
        "\n",
        "- `loss = 'log_loss'`\n",
        "- `learning_rate = 'constant'`\n",
        "- `random_state = 1729`\n",
        "\n",
        "Following are parameters to examine:\n",
        "-  `alpha = [0.0001, 0.0005, 0.001, 0.005]`\n",
        "- `eta0 = [0.01, 0.05, 0.1, 0.5]`\n",
        "\n",
        "What are the best values of alpha and eta0 respectively?\n",
        "\n",
        "A. 0.0001, 0.01\n",
        "\n",
        "B. 0.001, 0.01\n",
        "\n",
        "C. 0.0001, 0.5\n",
        "\n",
        "D. 0.0005, 0.01\n",
        "\n",
        "E. 0.005, 0.5\n",
        "\n",
        "F 0.05, 0.1\n",
        "\n",
        "Answer:\n",
        "\n",
        "V1: A\n",
        "\n",
        "V2: A\n",
        "\n",
        "V3: F"
      ]
    },
    {
      "cell_type": "code",
      "source": [],
      "metadata": {
        "id": "5qd7f58kyaBP"
      },
      "execution_count": null,
      "outputs": []
    },
    {
      "cell_type": "markdown",
      "metadata": {
        "id": "4AnQlvHCA4yk"
      },
      "source": [
        "### Q.6 [MCQ][5 Marks] Create a new estimator using SGDClassifier that uses the best parameters obtained in Gridsearch earlier ((learning rate to be constant, random_state to be '1729' and use appropriate loss for logistic regression)) and set the weight of class 0 to be 0.1 and the weight of class 1 to be 2. How many samples of class 1 from the test set are correctly predicted by this estimator?\n",
        "\n",
        "\n",
        "\n",
        "A. 47\n",
        "\n",
        "B. 46\n",
        "\n",
        "C. 55\n",
        "\n",
        "D. 40\n",
        "\n",
        "E. 41\n",
        "\n",
        "F. None of these\n",
        "\n",
        "Ans:\n",
        "\n",
        "V1: A\n",
        "\n",
        "V2: B\n",
        "\n",
        "V3: E"
      ]
    },
    {
      "cell_type": "code",
      "source": [],
      "metadata": {
        "id": "88110brkyjYY"
      },
      "execution_count": null,
      "outputs": []
    },
    {
      "cell_type": "markdown",
      "metadata": {
        "id": "vVyTFPuCVNuj"
      },
      "source": [
        "###Q.7 [MCQ][ 5 Marks] Fit an SVM classifier with following parameters:\n",
        "\n",
        "- `kernel='rbf'`\n",
        "- `decision_function_shape='ovr'`\n",
        "- random_state=`1729`  \n",
        "- `C=1`\n",
        "\n",
        "Train the model on training data, and print the confusion matrix on test data.\n",
        "\n",
        "(MCQ)\n",
        "\n",
        "Options:\n",
        "\n",
        "(a) [[1142    0]\n",
        " [  58    0]]\n",
        "\n",
        " (b)  [[1141    0]\n",
        " [  59    0]]\n",
        "\n",
        "\n",
        " (c)  [[1139    0]\n",
        " [  61    0]]\n",
        "\n",
        " (d) [[1150   0]\n",
        " [ 50   0]]\n",
        "\n",
        " (e) [[1000    0]\n",
        " [ 200    0]]\n",
        "\n",
        "\n",
        "Answer\n",
        "\n",
        "V1: A\n",
        "\n",
        "V2: B\n",
        "\n",
        "V3: C"
      ]
    },
    {
      "cell_type": "code",
      "source": [],
      "metadata": {
        "id": "1VGLxNUsynBo"
      },
      "execution_count": null,
      "outputs": []
    },
    {
      "cell_type": "markdown",
      "metadata": {
        "id": "soNA0inKfA6l"
      },
      "source": [
        "###Instructions for Q8-10\n",
        "Train a Decision Tree Classifier with the following properties:\n",
        "\n",
        "- criterion = 'entropy',\n",
        "- splitter = 'random',\n",
        "- min_samples_split = 4,\n",
        "- min_impurity_decrease = 0.0001,\n",
        "- random_state = 1729\n",
        "\n"
      ]
    },
    {
      "cell_type": "markdown",
      "metadata": {
        "id": "XVrUzdVQiSqC"
      },
      "source": [
        "###Q.8 [MCQ][5 Marks] What is the resultant depth of the tree?\n",
        "\n",
        "\n",
        "A. 18\n",
        "\n",
        "B. 20\n",
        "\n",
        "C. 21\n",
        "\n",
        "D. 24\n",
        "\n",
        "E. 26\n",
        "\n",
        "Answer:\n",
        "\n",
        "V1: B\n",
        "\n",
        "V2: B\n",
        "\n",
        "V3: A"
      ]
    },
    {
      "cell_type": "code",
      "source": [],
      "metadata": {
        "id": "HUA30gnEyseZ"
      },
      "execution_count": null,
      "outputs": []
    },
    {
      "cell_type": "markdown",
      "metadata": {
        "id": "ZRSqxvhTiXCM"
      },
      "source": [
        "### Q.9 [MCQ][Marks 5] How many nodes are there in the tree?\n",
        "\n",
        "\n",
        "A. 495\n",
        "\n",
        "B. 515\n",
        "\n",
        "C. 491\n",
        "\n",
        "D. 589\n",
        "\n",
        "E. 571\n",
        "\n",
        "Answer:\n",
        "\n",
        "V1: B (515)\n",
        "\n",
        "V2: A (495)\n",
        "\n",
        "V3: C (491)"
      ]
    },
    {
      "cell_type": "code",
      "source": [],
      "metadata": {
        "id": "OLHqirSUyuLZ"
      },
      "execution_count": null,
      "outputs": []
    },
    {
      "cell_type": "markdown",
      "metadata": {
        "id": "Xu1JYuqJiaN8"
      },
      "source": [
        "###Q.10 [NAT][5 Marks] What is the value of entropy at the left child of root?\n",
        "\n",
        "Answer:\n",
        "\n",
        "V1: 0.025 Range:0.0245 to 0.0255\n",
        "\n",
        "V2: 0.032 Range: 0.027 to 0.037\n",
        "\n",
        "V3: 0.025 Range:0.0245 to 0.0255"
      ]
    },
    {
      "cell_type": "code",
      "source": [],
      "metadata": {
        "id": "EaNiqwylyvFq"
      },
      "execution_count": null,
      "outputs": []
    },
    {
      "cell_type": "markdown",
      "metadata": {
        "id": "8Y63j8AR5mKE"
      },
      "source": [
        "###Q. 11 [MCQ][8 Marks] Out of DecisionTreeClassifier, KNeighborsClassifier and LogisticRegression, which one performs the best when used as base estimator in BaggingClassifier on the test data in terms of accuracy score when 20 base estimators are used ?\n",
        "\n",
        "(Use random state 1729 for BaggingClassifier, DecisionTreeClassifier and LogisticRegression)\n",
        "\n",
        "The metric for best performance will be the lowest 'absolute' difference in the train and test score.\n",
        "\n",
        "A. DecisionTreeClassifier\n",
        "\n",
        "B. KNeighborsClassifier\n",
        "\n",
        "C. LogisticRegression\n",
        "\n",
        "Answer:\n",
        "\n",
        "V1: C\n",
        "\n",
        "V2: C\n",
        "\n",
        "V3: C\n",
        "\n"
      ]
    },
    {
      "cell_type": "code",
      "source": [],
      "metadata": {
        "id": "lR7TixlOzBes"
      },
      "execution_count": null,
      "outputs": []
    },
    {
      "cell_type": "markdown",
      "metadata": {
        "id": "XrhFb06E6bSQ"
      },
      "source": [
        "### Q. 12 [NAT] [8 Marks] When the above three individual classifiers (with same settings) are used in VotingClassifier, how much absolute difference do we obtain in train and test scores? Enter your answer correct upto 4 decimal places.\n",
        "\n",
        "Answer:\n",
        "\n",
        "V1: 0.0042 Range : 0.0037 to 0.0047\n",
        "\n",
        "V2: 0.00654 range: 0.006 to 0.007\n",
        "\n",
        "V3: 0.00821 Range: 0.0077 0.0087"
      ]
    },
    {
      "cell_type": "code",
      "source": [],
      "metadata": {
        "id": "Fit47mkfzC0F"
      },
      "execution_count": null,
      "outputs": []
    }
  ],
  "metadata": {
    "colab": {
      "provenance": [],
      "include_colab_link": true
    },
    "kernelspec": {
      "display_name": "Python 3",
      "name": "python3"
    },
    "language_info": {
      "name": "python"
    }
  },
  "nbformat": 4,
  "nbformat_minor": 0
}