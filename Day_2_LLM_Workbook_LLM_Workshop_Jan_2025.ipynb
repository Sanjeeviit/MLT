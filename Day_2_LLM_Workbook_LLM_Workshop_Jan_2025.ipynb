{
  "nbformat": 4,
  "nbformat_minor": 0,
  "metadata": {
    "colab": {
      "provenance": [],
      "include_colab_link": true
    },
    "kernelspec": {
      "name": "python3",
      "display_name": "Python 3"
    },
    "language_info": {
      "name": "python"
    },
    "widgets": {
      "application/vnd.jupyter.widget-state+json": {
        "2a5ad49ae85649ce8a9fbb0840ff9f87": {
          "model_module": "@jupyter-widgets/controls",
          "model_name": "HBoxModel",
          "model_module_version": "1.5.0",
          "state": {
            "_dom_classes": [],
            "_model_module": "@jupyter-widgets/controls",
            "_model_module_version": "1.5.0",
            "_model_name": "HBoxModel",
            "_view_count": null,
            "_view_module": "@jupyter-widgets/controls",
            "_view_module_version": "1.5.0",
            "_view_name": "HBoxView",
            "box_style": "",
            "children": [
              "IPY_MODEL_1faa7ca026254fc6af868ffeac05e89f",
              "IPY_MODEL_e306e9753b83413d9299ce912c6bd6c2",
              "IPY_MODEL_8297bf5c8bf547dba8df1a726176168f"
            ],
            "layout": "IPY_MODEL_7856411873bf450e98f94ad2a040940f"
          }
        },
        "1faa7ca026254fc6af868ffeac05e89f": {
          "model_module": "@jupyter-widgets/controls",
          "model_name": "HTMLModel",
          "model_module_version": "1.5.0",
          "state": {
            "_dom_classes": [],
            "_model_module": "@jupyter-widgets/controls",
            "_model_module_version": "1.5.0",
            "_model_name": "HTMLModel",
            "_view_count": null,
            "_view_module": "@jupyter-widgets/controls",
            "_view_module_version": "1.5.0",
            "_view_name": "HTMLView",
            "description": "",
            "description_tooltip": null,
            "layout": "IPY_MODEL_1c0d49d9bb5546e5a8b82c10c4eb0d48",
            "placeholder": "​",
            "style": "IPY_MODEL_2618aac430e341ed98a333fffc11621a",
            "value": "tokenizer_config.json: 100%"
          }
        },
        "e306e9753b83413d9299ce912c6bd6c2": {
          "model_module": "@jupyter-widgets/controls",
          "model_name": "FloatProgressModel",
          "model_module_version": "1.5.0",
          "state": {
            "_dom_classes": [],
            "_model_module": "@jupyter-widgets/controls",
            "_model_module_version": "1.5.0",
            "_model_name": "FloatProgressModel",
            "_view_count": null,
            "_view_module": "@jupyter-widgets/controls",
            "_view_module_version": "1.5.0",
            "_view_name": "ProgressView",
            "bar_style": "success",
            "description": "",
            "description_tooltip": null,
            "layout": "IPY_MODEL_f1835226e0e246068341f9f443857164",
            "max": 48,
            "min": 0,
            "orientation": "horizontal",
            "style": "IPY_MODEL_482c9a4303194a789ae0c4c6b18d68ef",
            "value": 48
          }
        },
        "8297bf5c8bf547dba8df1a726176168f": {
          "model_module": "@jupyter-widgets/controls",
          "model_name": "HTMLModel",
          "model_module_version": "1.5.0",
          "state": {
            "_dom_classes": [],
            "_model_module": "@jupyter-widgets/controls",
            "_model_module_version": "1.5.0",
            "_model_name": "HTMLModel",
            "_view_count": null,
            "_view_module": "@jupyter-widgets/controls",
            "_view_module_version": "1.5.0",
            "_view_name": "HTMLView",
            "description": "",
            "description_tooltip": null,
            "layout": "IPY_MODEL_99c2d54e66c34200afef9f890e5087dc",
            "placeholder": "​",
            "style": "IPY_MODEL_70a5dd7dd35146778dacea4fb2b4c82b",
            "value": " 48.0/48.0 [00:00&lt;00:00, 1.83kB/s]"
          }
        },
        "7856411873bf450e98f94ad2a040940f": {
          "model_module": "@jupyter-widgets/base",
          "model_name": "LayoutModel",
          "model_module_version": "1.2.0",
          "state": {
            "_model_module": "@jupyter-widgets/base",
            "_model_module_version": "1.2.0",
            "_model_name": "LayoutModel",
            "_view_count": null,
            "_view_module": "@jupyter-widgets/base",
            "_view_module_version": "1.2.0",
            "_view_name": "LayoutView",
            "align_content": null,
            "align_items": null,
            "align_self": null,
            "border": null,
            "bottom": null,
            "display": null,
            "flex": null,
            "flex_flow": null,
            "grid_area": null,
            "grid_auto_columns": null,
            "grid_auto_flow": null,
            "grid_auto_rows": null,
            "grid_column": null,
            "grid_gap": null,
            "grid_row": null,
            "grid_template_areas": null,
            "grid_template_columns": null,
            "grid_template_rows": null,
            "height": null,
            "justify_content": null,
            "justify_items": null,
            "left": null,
            "margin": null,
            "max_height": null,
            "max_width": null,
            "min_height": null,
            "min_width": null,
            "object_fit": null,
            "object_position": null,
            "order": null,
            "overflow": null,
            "overflow_x": null,
            "overflow_y": null,
            "padding": null,
            "right": null,
            "top": null,
            "visibility": null,
            "width": null
          }
        },
        "1c0d49d9bb5546e5a8b82c10c4eb0d48": {
          "model_module": "@jupyter-widgets/base",
          "model_name": "LayoutModel",
          "model_module_version": "1.2.0",
          "state": {
            "_model_module": "@jupyter-widgets/base",
            "_model_module_version": "1.2.0",
            "_model_name": "LayoutModel",
            "_view_count": null,
            "_view_module": "@jupyter-widgets/base",
            "_view_module_version": "1.2.0",
            "_view_name": "LayoutView",
            "align_content": null,
            "align_items": null,
            "align_self": null,
            "border": null,
            "bottom": null,
            "display": null,
            "flex": null,
            "flex_flow": null,
            "grid_area": null,
            "grid_auto_columns": null,
            "grid_auto_flow": null,
            "grid_auto_rows": null,
            "grid_column": null,
            "grid_gap": null,
            "grid_row": null,
            "grid_template_areas": null,
            "grid_template_columns": null,
            "grid_template_rows": null,
            "height": null,
            "justify_content": null,
            "justify_items": null,
            "left": null,
            "margin": null,
            "max_height": null,
            "max_width": null,
            "min_height": null,
            "min_width": null,
            "object_fit": null,
            "object_position": null,
            "order": null,
            "overflow": null,
            "overflow_x": null,
            "overflow_y": null,
            "padding": null,
            "right": null,
            "top": null,
            "visibility": null,
            "width": null
          }
        },
        "2618aac430e341ed98a333fffc11621a": {
          "model_module": "@jupyter-widgets/controls",
          "model_name": "DescriptionStyleModel",
          "model_module_version": "1.5.0",
          "state": {
            "_model_module": "@jupyter-widgets/controls",
            "_model_module_version": "1.5.0",
            "_model_name": "DescriptionStyleModel",
            "_view_count": null,
            "_view_module": "@jupyter-widgets/base",
            "_view_module_version": "1.2.0",
            "_view_name": "StyleView",
            "description_width": ""
          }
        },
        "f1835226e0e246068341f9f443857164": {
          "model_module": "@jupyter-widgets/base",
          "model_name": "LayoutModel",
          "model_module_version": "1.2.0",
          "state": {
            "_model_module": "@jupyter-widgets/base",
            "_model_module_version": "1.2.0",
            "_model_name": "LayoutModel",
            "_view_count": null,
            "_view_module": "@jupyter-widgets/base",
            "_view_module_version": "1.2.0",
            "_view_name": "LayoutView",
            "align_content": null,
            "align_items": null,
            "align_self": null,
            "border": null,
            "bottom": null,
            "display": null,
            "flex": null,
            "flex_flow": null,
            "grid_area": null,
            "grid_auto_columns": null,
            "grid_auto_flow": null,
            "grid_auto_rows": null,
            "grid_column": null,
            "grid_gap": null,
            "grid_row": null,
            "grid_template_areas": null,
            "grid_template_columns": null,
            "grid_template_rows": null,
            "height": null,
            "justify_content": null,
            "justify_items": null,
            "left": null,
            "margin": null,
            "max_height": null,
            "max_width": null,
            "min_height": null,
            "min_width": null,
            "object_fit": null,
            "object_position": null,
            "order": null,
            "overflow": null,
            "overflow_x": null,
            "overflow_y": null,
            "padding": null,
            "right": null,
            "top": null,
            "visibility": null,
            "width": null
          }
        },
        "482c9a4303194a789ae0c4c6b18d68ef": {
          "model_module": "@jupyter-widgets/controls",
          "model_name": "ProgressStyleModel",
          "model_module_version": "1.5.0",
          "state": {
            "_model_module": "@jupyter-widgets/controls",
            "_model_module_version": "1.5.0",
            "_model_name": "ProgressStyleModel",
            "_view_count": null,
            "_view_module": "@jupyter-widgets/base",
            "_view_module_version": "1.2.0",
            "_view_name": "StyleView",
            "bar_color": null,
            "description_width": ""
          }
        },
        "99c2d54e66c34200afef9f890e5087dc": {
          "model_module": "@jupyter-widgets/base",
          "model_name": "LayoutModel",
          "model_module_version": "1.2.0",
          "state": {
            "_model_module": "@jupyter-widgets/base",
            "_model_module_version": "1.2.0",
            "_model_name": "LayoutModel",
            "_view_count": null,
            "_view_module": "@jupyter-widgets/base",
            "_view_module_version": "1.2.0",
            "_view_name": "LayoutView",
            "align_content": null,
            "align_items": null,
            "align_self": null,
            "border": null,
            "bottom": null,
            "display": null,
            "flex": null,
            "flex_flow": null,
            "grid_area": null,
            "grid_auto_columns": null,
            "grid_auto_flow": null,
            "grid_auto_rows": null,
            "grid_column": null,
            "grid_gap": null,
            "grid_row": null,
            "grid_template_areas": null,
            "grid_template_columns": null,
            "grid_template_rows": null,
            "height": null,
            "justify_content": null,
            "justify_items": null,
            "left": null,
            "margin": null,
            "max_height": null,
            "max_width": null,
            "min_height": null,
            "min_width": null,
            "object_fit": null,
            "object_position": null,
            "order": null,
            "overflow": null,
            "overflow_x": null,
            "overflow_y": null,
            "padding": null,
            "right": null,
            "top": null,
            "visibility": null,
            "width": null
          }
        },
        "70a5dd7dd35146778dacea4fb2b4c82b": {
          "model_module": "@jupyter-widgets/controls",
          "model_name": "DescriptionStyleModel",
          "model_module_version": "1.5.0",
          "state": {
            "_model_module": "@jupyter-widgets/controls",
            "_model_module_version": "1.5.0",
            "_model_name": "DescriptionStyleModel",
            "_view_count": null,
            "_view_module": "@jupyter-widgets/base",
            "_view_module_version": "1.2.0",
            "_view_name": "StyleView",
            "description_width": ""
          }
        },
        "27df55032dd74cf890ead92cac69c5bf": {
          "model_module": "@jupyter-widgets/controls",
          "model_name": "HBoxModel",
          "model_module_version": "1.5.0",
          "state": {
            "_dom_classes": [],
            "_model_module": "@jupyter-widgets/controls",
            "_model_module_version": "1.5.0",
            "_model_name": "HBoxModel",
            "_view_count": null,
            "_view_module": "@jupyter-widgets/controls",
            "_view_module_version": "1.5.0",
            "_view_name": "HBoxView",
            "box_style": "",
            "children": [
              "IPY_MODEL_fff80fafcd2340eb891818cac6bb9b16",
              "IPY_MODEL_911c8e0cdda44605a2e2483ada9aebe5",
              "IPY_MODEL_f048468d54164f7ca63488b56b71b638"
            ],
            "layout": "IPY_MODEL_a8865a3978ad490488d3bf72efdab09e"
          }
        },
        "fff80fafcd2340eb891818cac6bb9b16": {
          "model_module": "@jupyter-widgets/controls",
          "model_name": "HTMLModel",
          "model_module_version": "1.5.0",
          "state": {
            "_dom_classes": [],
            "_model_module": "@jupyter-widgets/controls",
            "_model_module_version": "1.5.0",
            "_model_name": "HTMLModel",
            "_view_count": null,
            "_view_module": "@jupyter-widgets/controls",
            "_view_module_version": "1.5.0",
            "_view_name": "HTMLView",
            "description": "",
            "description_tooltip": null,
            "layout": "IPY_MODEL_fc7a13fd800d4ad6a6d3ac2ad5635ebb",
            "placeholder": "​",
            "style": "IPY_MODEL_f0bdf185eec54eac99882c9a7e6f1547",
            "value": "config.json: 100%"
          }
        },
        "911c8e0cdda44605a2e2483ada9aebe5": {
          "model_module": "@jupyter-widgets/controls",
          "model_name": "FloatProgressModel",
          "model_module_version": "1.5.0",
          "state": {
            "_dom_classes": [],
            "_model_module": "@jupyter-widgets/controls",
            "_model_module_version": "1.5.0",
            "_model_name": "FloatProgressModel",
            "_view_count": null,
            "_view_module": "@jupyter-widgets/controls",
            "_view_module_version": "1.5.0",
            "_view_name": "ProgressView",
            "bar_style": "success",
            "description": "",
            "description_tooltip": null,
            "layout": "IPY_MODEL_1507cadfe5a94ad5940870f01a4471d7",
            "max": 629,
            "min": 0,
            "orientation": "horizontal",
            "style": "IPY_MODEL_d533659ba4a2435fb638a4336024fc1a",
            "value": 629
          }
        },
        "f048468d54164f7ca63488b56b71b638": {
          "model_module": "@jupyter-widgets/controls",
          "model_name": "HTMLModel",
          "model_module_version": "1.5.0",
          "state": {
            "_dom_classes": [],
            "_model_module": "@jupyter-widgets/controls",
            "_model_module_version": "1.5.0",
            "_model_name": "HTMLModel",
            "_view_count": null,
            "_view_module": "@jupyter-widgets/controls",
            "_view_module_version": "1.5.0",
            "_view_name": "HTMLView",
            "description": "",
            "description_tooltip": null,
            "layout": "IPY_MODEL_f5d872d412604c80a0f17452ff20402e",
            "placeholder": "​",
            "style": "IPY_MODEL_29573b894c2745aeaaf84afd00e217b5",
            "value": " 629/629 [00:00&lt;00:00, 17.5kB/s]"
          }
        },
        "a8865a3978ad490488d3bf72efdab09e": {
          "model_module": "@jupyter-widgets/base",
          "model_name": "LayoutModel",
          "model_module_version": "1.2.0",
          "state": {
            "_model_module": "@jupyter-widgets/base",
            "_model_module_version": "1.2.0",
            "_model_name": "LayoutModel",
            "_view_count": null,
            "_view_module": "@jupyter-widgets/base",
            "_view_module_version": "1.2.0",
            "_view_name": "LayoutView",
            "align_content": null,
            "align_items": null,
            "align_self": null,
            "border": null,
            "bottom": null,
            "display": null,
            "flex": null,
            "flex_flow": null,
            "grid_area": null,
            "grid_auto_columns": null,
            "grid_auto_flow": null,
            "grid_auto_rows": null,
            "grid_column": null,
            "grid_gap": null,
            "grid_row": null,
            "grid_template_areas": null,
            "grid_template_columns": null,
            "grid_template_rows": null,
            "height": null,
            "justify_content": null,
            "justify_items": null,
            "left": null,
            "margin": null,
            "max_height": null,
            "max_width": null,
            "min_height": null,
            "min_width": null,
            "object_fit": null,
            "object_position": null,
            "order": null,
            "overflow": null,
            "overflow_x": null,
            "overflow_y": null,
            "padding": null,
            "right": null,
            "top": null,
            "visibility": null,
            "width": null
          }
        },
        "fc7a13fd800d4ad6a6d3ac2ad5635ebb": {
          "model_module": "@jupyter-widgets/base",
          "model_name": "LayoutModel",
          "model_module_version": "1.2.0",
          "state": {
            "_model_module": "@jupyter-widgets/base",
            "_model_module_version": "1.2.0",
            "_model_name": "LayoutModel",
            "_view_count": null,
            "_view_module": "@jupyter-widgets/base",
            "_view_module_version": "1.2.0",
            "_view_name": "LayoutView",
            "align_content": null,
            "align_items": null,
            "align_self": null,
            "border": null,
            "bottom": null,
            "display": null,
            "flex": null,
            "flex_flow": null,
            "grid_area": null,
            "grid_auto_columns": null,
            "grid_auto_flow": null,
            "grid_auto_rows": null,
            "grid_column": null,
            "grid_gap": null,
            "grid_row": null,
            "grid_template_areas": null,
            "grid_template_columns": null,
            "grid_template_rows": null,
            "height": null,
            "justify_content": null,
            "justify_items": null,
            "left": null,
            "margin": null,
            "max_height": null,
            "max_width": null,
            "min_height": null,
            "min_width": null,
            "object_fit": null,
            "object_position": null,
            "order": null,
            "overflow": null,
            "overflow_x": null,
            "overflow_y": null,
            "padding": null,
            "right": null,
            "top": null,
            "visibility": null,
            "width": null
          }
        },
        "f0bdf185eec54eac99882c9a7e6f1547": {
          "model_module": "@jupyter-widgets/controls",
          "model_name": "DescriptionStyleModel",
          "model_module_version": "1.5.0",
          "state": {
            "_model_module": "@jupyter-widgets/controls",
            "_model_module_version": "1.5.0",
            "_model_name": "DescriptionStyleModel",
            "_view_count": null,
            "_view_module": "@jupyter-widgets/base",
            "_view_module_version": "1.2.0",
            "_view_name": "StyleView",
            "description_width": ""
          }
        },
        "1507cadfe5a94ad5940870f01a4471d7": {
          "model_module": "@jupyter-widgets/base",
          "model_name": "LayoutModel",
          "model_module_version": "1.2.0",
          "state": {
            "_model_module": "@jupyter-widgets/base",
            "_model_module_version": "1.2.0",
            "_model_name": "LayoutModel",
            "_view_count": null,
            "_view_module": "@jupyter-widgets/base",
            "_view_module_version": "1.2.0",
            "_view_name": "LayoutView",
            "align_content": null,
            "align_items": null,
            "align_self": null,
            "border": null,
            "bottom": null,
            "display": null,
            "flex": null,
            "flex_flow": null,
            "grid_area": null,
            "grid_auto_columns": null,
            "grid_auto_flow": null,
            "grid_auto_rows": null,
            "grid_column": null,
            "grid_gap": null,
            "grid_row": null,
            "grid_template_areas": null,
            "grid_template_columns": null,
            "grid_template_rows": null,
            "height": null,
            "justify_content": null,
            "justify_items": null,
            "left": null,
            "margin": null,
            "max_height": null,
            "max_width": null,
            "min_height": null,
            "min_width": null,
            "object_fit": null,
            "object_position": null,
            "order": null,
            "overflow": null,
            "overflow_x": null,
            "overflow_y": null,
            "padding": null,
            "right": null,
            "top": null,
            "visibility": null,
            "width": null
          }
        },
        "d533659ba4a2435fb638a4336024fc1a": {
          "model_module": "@jupyter-widgets/controls",
          "model_name": "ProgressStyleModel",
          "model_module_version": "1.5.0",
          "state": {
            "_model_module": "@jupyter-widgets/controls",
            "_model_module_version": "1.5.0",
            "_model_name": "ProgressStyleModel",
            "_view_count": null,
            "_view_module": "@jupyter-widgets/base",
            "_view_module_version": "1.2.0",
            "_view_name": "StyleView",
            "bar_color": null,
            "description_width": ""
          }
        },
        "f5d872d412604c80a0f17452ff20402e": {
          "model_module": "@jupyter-widgets/base",
          "model_name": "LayoutModel",
          "model_module_version": "1.2.0",
          "state": {
            "_model_module": "@jupyter-widgets/base",
            "_model_module_version": "1.2.0",
            "_model_name": "LayoutModel",
            "_view_count": null,
            "_view_module": "@jupyter-widgets/base",
            "_view_module_version": "1.2.0",
            "_view_name": "LayoutView",
            "align_content": null,
            "align_items": null,
            "align_self": null,
            "border": null,
            "bottom": null,
            "display": null,
            "flex": null,
            "flex_flow": null,
            "grid_area": null,
            "grid_auto_columns": null,
            "grid_auto_flow": null,
            "grid_auto_rows": null,
            "grid_column": null,
            "grid_gap": null,
            "grid_row": null,
            "grid_template_areas": null,
            "grid_template_columns": null,
            "grid_template_rows": null,
            "height": null,
            "justify_content": null,
            "justify_items": null,
            "left": null,
            "margin": null,
            "max_height": null,
            "max_width": null,
            "min_height": null,
            "min_width": null,
            "object_fit": null,
            "object_position": null,
            "order": null,
            "overflow": null,
            "overflow_x": null,
            "overflow_y": null,
            "padding": null,
            "right": null,
            "top": null,
            "visibility": null,
            "width": null
          }
        },
        "29573b894c2745aeaaf84afd00e217b5": {
          "model_module": "@jupyter-widgets/controls",
          "model_name": "DescriptionStyleModel",
          "model_module_version": "1.5.0",
          "state": {
            "_model_module": "@jupyter-widgets/controls",
            "_model_module_version": "1.5.0",
            "_model_name": "DescriptionStyleModel",
            "_view_count": null,
            "_view_module": "@jupyter-widgets/base",
            "_view_module_version": "1.2.0",
            "_view_name": "StyleView",
            "description_width": ""
          }
        },
        "7237548e4aea4ff6b6a6b8308ca83e1b": {
          "model_module": "@jupyter-widgets/controls",
          "model_name": "HBoxModel",
          "model_module_version": "1.5.0",
          "state": {
            "_dom_classes": [],
            "_model_module": "@jupyter-widgets/controls",
            "_model_module_version": "1.5.0",
            "_model_name": "HBoxModel",
            "_view_count": null,
            "_view_module": "@jupyter-widgets/controls",
            "_view_module_version": "1.5.0",
            "_view_name": "HBoxView",
            "box_style": "",
            "children": [
              "IPY_MODEL_3143fd58372e41918b6fcc4b16777ea3",
              "IPY_MODEL_c59c01c5dbd9463e998c2bd221153850",
              "IPY_MODEL_e786bb897fcd4429bd640ad0444cf4cd"
            ],
            "layout": "IPY_MODEL_8e31839cb1184ba4af594bd5c025fce0"
          }
        },
        "3143fd58372e41918b6fcc4b16777ea3": {
          "model_module": "@jupyter-widgets/controls",
          "model_name": "HTMLModel",
          "model_module_version": "1.5.0",
          "state": {
            "_dom_classes": [],
            "_model_module": "@jupyter-widgets/controls",
            "_model_module_version": "1.5.0",
            "_model_name": "HTMLModel",
            "_view_count": null,
            "_view_module": "@jupyter-widgets/controls",
            "_view_module_version": "1.5.0",
            "_view_name": "HTMLView",
            "description": "",
            "description_tooltip": null,
            "layout": "IPY_MODEL_10f345ec7d12427bb9e5ee672c19eccc",
            "placeholder": "​",
            "style": "IPY_MODEL_7d76657d10834bafa9c19933a1c73bb1",
            "value": "vocab.txt: 100%"
          }
        },
        "c59c01c5dbd9463e998c2bd221153850": {
          "model_module": "@jupyter-widgets/controls",
          "model_name": "FloatProgressModel",
          "model_module_version": "1.5.0",
          "state": {
            "_dom_classes": [],
            "_model_module": "@jupyter-widgets/controls",
            "_model_module_version": "1.5.0",
            "_model_name": "FloatProgressModel",
            "_view_count": null,
            "_view_module": "@jupyter-widgets/controls",
            "_view_module_version": "1.5.0",
            "_view_name": "ProgressView",
            "bar_style": "success",
            "description": "",
            "description_tooltip": null,
            "layout": "IPY_MODEL_f5f233c139ed4321b5f67f7ba45ee84a",
            "max": 231508,
            "min": 0,
            "orientation": "horizontal",
            "style": "IPY_MODEL_e19c54033d0442c29fd5f6243a9a2bc3",
            "value": 231508
          }
        },
        "e786bb897fcd4429bd640ad0444cf4cd": {
          "model_module": "@jupyter-widgets/controls",
          "model_name": "HTMLModel",
          "model_module_version": "1.5.0",
          "state": {
            "_dom_classes": [],
            "_model_module": "@jupyter-widgets/controls",
            "_model_module_version": "1.5.0",
            "_model_name": "HTMLModel",
            "_view_count": null,
            "_view_module": "@jupyter-widgets/controls",
            "_view_module_version": "1.5.0",
            "_view_name": "HTMLView",
            "description": "",
            "description_tooltip": null,
            "layout": "IPY_MODEL_ad560e1b03414c16b1b5916c362a138d",
            "placeholder": "​",
            "style": "IPY_MODEL_a4673e737c4e41bda3935f33e49ae815",
            "value": " 232k/232k [00:00&lt;00:00, 2.71MB/s]"
          }
        },
        "8e31839cb1184ba4af594bd5c025fce0": {
          "model_module": "@jupyter-widgets/base",
          "model_name": "LayoutModel",
          "model_module_version": "1.2.0",
          "state": {
            "_model_module": "@jupyter-widgets/base",
            "_model_module_version": "1.2.0",
            "_model_name": "LayoutModel",
            "_view_count": null,
            "_view_module": "@jupyter-widgets/base",
            "_view_module_version": "1.2.0",
            "_view_name": "LayoutView",
            "align_content": null,
            "align_items": null,
            "align_self": null,
            "border": null,
            "bottom": null,
            "display": null,
            "flex": null,
            "flex_flow": null,
            "grid_area": null,
            "grid_auto_columns": null,
            "grid_auto_flow": null,
            "grid_auto_rows": null,
            "grid_column": null,
            "grid_gap": null,
            "grid_row": null,
            "grid_template_areas": null,
            "grid_template_columns": null,
            "grid_template_rows": null,
            "height": null,
            "justify_content": null,
            "justify_items": null,
            "left": null,
            "margin": null,
            "max_height": null,
            "max_width": null,
            "min_height": null,
            "min_width": null,
            "object_fit": null,
            "object_position": null,
            "order": null,
            "overflow": null,
            "overflow_x": null,
            "overflow_y": null,
            "padding": null,
            "right": null,
            "top": null,
            "visibility": null,
            "width": null
          }
        },
        "10f345ec7d12427bb9e5ee672c19eccc": {
          "model_module": "@jupyter-widgets/base",
          "model_name": "LayoutModel",
          "model_module_version": "1.2.0",
          "state": {
            "_model_module": "@jupyter-widgets/base",
            "_model_module_version": "1.2.0",
            "_model_name": "LayoutModel",
            "_view_count": null,
            "_view_module": "@jupyter-widgets/base",
            "_view_module_version": "1.2.0",
            "_view_name": "LayoutView",
            "align_content": null,
            "align_items": null,
            "align_self": null,
            "border": null,
            "bottom": null,
            "display": null,
            "flex": null,
            "flex_flow": null,
            "grid_area": null,
            "grid_auto_columns": null,
            "grid_auto_flow": null,
            "grid_auto_rows": null,
            "grid_column": null,
            "grid_gap": null,
            "grid_row": null,
            "grid_template_areas": null,
            "grid_template_columns": null,
            "grid_template_rows": null,
            "height": null,
            "justify_content": null,
            "justify_items": null,
            "left": null,
            "margin": null,
            "max_height": null,
            "max_width": null,
            "min_height": null,
            "min_width": null,
            "object_fit": null,
            "object_position": null,
            "order": null,
            "overflow": null,
            "overflow_x": null,
            "overflow_y": null,
            "padding": null,
            "right": null,
            "top": null,
            "visibility": null,
            "width": null
          }
        },
        "7d76657d10834bafa9c19933a1c73bb1": {
          "model_module": "@jupyter-widgets/controls",
          "model_name": "DescriptionStyleModel",
          "model_module_version": "1.5.0",
          "state": {
            "_model_module": "@jupyter-widgets/controls",
            "_model_module_version": "1.5.0",
            "_model_name": "DescriptionStyleModel",
            "_view_count": null,
            "_view_module": "@jupyter-widgets/base",
            "_view_module_version": "1.2.0",
            "_view_name": "StyleView",
            "description_width": ""
          }
        },
        "f5f233c139ed4321b5f67f7ba45ee84a": {
          "model_module": "@jupyter-widgets/base",
          "model_name": "LayoutModel",
          "model_module_version": "1.2.0",
          "state": {
            "_model_module": "@jupyter-widgets/base",
            "_model_module_version": "1.2.0",
            "_model_name": "LayoutModel",
            "_view_count": null,
            "_view_module": "@jupyter-widgets/base",
            "_view_module_version": "1.2.0",
            "_view_name": "LayoutView",
            "align_content": null,
            "align_items": null,
            "align_self": null,
            "border": null,
            "bottom": null,
            "display": null,
            "flex": null,
            "flex_flow": null,
            "grid_area": null,
            "grid_auto_columns": null,
            "grid_auto_flow": null,
            "grid_auto_rows": null,
            "grid_column": null,
            "grid_gap": null,
            "grid_row": null,
            "grid_template_areas": null,
            "grid_template_columns": null,
            "grid_template_rows": null,
            "height": null,
            "justify_content": null,
            "justify_items": null,
            "left": null,
            "margin": null,
            "max_height": null,
            "max_width": null,
            "min_height": null,
            "min_width": null,
            "object_fit": null,
            "object_position": null,
            "order": null,
            "overflow": null,
            "overflow_x": null,
            "overflow_y": null,
            "padding": null,
            "right": null,
            "top": null,
            "visibility": null,
            "width": null
          }
        },
        "e19c54033d0442c29fd5f6243a9a2bc3": {
          "model_module": "@jupyter-widgets/controls",
          "model_name": "ProgressStyleModel",
          "model_module_version": "1.5.0",
          "state": {
            "_model_module": "@jupyter-widgets/controls",
            "_model_module_version": "1.5.0",
            "_model_name": "ProgressStyleModel",
            "_view_count": null,
            "_view_module": "@jupyter-widgets/base",
            "_view_module_version": "1.2.0",
            "_view_name": "StyleView",
            "bar_color": null,
            "description_width": ""
          }
        },
        "ad560e1b03414c16b1b5916c362a138d": {
          "model_module": "@jupyter-widgets/base",
          "model_name": "LayoutModel",
          "model_module_version": "1.2.0",
          "state": {
            "_model_module": "@jupyter-widgets/base",
            "_model_module_version": "1.2.0",
            "_model_name": "LayoutModel",
            "_view_count": null,
            "_view_module": "@jupyter-widgets/base",
            "_view_module_version": "1.2.0",
            "_view_name": "LayoutView",
            "align_content": null,
            "align_items": null,
            "align_self": null,
            "border": null,
            "bottom": null,
            "display": null,
            "flex": null,
            "flex_flow": null,
            "grid_area": null,
            "grid_auto_columns": null,
            "grid_auto_flow": null,
            "grid_auto_rows": null,
            "grid_column": null,
            "grid_gap": null,
            "grid_row": null,
            "grid_template_areas": null,
            "grid_template_columns": null,
            "grid_template_rows": null,
            "height": null,
            "justify_content": null,
            "justify_items": null,
            "left": null,
            "margin": null,
            "max_height": null,
            "max_width": null,
            "min_height": null,
            "min_width": null,
            "object_fit": null,
            "object_position": null,
            "order": null,
            "overflow": null,
            "overflow_x": null,
            "overflow_y": null,
            "padding": null,
            "right": null,
            "top": null,
            "visibility": null,
            "width": null
          }
        },
        "a4673e737c4e41bda3935f33e49ae815": {
          "model_module": "@jupyter-widgets/controls",
          "model_name": "DescriptionStyleModel",
          "model_module_version": "1.5.0",
          "state": {
            "_model_module": "@jupyter-widgets/controls",
            "_model_module_version": "1.5.0",
            "_model_name": "DescriptionStyleModel",
            "_view_count": null,
            "_view_module": "@jupyter-widgets/base",
            "_view_module_version": "1.2.0",
            "_view_name": "StyleView",
            "description_width": ""
          }
        },
        "4245bb4471fb4f2a9f84bf947160298c": {
          "model_module": "@jupyter-widgets/controls",
          "model_name": "HBoxModel",
          "model_module_version": "1.5.0",
          "state": {
            "_dom_classes": [],
            "_model_module": "@jupyter-widgets/controls",
            "_model_module_version": "1.5.0",
            "_model_name": "HBoxModel",
            "_view_count": null,
            "_view_module": "@jupyter-widgets/controls",
            "_view_module_version": "1.5.0",
            "_view_name": "HBoxView",
            "box_style": "",
            "children": [
              "IPY_MODEL_ca5ae67c4f9b4bad9066d70c2c30c8b1",
              "IPY_MODEL_9aa924c6ad7e4303bad50b91d79bda08",
              "IPY_MODEL_306001e893b948509d1989f6d85666b2"
            ],
            "layout": "IPY_MODEL_84800d9d4c5d489ea577d801accc8315"
          }
        },
        "ca5ae67c4f9b4bad9066d70c2c30c8b1": {
          "model_module": "@jupyter-widgets/controls",
          "model_name": "HTMLModel",
          "model_module_version": "1.5.0",
          "state": {
            "_dom_classes": [],
            "_model_module": "@jupyter-widgets/controls",
            "_model_module_version": "1.5.0",
            "_model_name": "HTMLModel",
            "_view_count": null,
            "_view_module": "@jupyter-widgets/controls",
            "_view_module_version": "1.5.0",
            "_view_name": "HTMLView",
            "description": "",
            "description_tooltip": null,
            "layout": "IPY_MODEL_b69e2a4862d54135b8240282dfa1f3da",
            "placeholder": "​",
            "style": "IPY_MODEL_b69d7b89d4874a019bf2e89be9547a2f",
            "value": "model.safetensors: 100%"
          }
        },
        "9aa924c6ad7e4303bad50b91d79bda08": {
          "model_module": "@jupyter-widgets/controls",
          "model_name": "FloatProgressModel",
          "model_module_version": "1.5.0",
          "state": {
            "_dom_classes": [],
            "_model_module": "@jupyter-widgets/controls",
            "_model_module_version": "1.5.0",
            "_model_name": "FloatProgressModel",
            "_view_count": null,
            "_view_module": "@jupyter-widgets/controls",
            "_view_module_version": "1.5.0",
            "_view_name": "ProgressView",
            "bar_style": "success",
            "description": "",
            "description_tooltip": null,
            "layout": "IPY_MODEL_c1bd8b68ccc54190840b0689a745610c",
            "max": 267832558,
            "min": 0,
            "orientation": "horizontal",
            "style": "IPY_MODEL_f1f28d712e0740008db3f96d4d59ef8e",
            "value": 267832558
          }
        },
        "306001e893b948509d1989f6d85666b2": {
          "model_module": "@jupyter-widgets/controls",
          "model_name": "HTMLModel",
          "model_module_version": "1.5.0",
          "state": {
            "_dom_classes": [],
            "_model_module": "@jupyter-widgets/controls",
            "_model_module_version": "1.5.0",
            "_model_name": "HTMLModel",
            "_view_count": null,
            "_view_module": "@jupyter-widgets/controls",
            "_view_module_version": "1.5.0",
            "_view_name": "HTMLView",
            "description": "",
            "description_tooltip": null,
            "layout": "IPY_MODEL_cf20cd8f9eb748feb20c09bd4d531ae3",
            "placeholder": "​",
            "style": "IPY_MODEL_52951aba2c5d47b8bf977fceab2d573f",
            "value": " 268M/268M [00:01&lt;00:00, 183MB/s]"
          }
        },
        "84800d9d4c5d489ea577d801accc8315": {
          "model_module": "@jupyter-widgets/base",
          "model_name": "LayoutModel",
          "model_module_version": "1.2.0",
          "state": {
            "_model_module": "@jupyter-widgets/base",
            "_model_module_version": "1.2.0",
            "_model_name": "LayoutModel",
            "_view_count": null,
            "_view_module": "@jupyter-widgets/base",
            "_view_module_version": "1.2.0",
            "_view_name": "LayoutView",
            "align_content": null,
            "align_items": null,
            "align_self": null,
            "border": null,
            "bottom": null,
            "display": null,
            "flex": null,
            "flex_flow": null,
            "grid_area": null,
            "grid_auto_columns": null,
            "grid_auto_flow": null,
            "grid_auto_rows": null,
            "grid_column": null,
            "grid_gap": null,
            "grid_row": null,
            "grid_template_areas": null,
            "grid_template_columns": null,
            "grid_template_rows": null,
            "height": null,
            "justify_content": null,
            "justify_items": null,
            "left": null,
            "margin": null,
            "max_height": null,
            "max_width": null,
            "min_height": null,
            "min_width": null,
            "object_fit": null,
            "object_position": null,
            "order": null,
            "overflow": null,
            "overflow_x": null,
            "overflow_y": null,
            "padding": null,
            "right": null,
            "top": null,
            "visibility": null,
            "width": null
          }
        },
        "b69e2a4862d54135b8240282dfa1f3da": {
          "model_module": "@jupyter-widgets/base",
          "model_name": "LayoutModel",
          "model_module_version": "1.2.0",
          "state": {
            "_model_module": "@jupyter-widgets/base",
            "_model_module_version": "1.2.0",
            "_model_name": "LayoutModel",
            "_view_count": null,
            "_view_module": "@jupyter-widgets/base",
            "_view_module_version": "1.2.0",
            "_view_name": "LayoutView",
            "align_content": null,
            "align_items": null,
            "align_self": null,
            "border": null,
            "bottom": null,
            "display": null,
            "flex": null,
            "flex_flow": null,
            "grid_area": null,
            "grid_auto_columns": null,
            "grid_auto_flow": null,
            "grid_auto_rows": null,
            "grid_column": null,
            "grid_gap": null,
            "grid_row": null,
            "grid_template_areas": null,
            "grid_template_columns": null,
            "grid_template_rows": null,
            "height": null,
            "justify_content": null,
            "justify_items": null,
            "left": null,
            "margin": null,
            "max_height": null,
            "max_width": null,
            "min_height": null,
            "min_width": null,
            "object_fit": null,
            "object_position": null,
            "order": null,
            "overflow": null,
            "overflow_x": null,
            "overflow_y": null,
            "padding": null,
            "right": null,
            "top": null,
            "visibility": null,
            "width": null
          }
        },
        "b69d7b89d4874a019bf2e89be9547a2f": {
          "model_module": "@jupyter-widgets/controls",
          "model_name": "DescriptionStyleModel",
          "model_module_version": "1.5.0",
          "state": {
            "_model_module": "@jupyter-widgets/controls",
            "_model_module_version": "1.5.0",
            "_model_name": "DescriptionStyleModel",
            "_view_count": null,
            "_view_module": "@jupyter-widgets/base",
            "_view_module_version": "1.2.0",
            "_view_name": "StyleView",
            "description_width": ""
          }
        },
        "c1bd8b68ccc54190840b0689a745610c": {
          "model_module": "@jupyter-widgets/base",
          "model_name": "LayoutModel",
          "model_module_version": "1.2.0",
          "state": {
            "_model_module": "@jupyter-widgets/base",
            "_model_module_version": "1.2.0",
            "_model_name": "LayoutModel",
            "_view_count": null,
            "_view_module": "@jupyter-widgets/base",
            "_view_module_version": "1.2.0",
            "_view_name": "LayoutView",
            "align_content": null,
            "align_items": null,
            "align_self": null,
            "border": null,
            "bottom": null,
            "display": null,
            "flex": null,
            "flex_flow": null,
            "grid_area": null,
            "grid_auto_columns": null,
            "grid_auto_flow": null,
            "grid_auto_rows": null,
            "grid_column": null,
            "grid_gap": null,
            "grid_row": null,
            "grid_template_areas": null,
            "grid_template_columns": null,
            "grid_template_rows": null,
            "height": null,
            "justify_content": null,
            "justify_items": null,
            "left": null,
            "margin": null,
            "max_height": null,
            "max_width": null,
            "min_height": null,
            "min_width": null,
            "object_fit": null,
            "object_position": null,
            "order": null,
            "overflow": null,
            "overflow_x": null,
            "overflow_y": null,
            "padding": null,
            "right": null,
            "top": null,
            "visibility": null,
            "width": null
          }
        },
        "f1f28d712e0740008db3f96d4d59ef8e": {
          "model_module": "@jupyter-widgets/controls",
          "model_name": "ProgressStyleModel",
          "model_module_version": "1.5.0",
          "state": {
            "_model_module": "@jupyter-widgets/controls",
            "_model_module_version": "1.5.0",
            "_model_name": "ProgressStyleModel",
            "_view_count": null,
            "_view_module": "@jupyter-widgets/base",
            "_view_module_version": "1.2.0",
            "_view_name": "StyleView",
            "bar_color": null,
            "description_width": ""
          }
        },
        "cf20cd8f9eb748feb20c09bd4d531ae3": {
          "model_module": "@jupyter-widgets/base",
          "model_name": "LayoutModel",
          "model_module_version": "1.2.0",
          "state": {
            "_model_module": "@jupyter-widgets/base",
            "_model_module_version": "1.2.0",
            "_model_name": "LayoutModel",
            "_view_count": null,
            "_view_module": "@jupyter-widgets/base",
            "_view_module_version": "1.2.0",
            "_view_name": "LayoutView",
            "align_content": null,
            "align_items": null,
            "align_self": null,
            "border": null,
            "bottom": null,
            "display": null,
            "flex": null,
            "flex_flow": null,
            "grid_area": null,
            "grid_auto_columns": null,
            "grid_auto_flow": null,
            "grid_auto_rows": null,
            "grid_column": null,
            "grid_gap": null,
            "grid_row": null,
            "grid_template_areas": null,
            "grid_template_columns": null,
            "grid_template_rows": null,
            "height": null,
            "justify_content": null,
            "justify_items": null,
            "left": null,
            "margin": null,
            "max_height": null,
            "max_width": null,
            "min_height": null,
            "min_width": null,
            "object_fit": null,
            "object_position": null,
            "order": null,
            "overflow": null,
            "overflow_x": null,
            "overflow_y": null,
            "padding": null,
            "right": null,
            "top": null,
            "visibility": null,
            "width": null
          }
        },
        "52951aba2c5d47b8bf977fceab2d573f": {
          "model_module": "@jupyter-widgets/controls",
          "model_name": "DescriptionStyleModel",
          "model_module_version": "1.5.0",
          "state": {
            "_model_module": "@jupyter-widgets/controls",
            "_model_module_version": "1.5.0",
            "_model_name": "DescriptionStyleModel",
            "_view_count": null,
            "_view_module": "@jupyter-widgets/base",
            "_view_module_version": "1.2.0",
            "_view_name": "StyleView",
            "description_width": ""
          }
        }
      }
    }
  },
  "cells": [
    {
      "cell_type": "markdown",
      "metadata": {
        "id": "view-in-github",
        "colab_type": "text"
      },
      "source": [
        "<a href=\"https://colab.research.google.com/github/Sanjeeviit/MLT/blob/main/Day_2_LLM_Workbook_LLM_Workshop_Jan_2025.ipynb\" target=\"_parent\"><img src=\"https://colab.research.google.com/assets/colab-badge.svg\" alt=\"Open In Colab\"/></a>"
      ]
    },
    {
      "cell_type": "markdown",
      "source": [
        "# Important components\n",
        "1. Dataset: for LLMs datasets come with billions to trillions of tokens. Hence pretraining/complete training of a large model is very expensive and time consuming.\n",
        "- Training is done in clusters, in distributed manner.\n",
        "- Trainer API (from HF): can automate training of large models over distributed resources.\n",
        "2. Finetuning: Even a pretrained model needs dataset that is used for fine tuning the model for a specific task/domain.\n",
        "\n",
        "2. Tokenize:\n",
        "- Normalization: upper cases to lower cases etc.\n",
        "- Pre-tonization: split the words\n",
        "- Tokenization algorithm:\n",
        "\n",
        "3. Transformer Model:\n",
        "- You may have task/problem that you would like to solve it quickly. This can be accomplished by downloading a model from HF and fine tuning it. HF has connected researchers and developers to share and use their solutions."
      ],
      "metadata": {
        "id": "9FZD_pnuet-y"
      }
    },
    {
      "cell_type": "markdown",
      "source": [
        "### Why PyTorch and HF?\n",
        "\n",
        "1. Pythonic\n",
        "2. Huge support from HF (https://huggingface.co/docs/transformers/en/index)\n",
        "3. Trainer API only supports PyTorch.\n",
        "4. Huge community support.\n"
      ],
      "metadata": {
        "id": "1uTzOwSO54Cq"
      }
    },
    {
      "cell_type": "markdown",
      "source": [
        "# Should I train a model from end to end?"
      ],
      "metadata": {
        "id": "TtRVoRoFRAvA"
      }
    },
    {
      "cell_type": "markdown",
      "source": [
        "GPT-3 paper: https://arxiv.org/pdf/2005.14165\n",
        "![image.png](data:image/png;base64,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)"
      ],
      "metadata": {
        "id": "og5f1_990YLK"
      }
    },
    {
      "cell_type": "code",
      "source": [
        "t5_small_model_compute = 1.8e20\n",
        "my_machine_compute = 0.1e12 # FLOPS=floating point operations per second\n",
        "# TFLOS = 10^12 FLOPS\n",
        "print(\"Days to train T5 Small\", t5_small_model_compute/(3600*24*my_machine_compute))\n",
        "print(\"Years to train T5 Small\", t5_small_model_compute/(3600*24*365*my_machine_compute))\n",
        "print(\"Centuries to train T5 Small\", t5_small_model_compute/(3600*24*365*100*my_machine_compute))"
      ],
      "metadata": {
        "colab": {
          "base_uri": "https://localhost:8080/"
        },
        "id": "I-d2GX1C3viY",
        "outputId": "12198e3a-38ee-4c38-829b-f73119602065"
      },
      "execution_count": null,
      "outputs": [
        {
          "output_type": "stream",
          "name": "stdout",
          "text": [
            "Days to train T5 Small 20833.333333333332\n",
            "Years to train T5 Small 57.077625570776256\n",
            "Centuries to train T5 Small 0.5707762557077626\n"
          ]
        }
      ]
    },
    {
      "cell_type": "markdown",
      "source": [
        "# Hugging Face Tour\n",
        "- Datasets\n",
        "- Models\n",
        "- Spaces\n",
        "- Paid services"
      ],
      "metadata": {
        "id": "6sRnRA3RZjCt"
      }
    },
    {
      "cell_type": "markdown",
      "source": [
        "# Import the modules"
      ],
      "metadata": {
        "id": "Md4sBbpL9EyO"
      }
    },
    {
      "cell_type": "code",
      "source": [
        "from pprint import pprint\n",
        "from transformers import AutoTokenizer, pipeline\n",
        "import transformers\n",
        "import torch"
      ],
      "metadata": {
        "id": "yOE_Nlh38FU0"
      },
      "execution_count": null,
      "outputs": []
    },
    {
      "cell_type": "markdown",
      "source": [
        "## Code Llama example"
      ],
      "metadata": {
        "id": "761ALKFebEKY"
      }
    },
    {
      "cell_type": "markdown",
      "source": [
        "#### A smple input"
      ],
      "metadata": {
        "id": "TCB2Dtay9PSp"
      }
    },
    {
      "cell_type": "code",
      "source": [
        "input_text = [\"India landed on the moon bringing great joy to the nation\",\n",
        "              \"I am not feeling well today\",\n",
        "              \"India has the most number of deaths in the world.\"]"
      ],
      "metadata": {
        "id": "TF9UQnW8A2Or"
      },
      "execution_count": null,
      "outputs": []
    },
    {
      "cell_type": "markdown",
      "source": [
        "#### Choose the model from HF hub"
      ],
      "metadata": {
        "id": "i1wdyu4a9nFL"
      }
    },
    {
      "cell_type": "code",
      "source": [
        "# model_checkpoint = \"distilbert-base-uncased\"\n",
        "model_checkpoint = \"distilbert-base-uncased-finetuned-sst-2-english\"\n",
        "tokenizer = AutoTokenizer.from_pretrained(model_checkpoint)"
      ],
      "metadata": {
        "id": "ACxKDsQgAoIK",
        "colab": {
          "base_uri": "https://localhost:8080/",
          "height": 240,
          "referenced_widgets": [
            "2a5ad49ae85649ce8a9fbb0840ff9f87",
            "1faa7ca026254fc6af868ffeac05e89f",
            "e306e9753b83413d9299ce912c6bd6c2",
            "8297bf5c8bf547dba8df1a726176168f",
            "7856411873bf450e98f94ad2a040940f",
            "1c0d49d9bb5546e5a8b82c10c4eb0d48",
            "2618aac430e341ed98a333fffc11621a",
            "f1835226e0e246068341f9f443857164",
            "482c9a4303194a789ae0c4c6b18d68ef",
            "99c2d54e66c34200afef9f890e5087dc",
            "70a5dd7dd35146778dacea4fb2b4c82b",
            "27df55032dd74cf890ead92cac69c5bf",
            "fff80fafcd2340eb891818cac6bb9b16",
            "911c8e0cdda44605a2e2483ada9aebe5",
            "f048468d54164f7ca63488b56b71b638",
            "a8865a3978ad490488d3bf72efdab09e",
            "fc7a13fd800d4ad6a6d3ac2ad5635ebb",
            "f0bdf185eec54eac99882c9a7e6f1547",
            "1507cadfe5a94ad5940870f01a4471d7",
            "d533659ba4a2435fb638a4336024fc1a",
            "f5d872d412604c80a0f17452ff20402e",
            "29573b894c2745aeaaf84afd00e217b5",
            "7237548e4aea4ff6b6a6b8308ca83e1b",
            "3143fd58372e41918b6fcc4b16777ea3",
            "c59c01c5dbd9463e998c2bd221153850",
            "e786bb897fcd4429bd640ad0444cf4cd",
            "8e31839cb1184ba4af594bd5c025fce0",
            "10f345ec7d12427bb9e5ee672c19eccc",
            "7d76657d10834bafa9c19933a1c73bb1",
            "f5f233c139ed4321b5f67f7ba45ee84a",
            "e19c54033d0442c29fd5f6243a9a2bc3",
            "ad560e1b03414c16b1b5916c362a138d",
            "a4673e737c4e41bda3935f33e49ae815"
          ]
        },
        "outputId": "ae2aac50-5ed7-4362-bc0a-8a338eb1cd9a"
      },
      "execution_count": null,
      "outputs": [
        {
          "output_type": "stream",
          "name": "stderr",
          "text": [
            "/usr/local/lib/python3.10/dist-packages/huggingface_hub/utils/_auth.py:94: UserWarning: \n",
            "The secret `HF_TOKEN` does not exist in your Colab secrets.\n",
            "To authenticate with the Hugging Face Hub, create a token in your settings tab (https://huggingface.co/settings/tokens), set it as secret in your Google Colab and restart your session.\n",
            "You will be able to reuse this secret in all of your notebooks.\n",
            "Please note that authentication is recommended but still optional to access public models or datasets.\n",
            "  warnings.warn(\n"
          ]
        },
        {
          "output_type": "display_data",
          "data": {
            "text/plain": [
              "tokenizer_config.json:   0%|          | 0.00/48.0 [00:00<?, ?B/s]"
            ],
            "application/vnd.jupyter.widget-view+json": {
              "version_major": 2,
              "version_minor": 0,
              "model_id": "2a5ad49ae85649ce8a9fbb0840ff9f87"
            }
          },
          "metadata": {}
        },
        {
          "output_type": "display_data",
          "data": {
            "text/plain": [
              "config.json:   0%|          | 0.00/629 [00:00<?, ?B/s]"
            ],
            "application/vnd.jupyter.widget-view+json": {
              "version_major": 2,
              "version_minor": 0,
              "model_id": "27df55032dd74cf890ead92cac69c5bf"
            }
          },
          "metadata": {}
        },
        {
          "output_type": "display_data",
          "data": {
            "text/plain": [
              "vocab.txt:   0%|          | 0.00/232k [00:00<?, ?B/s]"
            ],
            "application/vnd.jupyter.widget-view+json": {
              "version_major": 2,
              "version_minor": 0,
              "model_id": "7237548e4aea4ff6b6a6b8308ca83e1b"
            }
          },
          "metadata": {}
        }
      ]
    },
    {
      "cell_type": "markdown",
      "source": [
        "#### What is the vocab size?"
      ],
      "metadata": {
        "id": "YtEJlfaJUO9m"
      }
    },
    {
      "cell_type": "code",
      "source": [
        "tokenizer.vocab_size"
      ],
      "metadata": {
        "colab": {
          "base_uri": "https://localhost:8080/"
        },
        "id": "W3g6reqkURmx",
        "outputId": "481a27bf-fd2c-446c-978b-7f81aa4d4f15"
      },
      "execution_count": null,
      "outputs": [
        {
          "output_type": "execute_result",
          "data": {
            "text/plain": [
              "30522"
            ]
          },
          "metadata": {},
          "execution_count": 9
        }
      ]
    },
    {
      "cell_type": "code",
      "source": [
        "tokenizer.get_added_vocab()"
      ],
      "metadata": {
        "colab": {
          "base_uri": "https://localhost:8080/"
        },
        "id": "vIwtaBqDUfdQ",
        "outputId": "70dd2678-80a9-4179-e750-3b88a4aa3b27"
      },
      "execution_count": null,
      "outputs": [
        {
          "output_type": "execute_result",
          "data": {
            "text/plain": [
              "{'[PAD]': 0, '[UNK]': 100, '[CLS]': 101, '[SEP]': 102, '[MASK]': 103}"
            ]
          },
          "metadata": {},
          "execution_count": 10
        }
      ]
    },
    {
      "cell_type": "markdown",
      "source": [
        "##### Looking inside the downloaded files"
      ],
      "metadata": {
        "id": "mbruZZBrDvsb"
      }
    },
    {
      "cell_type": "code",
      "source": [
        "!ls -lah /"
      ],
      "metadata": {
        "colab": {
          "base_uri": "https://localhost:8080/"
        },
        "id": "PWdOT1a6BfCi",
        "outputId": "2f3c2dce-6879-46fe-d633-1c1798cd23ac"
      },
      "execution_count": null,
      "outputs": [
        {
          "output_type": "stream",
          "name": "stdout",
          "text": [
            "total 452K\n",
            "drwxr-xr-x   1 root root 4.0K Jan 11 15:06 .\n",
            "drwxr-xr-x   1 root root 4.0K Jan 11 15:06 ..\n",
            "lrwxrwxrwx   1 root root    7 Oct  4  2023 bin -> usr/bin\n",
            "drwxr-xr-x   2 root root 4.0K Apr 18  2022 boot\n",
            "drwxr-xr-x   1 root root 4.0K Jan  9 14:24 content\n",
            "-rw-r--r--   1 root root 4.3K Nov 10  2023 cuda-keyring_1.0-1_all.deb\n",
            "drwxr-xr-x   1 root root 4.0K Jan  9 14:36 datalab\n",
            "drwxr-xr-x   5 root root  360 Jan 11 15:06 dev\n",
            "-rwxr-xr-x   1 root root    0 Jan 11 15:06 .dockerenv\n",
            "drwxr-xr-x   1 root root 4.0K Jan 11 15:06 etc\n",
            "drwxr-xr-x   2 root root 4.0K Apr 18  2022 home\n",
            "lrwxrwxrwx   1 root root    7 Oct  4  2023 lib -> usr/lib\n",
            "lrwxrwxrwx   1 root root    9 Oct  4  2023 lib32 -> usr/lib32\n",
            "lrwxrwxrwx   1 root root    9 Oct  4  2023 lib64 -> usr/lib64\n",
            "lrwxrwxrwx   1 root root   10 Oct  4  2023 libx32 -> usr/libx32\n",
            "drwxr-xr-x   2 root root 4.0K Oct  4  2023 media\n",
            "drwxr-xr-x   2 root root 4.0K Oct  4  2023 mnt\n",
            "-rw-r--r--   1 root root  17K Nov 10  2023 NGC-DL-CONTAINER-LICENSE\n",
            "drwxr-xr-x   1 root root 4.0K Jan  9 14:52 opt\n",
            "dr-xr-xr-x 190 root root    0 Jan 11 15:06 proc\n",
            "drwxrwxr-x  14 root root 4.0K Jan  9 14:22 python-apt\n",
            "-r-xr-xr-x   1 root root 338K Jan  1  2000 python-apt.tar.xz\n",
            "drwx------   1 root root 4.0K Jan 11 15:06 root\n",
            "drwxr-xr-x   1 root root 4.0K Jan  9 14:16 run\n",
            "lrwxrwxrwx   1 root root    8 Oct  4  2023 sbin -> usr/sbin\n",
            "drwxr-xr-x   2 root root 4.0K Oct  4  2023 srv\n",
            "dr-xr-xr-x  13 root root    0 Jan 11 15:06 sys\n",
            "drwxrwxrwt   1 root root 4.0K Jan 11 15:15 tmp\n",
            "drwxr-xr-x   1 root root 4.0K Jan  9 14:35 tools\n",
            "drwxr-xr-x   1 root root 4.0K Jan  9 14:37 usr\n",
            "drwxr-xr-x   1 root root 4.0K Jan  9 14:36 var\n"
          ]
        }
      ]
    },
    {
      "cell_type": "code",
      "source": [
        "! find / -name \"vocab.txt\""
      ],
      "metadata": {
        "id": "t4LHKxu1CBVG"
      },
      "execution_count": null,
      "outputs": []
    },
    {
      "cell_type": "code",
      "source": [
        "!ls /root/.cache/huggingface/hub/models--distilbert-base-uncased-finetuned-sst-2-english/snapshots/714eb0fa89d2f80546fda750413ed43d93601a13/ -lh"
      ],
      "metadata": {
        "id": "M8PBG4uTDJJf"
      },
      "execution_count": null,
      "outputs": []
    },
    {
      "cell_type": "code",
      "source": [
        "!ls /root/.cache/huggingface/hub/models--distilbert-base-uncased-finetuned-sst-2-english/blobs -lh"
      ],
      "metadata": {
        "id": "qwU-lXfoCOtm"
      },
      "execution_count": null,
      "outputs": []
    },
    {
      "cell_type": "code",
      "source": [
        "!cat /root/.cache/huggingface/hub/models--distilbert-base-uncased-finetuned-sst-2-english/blobs/3ed34255a7cb8e6706a8bb21993836e99e7b959f"
      ],
      "metadata": {
        "id": "7UiwU8VJCtLT"
      },
      "execution_count": null,
      "outputs": []
    },
    {
      "cell_type": "code",
      "source": [
        "!head /root/.cache/huggingface/hub/models--distilbert-base-uncased-finetuned-sst-2-english/blobs/fb140275c155a9c7c5a3b3e0e77a9e839594a938"
      ],
      "metadata": {
        "id": "dwuM--sKEMP6"
      },
      "execution_count": null,
      "outputs": []
    },
    {
      "cell_type": "code",
      "source": [
        "!cat /root/.cache/huggingface/hub/models--distilbert-base-uncased-finetuned-sst-2-english/snapshots/714eb0fa89d2f80546fda750413ed43d93601a13/config.json"
      ],
      "metadata": {
        "id": "gwyd0SXBDrKK"
      },
      "execution_count": null,
      "outputs": []
    },
    {
      "cell_type": "markdown",
      "source": [
        "#### Tokenize the input"
      ],
      "metadata": {
        "id": "nT2aDMiAD7B6"
      }
    },
    {
      "cell_type": "code",
      "source": [
        "tokenized_text = tokenizer(input_text)\n",
        "pprint(tokenized_text)"
      ],
      "metadata": {
        "id": "JN8mQ_A1D-70"
      },
      "execution_count": null,
      "outputs": []
    },
    {
      "cell_type": "markdown",
      "source": [
        "##### Are there any special tokens?"
      ],
      "metadata": {
        "id": "GEny6PAuITxb"
      }
    },
    {
      "cell_type": "code",
      "source": [
        "print(tokenizer.convert_ids_to_tokens([101,102]))"
      ],
      "metadata": {
        "id": "YmilPNlJIW_x"
      },
      "execution_count": null,
      "outputs": []
    },
    {
      "cell_type": "code",
      "source": [
        "print(tokenizer.all_special_tokens)\n",
        "print(tokenizer.all_special_tokens_extended)"
      ],
      "metadata": {
        "id": "w7-YrDSpIqY4"
      },
      "execution_count": null,
      "outputs": []
    },
    {
      "cell_type": "markdown",
      "source": [
        "#### Get tokens from token ids of the input"
      ],
      "metadata": {
        "id": "BbXciW6HMrUW"
      }
    },
    {
      "cell_type": "code",
      "source": [
        "print(tokenizer.convert_ids_to_tokens(tokenized_text['input_ids'][2]))"
      ],
      "metadata": {
        "id": "ZNDMuC_8MwdE"
      },
      "execution_count": null,
      "outputs": []
    },
    {
      "cell_type": "markdown",
      "source": [
        "#### Is there any relation between token ids and vocab file?"
      ],
      "metadata": {
        "id": "gRbYJq04Nk5P"
      }
    },
    {
      "cell_type": "code",
      "source": [
        "import pandas as pd"
      ],
      "metadata": {
        "id": "mPPUaZTeMr__"
      },
      "execution_count": null,
      "outputs": []
    },
    {
      "cell_type": "code",
      "source": [
        "vocab_dict = pd.Series(open('/root/.cache/huggingface/hub/models--distilbert-base-uncased-finetuned-sst-2-english/blobs/fb140275c155a9c7c5a3b3e0e77a9e839594a938','r').readlines())"
      ],
      "metadata": {
        "id": "Ltf0rHJlTGyi"
      },
      "execution_count": null,
      "outputs": []
    },
    {
      "cell_type": "code",
      "source": [
        "# vocab_dict.index = range(1, len(vocab_dict)+1)"
      ],
      "metadata": {
        "id": "MdhQ1pSJT3-V"
      },
      "execution_count": null,
      "outputs": []
    },
    {
      "cell_type": "code",
      "source": [
        "vocab_dict[2634]"
      ],
      "metadata": {
        "id": "xK_1G1olF3hS"
      },
      "execution_count": null,
      "outputs": []
    },
    {
      "cell_type": "code",
      "source": [
        "vocab_dict[0]"
      ],
      "metadata": {
        "id": "6TyCWnV7IEUa"
      },
      "execution_count": null,
      "outputs": []
    },
    {
      "cell_type": "code",
      "source": [
        "vocab_dict[102]"
      ],
      "metadata": {
        "id": "auJHfhyTUA-L"
      },
      "execution_count": null,
      "outputs": []
    },
    {
      "cell_type": "code",
      "source": [
        "vocab_dict"
      ],
      "metadata": {
        "id": "xk2Cpt3dGkzt"
      },
      "execution_count": null,
      "outputs": []
    },
    {
      "cell_type": "markdown",
      "source": [
        "#### Can we pass the input token ids to a model? Is their type correct?"
      ],
      "metadata": {
        "id": "SzwsiGByUvb-"
      }
    },
    {
      "cell_type": "code",
      "source": [
        "tokenized_text = tokenizer(input_text, padding=True, return_tensors='pt')\n",
        "pprint(tokenized_text)"
      ],
      "metadata": {
        "id": "ZjmtNDipU-46"
      },
      "execution_count": null,
      "outputs": []
    },
    {
      "cell_type": "code",
      "source": [
        "tokenizer(['Pseudopseudohypoparathyroidism'])"
      ],
      "metadata": {
        "id": "OHjfjbNuHtSw"
      },
      "execution_count": null,
      "outputs": []
    },
    {
      "cell_type": "markdown",
      "source": [
        "#### What is the type of padding used, dynamic or static?"
      ],
      "metadata": {
        "id": "rrcrXjZzVopb"
      }
    },
    {
      "cell_type": "markdown",
      "source": [
        "#### If you are writing your custom tokenizer, what should be the format/type of its output?"
      ],
      "metadata": {
        "id": "mtuRGDcMX1QS"
      }
    },
    {
      "cell_type": "markdown",
      "source": [
        "#### How to pass the input to the model?"
      ],
      "metadata": {
        "id": "Q2fzQkQLY9uq"
      }
    },
    {
      "cell_type": "code",
      "source": [
        "from transformers import AutoModel\n",
        "model = AutoModel.from_pretrained(model_checkpoint)"
      ],
      "metadata": {
        "id": "Jlif_mpqZF7v",
        "colab": {
          "base_uri": "https://localhost:8080/",
          "height": 49,
          "referenced_widgets": [
            "4245bb4471fb4f2a9f84bf947160298c",
            "ca5ae67c4f9b4bad9066d70c2c30c8b1",
            "9aa924c6ad7e4303bad50b91d79bda08",
            "306001e893b948509d1989f6d85666b2",
            "84800d9d4c5d489ea577d801accc8315",
            "b69e2a4862d54135b8240282dfa1f3da",
            "b69d7b89d4874a019bf2e89be9547a2f",
            "c1bd8b68ccc54190840b0689a745610c",
            "f1f28d712e0740008db3f96d4d59ef8e",
            "cf20cd8f9eb748feb20c09bd4d531ae3",
            "52951aba2c5d47b8bf977fceab2d573f"
          ]
        },
        "outputId": "dbc0c355-3ed7-4347-fd2b-0c691c2fe9af"
      },
      "execution_count": null,
      "outputs": [
        {
          "output_type": "display_data",
          "data": {
            "text/plain": [
              "model.safetensors:   0%|          | 0.00/268M [00:00<?, ?B/s]"
            ],
            "application/vnd.jupyter.widget-view+json": {
              "version_major": 2,
              "version_minor": 0,
              "model_id": "4245bb4471fb4f2a9f84bf947160298c"
            }
          },
          "metadata": {}
        }
      ]
    },
    {
      "cell_type": "markdown",
      "source": [
        "#### How to see model's architecture?"
      ],
      "metadata": {
        "id": "gieIkV1CZ02b"
      }
    },
    {
      "cell_type": "code",
      "source": [
        "pprint(model)"
      ],
      "metadata": {
        "id": "4Zk-p2CFQPiT",
        "outputId": "b8d15702-40c2-436a-cc94-59eca82273db",
        "colab": {
          "base_uri": "https://localhost:8080/"
        }
      },
      "execution_count": null,
      "outputs": [
        {
          "output_type": "stream",
          "name": "stdout",
          "text": [
            "DistilBertModel(\n",
            "  (embeddings): Embeddings(\n",
            "    (word_embeddings): Embedding(30522, 768, padding_idx=0)\n",
            "    (position_embeddings): Embedding(512, 768)\n",
            "    (LayerNorm): LayerNorm((768,), eps=1e-12, elementwise_affine=True)\n",
            "    (dropout): Dropout(p=0.1, inplace=False)\n",
            "  )\n",
            "  (transformer): Transformer(\n",
            "    (layer): ModuleList(\n",
            "      (0-5): 6 x TransformerBlock(\n",
            "        (attention): DistilBertSdpaAttention(\n",
            "          (dropout): Dropout(p=0.1, inplace=False)\n",
            "          (q_lin): Linear(in_features=768, out_features=768, bias=True)\n",
            "          (k_lin): Linear(in_features=768, out_features=768, bias=True)\n",
            "          (v_lin): Linear(in_features=768, out_features=768, bias=True)\n",
            "          (out_lin): Linear(in_features=768, out_features=768, bias=True)\n",
            "        )\n",
            "        (sa_layer_norm): LayerNorm((768,), eps=1e-12, elementwise_affine=True)\n",
            "        (ffn): FFN(\n",
            "          (dropout): Dropout(p=0.1, inplace=False)\n",
            "          (lin1): Linear(in_features=768, out_features=3072, bias=True)\n",
            "          (lin2): Linear(in_features=3072, out_features=768, bias=True)\n",
            "          (activation): GELUActivation()\n",
            "        )\n",
            "        (output_layer_norm): LayerNorm((768,), eps=1e-12, elementwise_affine=True)\n",
            "      )\n",
            "    )\n",
            "  )\n",
            ")\n"
          ]
        }
      ]
    },
    {
      "cell_type": "code",
      "source": [
        "# model['Embeddings']\n",
        "model.state_dict()"
      ],
      "metadata": {
        "id": "K49Lp6JEPGCb"
      },
      "execution_count": null,
      "outputs": []
    },
    {
      "cell_type": "code",
      "source": [
        "pprint(model)"
      ],
      "metadata": {
        "id": "mrsCkiOXZXXE"
      },
      "execution_count": null,
      "outputs": []
    },
    {
      "cell_type": "markdown",
      "source": [
        "#### How to see model's configuration?"
      ],
      "metadata": {
        "id": "6WIikzsob2R9"
      }
    },
    {
      "cell_type": "code",
      "source": [
        "pprint(model.config)"
      ],
      "metadata": {
        "id": "YwuF1PcibOI-"
      },
      "execution_count": null,
      "outputs": []
    },
    {
      "cell_type": "code",
      "source": [
        "pprint(model.config.id2label[1])"
      ],
      "metadata": {
        "id": "13dJNNCmaRUm"
      },
      "execution_count": null,
      "outputs": []
    },
    {
      "cell_type": "code",
      "source": [
        "!ls /root/.cache/huggingface/hub/models--distilbert-base-uncased-finetuned-sst-2-english/blobs -lh"
      ],
      "metadata": {
        "id": "P0bKsaQRZmwX"
      },
      "execution_count": null,
      "outputs": []
    },
    {
      "cell_type": "code",
      "source": [
        "!head /root/.cache/huggingface/hub/models--distilbert-base-uncased-finetuned-sst-2-english/blobs/7c3919835e442510166d267fe7cbe847e0c51cd26d9ba07b89a57b952b49b8aa"
      ],
      "metadata": {
        "id": "EhP7PIznahyy"
      },
      "execution_count": null,
      "outputs": []
    },
    {
      "cell_type": "markdown",
      "source": [
        "#### How many parameters are there in the model and what is its size?"
      ],
      "metadata": {
        "id": "_piNZFm4dwDh"
      }
    },
    {
      "cell_type": "code",
      "source": [
        "print(\"No. of parameters in the model:\",model.num_parameters())"
      ],
      "metadata": {
        "id": "T8Au1dw_dvBA"
      },
      "execution_count": null,
      "outputs": []
    },
    {
      "cell_type": "code",
      "source": [
        "print(\"Size of the model\", model.num_parameters()*4/10**6)"
      ],
      "metadata": {
        "id": "8LS3lntHfwCj"
      },
      "execution_count": null,
      "outputs": []
    },
    {
      "cell_type": "markdown",
      "source": [
        "#### How to get output form the model?"
      ],
      "metadata": {
        "id": "XIo6wUGDgShf"
      }
    },
    {
      "cell_type": "code",
      "source": [
        "output=model(**tokenized_text)\n",
        "# print(output)\n",
        "print(output.last_hidden_state)"
      ],
      "metadata": {
        "id": "A7sY8MhqgOj3"
      },
      "execution_count": null,
      "outputs": []
    },
    {
      "cell_type": "code",
      "source": [
        "print(output.last_hidden_state.shape)"
      ],
      "metadata": {
        "id": "t6PWn63NMPFm"
      },
      "execution_count": null,
      "outputs": []
    },
    {
      "cell_type": "markdown",
      "source": [
        "#### Why is \"NativeLayerNormBackward0\" at the end? How to remove it?"
      ],
      "metadata": {
        "id": "AW1gbE9rgu1v"
      }
    },
    {
      "cell_type": "code",
      "source": [
        "with torch.inference_mode():\n",
        "  output=model(**tokenized_text)\n",
        "  print(output)\n",
        "# print(output.last_hidden_state)"
      ],
      "metadata": {
        "id": "whUJeRiug6jd"
      },
      "execution_count": null,
      "outputs": []
    },
    {
      "cell_type": "code",
      "source": [
        "output.last_hidden_state.shape"
      ],
      "metadata": {
        "id": "2QpRrt5ukjN3"
      },
      "execution_count": null,
      "outputs": []
    },
    {
      "cell_type": "markdown",
      "source": [
        "#### How to use the model for classification?"
      ],
      "metadata": {
        "id": "H8HezXddjuTv"
      }
    },
    {
      "cell_type": "code",
      "source": [
        "from transformers import AutoModelForSequenceClassification\n",
        "classification_model = AutoModelForSequenceClassification.from_pretrained(model_checkpoint)"
      ],
      "metadata": {
        "id": "VS_YMwvNjx47"
      },
      "execution_count": null,
      "outputs": []
    },
    {
      "cell_type": "markdown",
      "source": [
        "#### Compare this model with hte previous model"
      ],
      "metadata": {
        "id": "us1ORwlKmJKf"
      }
    },
    {
      "cell_type": "code",
      "source": [
        "pprint(classification_model)"
      ],
      "metadata": {
        "id": "4l2i_VjGmG5P"
      },
      "execution_count": null,
      "outputs": []
    },
    {
      "cell_type": "code",
      "source": [
        "pprint(model)"
      ],
      "metadata": {
        "id": "7VRgv6UDM5G3"
      },
      "execution_count": null,
      "outputs": []
    },
    {
      "cell_type": "code",
      "source": [
        "classification_model(**tokenized_text)"
      ],
      "metadata": {
        "id": "dM62MRYpj6kC"
      },
      "execution_count": null,
      "outputs": []
    },
    {
      "cell_type": "code",
      "source": [
        "logits = classification_model(**tokenized_text)"
      ],
      "metadata": {
        "id": "8HydY7gRm8VK"
      },
      "execution_count": null,
      "outputs": []
    },
    {
      "cell_type": "code",
      "source": [
        "probability_scores = torch.nn.functional.softmax(logits.logits, dim =-1)\n",
        "probability_scores"
      ],
      "metadata": {
        "id": "4or8msI0oWhY"
      },
      "execution_count": null,
      "outputs": []
    },
    {
      "cell_type": "code",
      "source": [
        "predicted_labels = torch.argmax(probability_scores, dim=-1)"
      ],
      "metadata": {
        "id": "i80oxntMN23j"
      },
      "execution_count": null,
      "outputs": []
    },
    {
      "cell_type": "code",
      "source": [
        "predicted_labels"
      ],
      "metadata": {
        "id": "rF302c0ppf9c"
      },
      "execution_count": null,
      "outputs": []
    },
    {
      "cell_type": "code",
      "source": [
        "predicted_classes = [classification_model.config.id2label[label_id] for label_id in predicted_labels.tolist()]\n"
      ],
      "metadata": {
        "id": "r_HM7pDapTf7"
      },
      "execution_count": null,
      "outputs": []
    },
    {
      "cell_type": "code",
      "source": [
        "print(predicted_classes)"
      ],
      "metadata": {
        "id": "VMbake-POquM"
      },
      "execution_count": null,
      "outputs": []
    },
    {
      "cell_type": "markdown",
      "source": [
        "# HF abstraction"
      ],
      "metadata": {
        "id": "d4RHMNRlp95Q"
      }
    },
    {
      "cell_type": "code",
      "source": [
        "from transformers import TextClassificationPipeline\n",
        "aclassifier = TextClassificationPipeline(model = classification_model, tokenizer =tokenizer)"
      ],
      "metadata": {
        "id": "RK_iS5qWqCr9"
      },
      "execution_count": null,
      "outputs": []
    },
    {
      "cell_type": "code",
      "source": [
        "aclassifier(input_text)"
      ],
      "metadata": {
        "id": "OVQKgMBWqbNy"
      },
      "execution_count": null,
      "outputs": []
    },
    {
      "cell_type": "code",
      "source": [],
      "metadata": {
        "id": "6rGxPT_kqgr0"
      },
      "execution_count": null,
      "outputs": []
    },
    {
      "cell_type": "markdown",
      "source": [
        "### pipeline - highest level of abstraction"
      ],
      "metadata": {
        "id": "WU4Bne_K1A51"
      }
    },
    {
      "cell_type": "code",
      "source": [
        "from transformers import pipeline"
      ],
      "metadata": {
        "id": "26ME6AvI1FOj"
      },
      "execution_count": null,
      "outputs": []
    },
    {
      "cell_type": "code",
      "source": [
        "classifier=pipeline('sentiment-analysis')"
      ],
      "metadata": {
        "id": "BxaJnsYR9UJ2"
      },
      "execution_count": null,
      "outputs": []
    },
    {
      "cell_type": "code",
      "source": [
        "classifier('Headphone worked will only for 2 days, after that left one stopped working')"
      ],
      "metadata": {
        "id": "yNzjbFEf1395"
      },
      "execution_count": null,
      "outputs": []
    },
    {
      "cell_type": "code",
      "source": [
        "generator = pipeline('text-generation')"
      ],
      "metadata": {
        "id": "H47lwBZT2CIs"
      },
      "execution_count": null,
      "outputs": []
    },
    {
      "cell_type": "code",
      "source": [
        "generator(\"I will have to skip today's school because\")"
      ],
      "metadata": {
        "id": "HhEH1tQm2bzR"
      },
      "execution_count": null,
      "outputs": []
    },
    {
      "cell_type": "code",
      "source": [
        "dir(generator)"
      ],
      "metadata": {
        "id": "F3-3ihrJ-8gP"
      },
      "execution_count": null,
      "outputs": []
    },
    {
      "cell_type": "code",
      "source": [
        "generator = pipeline(model='distilgpt2')\n",
        "generator(\"I wish I could study longer\")"
      ],
      "metadata": {
        "id": "M3QdAZoY2tJC"
      },
      "execution_count": null,
      "outputs": []
    },
    {
      "cell_type": "code",
      "source": [
        "unmask_model = pipeline('fill-mask')"
      ],
      "metadata": {
        "id": "VxwmGNoD3E8q"
      },
      "execution_count": null,
      "outputs": []
    },
    {
      "cell_type": "code",
      "source": [
        "unmask_model('My mother was so <mask> that I had to leave', top_k=10)"
      ],
      "metadata": {
        "id": "U0jCVyjV3Nnf"
      },
      "execution_count": null,
      "outputs": []
    }
  ]
}